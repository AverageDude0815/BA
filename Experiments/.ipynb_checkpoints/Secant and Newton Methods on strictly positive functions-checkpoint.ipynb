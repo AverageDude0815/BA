{
 "cells": [
  {
   "cell_type": "markdown",
   "metadata": {},
   "source": [
    "Program to test that Naive Secant-Methods do not work on functions without a real root."
   ]
  },
  {
   "cell_type": "code",
   "execution_count": 31,
   "metadata": {},
   "outputs": [
    {
     "name": "stdout",
     "output_type": "stream",
     "text": [
      "Root: 1.0\n"
     ]
    }
   ],
   "source": [
    "def secant_method(f, x0, x1, iterations):\n",
    "    \"\"\"Return the root calculated using the secant method.\"\"\"\n",
    "    for i in range(iterations):\n",
    "        if float(f(x1) - f(x0)) == 0:\n",
    "            return x2\n",
    "        x2 = x1 - f(x1) * (x1 - x0) / float(f(x1) - f(x0))\n",
    "        x0, x1 = x1, x2\n",
    "    return x2\n",
    "\n",
    "def f_example(x):\n",
    "    return x ** 2 - 1\n",
    "\n",
    "x0 = 100\n",
    "root = secant_method(f_example, x0, 30, 50)\n",
    "\n",
    "print(\"Root: {}\".format(root))"
   ]
  },
  {
   "cell_type": "code",
   "execution_count": 33,
   "metadata": {},
   "outputs": [
    {
     "name": "stdout",
     "output_type": "stream",
     "text": [
      "Root: 1.0000000000000269\n"
     ]
    }
   ],
   "source": [
    "from scipy import optimize\n",
    "\n",
    "root = optimize.newton(f_example, x0)\n",
    "\n",
    "print(\"Root: {}\".format(root))"
   ]
  },
  {
   "cell_type": "code",
   "execution_count": null,
   "metadata": {},
   "outputs": [],
   "source": []
  }
 ],
 "metadata": {
  "kernelspec": {
   "display_name": "Python 3",
   "language": "python",
   "name": "python3"
  },
  "language_info": {
   "codemirror_mode": {
    "name": "ipython",
    "version": 3
   },
   "file_extension": ".py",
   "mimetype": "text/x-python",
   "name": "python",
   "nbconvert_exporter": "python",
   "pygments_lexer": "ipython3",
   "version": "3.8.5"
  }
 },
 "nbformat": 4,
 "nbformat_minor": 4
}
