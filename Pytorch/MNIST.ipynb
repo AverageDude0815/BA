{
 "cells": [
  {
   "cell_type": "markdown",
   "metadata": {},
   "source": [
    "# MNIST"
   ]
  },
  {
   "cell_type": "code",
   "execution_count": 1,
   "metadata": {},
   "outputs": [],
   "source": [
    "import matplotlib.pyplot as plt\n",
    "import numpy as np\n",
    "import torch  # Package name: torch (for pip), pytorch (for conda)\n",
    "import torch.nn as nn\n",
    "import torch.nn.functional as F\n",
    "import torch.optim as optim\n",
    "import torch.utils.data as data\n",
    "\n",
    "class BasicDataset(data.Dataset):\n",
    "    def __init__(self, X, y):\n",
    "        self.X = X\n",
    "        self.y = y\n",
    "    \n",
    "    def __getitem__(self, idx):\n",
    "        return dict(X=self.X[idx], y=self.y[idx])\n",
    "    \n",
    "    def __len__(self):\n",
    "        return self.X.shape[0]\n",
    "\n",
    "def train_model(model, dataset, validation_set, learning_rate, batch_size, epochs): \n",
    "    optimizer = optim.SGD(model.parameters(), lr=learning_rate) #ToDo: lr scheduler instead of lr fix\n",
    "    epoch_losses = []\n",
    "    validation_losses = []\n",
    "\n",
    "    # Train linear model using SGD on mini-batches.\n",
    "    for epoch in range(epochs):\n",
    "        # DataLoader generates random batches from a given dataset.\n",
    "        data_loader = data.DataLoader(dataset=dataset, batch_size=batch_size, shuffle=True, drop_last=True)\n",
    "        val_data_loader = data.DataLoader(dataset=validation_set, batch_size=batch_size, shuffle=True, drop_last=True)\n",
    "         # We want to report the training loss after each epoch\n",
    "        epoch_loss = 0.0 \n",
    "\n",
    "        for batch in data_loader:\n",
    "            # After each iteration of the training step, reset the local gradients stored in the network to zero.\n",
    "            model.zero_grad()\n",
    "\n",
    "            # Compute the forward pass.\n",
    "            # Numpy uses doubles by default but Torch expects floats, since the added accuracy of doubles \n",
    "            # is generally not useful for neural networks.\n",
    "            # We fix this issue by changing the datatype of 'X' and 'y' with the .float method.\n",
    "            yhat = model.forward(batch['X'].float())\n",
    "\n",
    "            # Compute the batch error.\n",
    "            batch_loss = F.cross_entropy(yhat, batch['y'].long())\n",
    "            epoch_loss += batch_loss.item()\n",
    "            \n",
    "            # Backpropagate the gradient and adjust the weights.\n",
    "            batch_loss.backward()\n",
    "            optimizer.step()\n",
    "        \n",
    "        # Epoch ended, save values for later plotting and print information\n",
    "        print(f'Epoch {epoch+1}/{epochs} - Loss: {epoch_loss}')\n",
    "        epoch_losses.append(epoch_loss)\n",
    "        \n",
    "        # Calculate validation loss\n",
    "        validation_loss = 0.0\n",
    "        for batch in val_data_loader:\n",
    "            model.zero_grad()\n",
    "            yhat = model.forward(batch['X'].float())\n",
    "            batch_loss = F.cross_entropy(yhat, batch['y'].long())\n",
    "            validation_loss += batch_loss.item()\n",
    "        validation_losses.append(validation_loss)\n",
    "        \n",
    "    return epoch_losses, validation_losses\n",
    "            \n",
    "\n",
    "\n",
    "#Some methods for evaluating results\n",
    "def get_confusion_matrix(y_pred, y_true, n_classes):\n",
    "    assert len(y_pred) == len(y_true)\n",
    "    results = np.zeros(shape=(n_classes, n_classes))\n",
    "    for i in range(len(y_pred)):\n",
    "        results[y_pred[i], y_true[i]] += 1\n",
    "    return results\n",
    "    \n",
    "def precision(y_pred, y_true, n_classes):\n",
    "    precision = np.zeros(shape=n_classes)\n",
    "    confusion_matrix = get_confusion_matrix(y_pred, y_true, n_classes)\n",
    "    for i in range(n_classes):\n",
    "        sum_of_row = confusion_matrix[i].sum()\n",
    "        if confusion_matrix[i, i] != 0:\n",
    "            precision[i] = confusion_matrix[i, i] / sum_of_row\n",
    "    return precision\n",
    "\n",
    "def recall(y_pred, y_true, n_classes):\n",
    "    recall = np.zeros(shape=n_classes)\n",
    "    confusion_matrix = get_confusion_matrix(y_pred, y_true, n_classes)\n",
    "    for i in range(n_classes):\n",
    "        sum_of_column = confusion_matrix[:,i].sum()\n",
    "        if confusion_matrix[i, i] != 0:\n",
    "            recall[i] = confusion_matrix[i, i] / sum_of_column\n",
    "    return recall\n",
    "\n",
    "def f1score(y_pred, y_true, n_classes):\n",
    "    p = precision(y_pred, y_true, n_classes)\n",
    "    r = recall(y_pred, y_true, n_classes)\n",
    "    f1 = np.zeros(shape=n_classes)\n",
    "    for i in range(n_classes):\n",
    "        if r[i] + p[i] != 0:\n",
    "            f1[i] = 2 * p[i] * r[i] / (r[i] + p[i])\n",
    "    return f1"
   ]
  },
  {
   "cell_type": "markdown",
   "metadata": {},
   "source": [
    "## Prepare Data"
   ]
  },
  {
   "cell_type": "code",
   "execution_count": 2,
   "metadata": {},
   "outputs": [
    {
     "name": "stdout",
     "output_type": "stream",
     "text": [
      "Dataset MNIST\n",
      "    Number of datapoints: 60000\n",
      "    Root location: ./data\n",
      "    Split: Train\n",
      "Dataset MNIST\n",
      "    Number of datapoints: 10000\n",
      "    Root location: ./data\n",
      "    Split: Test\n"
     ]
    },
    {
     "name": "stderr",
     "output_type": "stream",
     "text": [
      "C:\\Users\\robin\\anaconda3\\lib\\site-packages\\torchvision\\datasets\\mnist.py:498: UserWarning: The given NumPy array is not writeable, and PyTorch does not support non-writeable tensors. This means you can write to the underlying (supposedly non-writeable) NumPy array using the tensor. You may want to copy the array to protect its data or make it writeable before converting it to a tensor. This type of warning will be suppressed for the rest of this program. (Triggered internally at  ..\\torch\\csrc\\utils\\tensor_numpy.cpp:180.)\n",
      "  return torch.from_numpy(parsed.astype(m[2], copy=False)).view(*s)\n"
     ]
    }
   ],
   "source": [
    "import torchvision.datasets as datasets\n",
    "\n",
    "mnist_trainset = datasets.MNIST(root='./data', train=True, download=True, transform=None)\n",
    "mnist_testset = datasets.MNIST(root='./data', train=False, download=True, transform=None)\n",
    "print(mnist_trainset)\n",
    "print(mnist_testset)"
   ]
  },
  {
   "cell_type": "code",
   "execution_count": 3,
   "metadata": {},
   "outputs": [
    {
     "name": "stderr",
     "output_type": "stream",
     "text": [
      "C:\\Users\\robin\\anaconda3\\lib\\site-packages\\torchvision\\datasets\\mnist.py:62: UserWarning: train_data has been renamed data\n",
      "  warnings.warn(\"train_data has been renamed data\")\n"
     ]
    },
    {
     "name": "stdout",
     "output_type": "stream",
     "text": [
      "X_train: torch.Size([60000, 3, 28, 28])\n",
      "X_test: torch.Size([10000, 3, 28, 28])\n",
      "y_train: torch.Size([60000])\n",
      "y_test: torch.Size([10000])\n"
     ]
    },
    {
     "name": "stderr",
     "output_type": "stream",
     "text": [
      "C:\\Users\\robin\\anaconda3\\lib\\site-packages\\torchvision\\datasets\\mnist.py:67: UserWarning: test_data has been renamed data\n",
      "  warnings.warn(\"test_data has been renamed data\")\n",
      "C:\\Users\\robin\\anaconda3\\lib\\site-packages\\torchvision\\datasets\\mnist.py:52: UserWarning: train_labels has been renamed targets\n",
      "  warnings.warn(\"train_labels has been renamed targets\")\n",
      "C:\\Users\\robin\\anaconda3\\lib\\site-packages\\torchvision\\datasets\\mnist.py:57: UserWarning: test_labels has been renamed targets\n",
      "  warnings.warn(\"test_labels has been renamed targets\")\n"
     ]
    }
   ],
   "source": [
    "def to_rgb(x_grey: torch.Tensor) -> torch.Tensor:\n",
    "    helper = torch.unsqueeze(x_grey, 1)\n",
    "    return helper.repeat(1, 3, 1, 1).float()\n",
    "\n",
    "X_train_grey = mnist_trainset.train_data\n",
    "X_train = to_rgb(X_train_grey)\n",
    "X_test_grey = mnist_testset.test_data\n",
    "X_test = to_rgb(X_test_grey)\n",
    "y_train = mnist_trainset.train_labels\n",
    "y_test = mnist_testset.test_labels\n",
    "print('X_train:', X_train.shape)\n",
    "print('X_test:', X_test.shape)\n",
    "print('y_train:', y_train.shape)\n",
    "print('y_test:', y_test.shape)"
   ]
  },
  {
   "cell_type": "markdown",
   "metadata": {},
   "source": [
    "## Training"
   ]
  },
  {
   "cell_type": "code",
   "execution_count": 4,
   "metadata": {},
   "outputs": [],
   "source": [
    "# Define hyperparameters\n",
    "batch_size = 100\n",
    "learning_rate = 0.01\n",
    "epochs = 2\n",
    "n_classes = 10"
   ]
  },
  {
   "cell_type": "code",
   "execution_count": 5,
   "metadata": {},
   "outputs": [],
   "source": [
    "from torchvision import models\n",
    "\n",
    "debugg = False\n",
    "\n",
    "resnet = models.resnet18(pretrained=False)\n",
    "in_ftr = resnet.fc.in_features\n",
    "out_ftr = n_classes\n",
    "resnet.fc = nn.Linear(in_ftr,out_ftr,bias=True)\n",
    "if debugg:\n",
    "    yhat = resnet.forward(X_test)\n",
    "    print(yhat.shape)\n",
    "    \n",
    "dataset_train = BasicDataset(X_train, y_train)\n",
    "dataset_test = BasicDataset(X_test, y_test)\n",
    "#training_loss, validation_loss = train_model(resnet, dataset_train, dataset_test, learning_rate, batch_size, epochs)"
   ]
  },
  {
   "cell_type": "code",
   "execution_count": 7,
   "metadata": {},
   "outputs": [],
   "source": [
    "#plt.plot(np.array(training_loss) * 64 / len(X_train), label='training loss')\n",
    "#plt.plot(np.array(validation_loss) * 64 / len(X_test), label='validation loss')\n",
    "#plt.xlabel('Epochs')\n",
    "#plt.ylabel('Mean Cross Entropy Loss')\n",
    "#plt.legend()"
   ]
  },
  {
   "cell_type": "code",
   "execution_count": 8,
   "metadata": {},
   "outputs": [
    {
     "name": "stdout",
     "output_type": "stream",
     "text": [
      "True\n",
      "NVIDIA GeForce 940MX\n",
      "0\n"
     ]
    }
   ],
   "source": [
    "print(torch.cuda.is_available())\n",
    "print(torch.cuda.get_device_name())\n",
    "print(torch.cuda.current_device())"
   ]
  },
  {
   "cell_type": "code",
   "execution_count": 9,
   "metadata": {},
   "outputs": [
    {
     "name": "stdout",
     "output_type": "stream",
     "text": [
      "False\n"
     ]
    }
   ],
   "source": [
    "print(X_train.is_cuda)"
   ]
  },
  {
   "cell_type": "code",
   "execution_count": 10,
   "metadata": {},
   "outputs": [
    {
     "name": "stdout",
     "output_type": "stream",
     "text": [
      "False\n",
      "True\n"
     ]
    }
   ],
   "source": [
    "device = torch.device(\"cuda:0\" if torch.cuda.is_available() else \"cpu\")\n",
    "resnet.to(device)\n",
    "X_train.to(device)\n",
    "print(X_train.is_cuda)\n",
    "print(X_train.to(device).is_cuda)"
   ]
  },
  {
   "cell_type": "code",
   "execution_count": 11,
   "metadata": {},
   "outputs": [],
   "source": [
    "def train_model_gpu(model, dataset, validation_set, learning_rate, batch_size, epochs): \n",
    "    optimizer = optim.SGD(model.parameters(), lr=learning_rate) #ToDo: lr scheduler instead of lr fix\n",
    "    epoch_losses = []\n",
    "    validation_losses = []\n",
    "\n",
    "    # Train linear model using SGD on mini-batches.\n",
    "    for epoch in range(epochs):\n",
    "        # DataLoader generates random batches from a given dataset.\n",
    "        data_loader = data.DataLoader(dataset=dataset, batch_size=batch_size, shuffle=True, drop_last=True)\n",
    "        val_data_loader = data.DataLoader(dataset=validation_set, batch_size=batch_size, shuffle=True, drop_last=True)\n",
    "         # We want to report the training loss after each epoch\n",
    "        epoch_loss = 0.0 \n",
    "\n",
    "        for batch in data_loader:\n",
    "            # After each iteration of the training step, reset the local gradients stored in the network to zero.\n",
    "            model.zero_grad()\n",
    "\n",
    "            # Compute the forward pass.\n",
    "            # Numpy uses doubles by default but Torch expects floats, since the added accuracy of doubles \n",
    "            # is generally not useful for neural networks.\n",
    "            # We fix this issue by changing the datatype of 'X' and 'y' with the .float method.\n",
    "            yhat = model.forward(batch['X'].float().to(device))\n",
    "\n",
    "            # Compute the batch error.\n",
    "            batch_loss = F.cross_entropy(yhat, batch['y'].long().to(device))\n",
    "            epoch_loss += batch_loss.item()\n",
    "            \n",
    "            # Backpropagate the gradient and adjust the weights.\n",
    "            batch_loss.backward()\n",
    "            optimizer.step()\n",
    "        \n",
    "        # Epoch ended, save values for later plotting and print information\n",
    "        print(f'Epoch {epoch+1}/{epochs} - Loss: {epoch_loss}')\n",
    "        epoch_losses.append(epoch_loss)\n",
    "        \n",
    "        # Calculate validation loss\n",
    "        validation_loss = 0.0\n",
    "        for batch in val_data_loader:\n",
    "            model.zero_grad()\n",
    "            yhat = model.forward(batch['X'].float().to(device))\n",
    "            batch_loss = F.cross_entropy(yhat, batch['y'].long().to(device))\n",
    "            validation_loss += batch_loss.item()\n",
    "        validation_losses.append(validation_loss)\n",
    "        \n",
    "    return epoch_losses, validation_losses"
   ]
  },
  {
   "cell_type": "code",
   "execution_count": 12,
   "metadata": {},
   "outputs": [
    {
     "name": "stderr",
     "output_type": "stream",
     "text": [
      "C:\\Users\\robin\\anaconda3\\lib\\site-packages\\torch\\nn\\functional.py:718: UserWarning: Named tensors and all their associated APIs are an experimental feature and subject to change. Please do not use them for anything important until they are released as stable. (Triggered internally at  ..\\c10/core/TensorImpl.h:1156.)\n",
      "  return torch.max_pool2d(input, kernel_size, stride, padding, dilation, ceil_mode)\n"
     ]
    },
    {
     "name": "stdout",
     "output_type": "stream",
     "text": [
      "Epoch 1/2 - Loss: 105.34804528951645\n",
      "Epoch 2/2 - Loss: 27.602056479547173\n"
     ]
    }
   ],
   "source": [
    "training_loss, validation_loss = train_model_gpu(resnet.to(device), dataset_train, dataset_test,\n",
    "                                             learning_rate, batch_size, epochs)"
   ]
  },
  {
   "cell_type": "code",
   "execution_count": 13,
   "metadata": {},
   "outputs": [
    {
     "name": "stdout",
     "output_type": "stream",
     "text": [
      "Epoch 1/2 - Loss: 14.686515472014435\n",
      "Epoch 2/2 - Loss: 8.221354796900414\n"
     ]
    }
   ],
   "source": [
    "#check if model is updated or has to be returned\n",
    "\n",
    "training_loss, validation_loss = train_model_gpu(resnet.to(device), dataset_train, dataset_test,\n",
    "                                             learning_rate, batch_size, epochs)"
   ]
  },
  {
   "cell_type": "code",
   "execution_count": 14,
   "metadata": {},
   "outputs": [
    {
     "data": {
      "text/plain": [
       "<matplotlib.legend.Legend at 0x20d2e5eca00>"
      ]
     },
     "execution_count": 14,
     "metadata": {},
     "output_type": "execute_result"
    },
    {
     "data": {
      "image/png": "[encoded data removed]",
      "text/plain": [
       "<Figure size 432x288 with 1 Axes>"
      ]
     },
     "metadata": {
      "needs_background": "light"
     },
     "output_type": "display_data"
    }
   ],
   "source": [
    "plt.plot(np.array(training_loss) * 64 / len(X_train), label='training loss')\n",
    "plt.plot(np.array(validation_loss) * 64 / len(X_test), label='validation loss')\n",
    "plt.xlabel('Epochs')\n",
    "plt.ylabel('Mean Cross Entropy Loss')\n",
    "plt.legend()"
   ]
  },
  {
   "cell_type": "code",
   "execution_count": 1,
   "metadata": {},
   "outputs": [
    {
     "ename": "NameError",
     "evalue": "name 'resnet' is not defined",
     "output_type": "error",
     "traceback": [
      "\u001b[1;31m---------------------------------------------------------------------------\u001b[0m",
      "\u001b[1;31mNameError\u001b[0m                                 Traceback (most recent call last)",
      "\u001b[1;32m<ipython-input-1-720a0878270a>\u001b[0m in \u001b[0;36m<module>\u001b[1;34m\u001b[0m\n\u001b[1;32m----> 1\u001b[1;33m \u001b[0mresnet\u001b[0m\u001b[1;33m.\u001b[0m\u001b[0mforward\u001b[0m\u001b[1;33m(\u001b[0m\u001b[0mX_test\u001b[0m\u001b[1;33m[\u001b[0m\u001b[1;33m:\u001b[0m\u001b[1;36m10\u001b[0m\u001b[1;33m]\u001b[0m\u001b[1;33m.\u001b[0m\u001b[0mto\u001b[0m\u001b[1;33m(\u001b[0m\u001b[0mdevice\u001b[0m\u001b[1;33m)\u001b[0m\u001b[1;33m)\u001b[0m\u001b[1;33m\u001b[0m\u001b[1;33m\u001b[0m\u001b[0m\n\u001b[0m",
      "\u001b[1;31mNameError\u001b[0m: name 'resnet' is not defined"
     ]
    }
   ],
   "source": [
    "resnet.forward(X_test[:10].to(device))"
   ]
  },
  {
   "cell_type": "code",
   "execution_count": null,
   "metadata": {},
   "outputs": [],
   "source": []
  }
 ],
 "metadata": {
  "kernelspec": {
   "display_name": "Python 3",
   "language": "python",
   "name": "python3"
  },
  "language_info": {
   "codemirror_mode": {
    "name": "ipython",
    "version": 3
   },
   "file_extension": ".py",
   "mimetype": "text/x-python",
   "name": "python",
   "nbconvert_exporter": "python",
   "pygments_lexer": "ipython3",
   "version": "3.8.5"
  }
 },
 "nbformat": 4,
 "nbformat_minor": 4
}
