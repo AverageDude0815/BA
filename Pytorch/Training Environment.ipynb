{
 "cells": [
  {
   "cell_type": "markdown",
   "metadata": {},
   "source": [
    "# Training Environment"
   ]
  },
  {
   "cell_type": "code",
   "execution_count": 1,
   "metadata": {},
   "outputs": [],
   "source": [
    "import matplotlib.pyplot as plt\n",
    "import numpy as np\n",
    "import torch  # Package name: torch (for pip), pytorch (for conda)\n",
    "import torch.nn as nn\n",
    "import torch.nn.functional as F\n",
    "import torch.optim as optim\n",
    "import torch.utils.data as data\n",
    "\n",
    "class BasicDataset(data.Dataset):\n",
    "    def __init__(self, X, y):\n",
    "        self.X = X\n",
    "        self.y = y\n",
    "    \n",
    "    def __getitem__(self, idx):\n",
    "        return dict(X=self.X[idx], y=self.y[idx])\n",
    "    \n",
    "    def __len__(self):\n",
    "        return self.X.shape[0]"
   ]
  },
  {
   "cell_type": "markdown",
   "metadata": {},
   "source": [
    "## Prepare Data"
   ]
  },
  {
   "cell_type": "code",
   "execution_count": 2,
   "metadata": {},
   "outputs": [
    {
     "name": "stdout",
     "output_type": "stream",
     "text": [
      "Files already downloaded and verified\n",
      "Files already downloaded and verified\n",
      "Dataset CIFAR10\n",
      "    Number of datapoints: 50000\n",
      "    Root location: ./data\n",
      "    Split: Train\n",
      "Dataset CIFAR10\n",
      "    Number of datapoints: 10000\n",
      "    Root location: ./data\n",
      "    Split: Test\n"
     ]
    }
   ],
   "source": [
    "import torchvision.datasets as datasets\n",
    "\n",
    "mnist = False\n",
    "cifar10 = True\n",
    "cifar100 = False\n",
    "assert mnist ^ cifar10 ^ cifar100\n",
    "\n",
    "n_classes = 10\n",
    "if mnist:\n",
    "    trainset = datasets.MNIST(root='./data', train=True, download=True, transform=None)\n",
    "    testset = datasets.MNIST(root='./data', train=False, download=True, transform=None)\n",
    "if cifar10:\n",
    "    trainset = datasets.CIFAR10(root='./data', train=True, download=True, transform=None)\n",
    "    testset = datasets.CIFAR10(root='./data', train=False, download=True, transform=None)\n",
    "if cifar100:\n",
    "    n_classes = 100\n",
    "    trainset = datasets.CIFAR100(root='./data', train=True, download=True, transform=None)\n",
    "    testset = datasets.CIFAR100(root='./data', train=False, download=True, transform=None)\n",
    "\n",
    "print(trainset)\n",
    "print(testset)"
   ]
  },
  {
   "cell_type": "code",
   "execution_count": 3,
   "metadata": {},
   "outputs": [
    {
     "name": "stdout",
     "output_type": "stream",
     "text": [
      "X_train: torch.Size([50000, 3, 32, 32])\n",
      "y_train: torch.Size([50000])\n",
      "X_test: torch.Size([10000, 3, 32, 32])\n",
      "y_test: torch.Size([10000])\n"
     ]
    }
   ],
   "source": [
    "def to_rgb(x_grey: torch.Tensor) -> torch.Tensor:\n",
    "    if len(x_grey.size()) == 3:\n",
    "        helper = torch.unsqueeze(x_grey, 1)\n",
    "        return helper.repeat(1, 3, 1, 1).float()\n",
    "    elif len(x_grey.size()) == 4 and x_grey.size()[1] == 1:\n",
    "        return x_grey.repeat(1, 3, 1, 1).float()\n",
    "    elif len(x_grey.size()) == 4 and x_grey.size()[1] == 3:\n",
    "        return x_grey\n",
    "    elif len(x_grey.size()) == 4:\n",
    "        raise ValueError(f'The size of this image tensor is not valid.\\\n",
    "        A 4th order image tensor must have dim1==1 (grey-scale) or dim1==3 (rgb).\\\n",
    "        Unknown format cannot be transformed to rgb.')\n",
    "    else:\n",
    "        raise ValueError(f'The size of this image-tensor is not valid.\\\n",
    "        Must be either 3rd (grey-scale) order tensor or 4th order tensor (rgb).\\\n",
    "        Got order {len(x_grey.size())}')\n",
    "        \n",
    "def swap_data(X):\n",
    "    X1 = np.swapaxes(X, 1, 3)\n",
    "    X2 = np.swapaxes(X1, 2, 3)\n",
    "    return X2\n",
    "\n",
    "if mnist:\n",
    "    X_train_grey = trainset.train_data\n",
    "    X_train = to_rgb(X_train_grey)\n",
    "    X_test_grey = testset.test_data\n",
    "    X_test = to_rgb(X_test_grey)\n",
    "    y_train = trainset.train_labels\n",
    "    y_test = testset.test_labels\n",
    "else:\n",
    "    X_train = torch.tensor(swap_data(trainset.data))\n",
    "    y_train = torch.tensor(trainset.targets)\n",
    "    X_test = torch.tensor(swap_data(testset.data))\n",
    "    y_test = torch.tensor(testset.targets)\n",
    "    \n",
    "print('X_train:', X_train.shape)\n",
    "print('y_train:', y_train.shape)\n",
    "print('X_test:', X_test.shape)\n",
    "print('y_test:', y_test.shape)"
   ]
  },
  {
   "cell_type": "markdown",
   "metadata": {},
   "source": [
    "## Model load, modifications and GPU optimization"
   ]
  },
  {
   "cell_type": "code",
   "execution_count": 4,
   "metadata": {},
   "outputs": [
    {
     "name": "stdout",
     "output_type": "stream",
     "text": [
      "X_train: torch.Size([256, 10])\n",
      "y_train: torch.Size([256])\n",
      "X_test: torch.Size([256, 10])\n",
      "y_test: torch.Size([256])\n",
      "Parameter containing:\n",
      "tensor([[-0.0307,  0.1358, -0.0368, -0.0422,  0.3025, -0.1505,  0.0907,  0.2641,\n",
      "          0.1772, -0.0982],\n",
      "        [-0.0499, -0.2237,  0.0668,  0.0828,  0.2420, -0.2718,  0.0835,  0.2897,\n",
      "          0.1669,  0.2974],\n",
      "        [-0.2263, -0.3051,  0.0991, -0.2579,  0.0698, -0.0645,  0.1596, -0.2823,\n",
      "          0.2093,  0.3030],\n",
      "        [ 0.1678, -0.2800, -0.1675, -0.0903, -0.0736,  0.2535, -0.2156, -0.0693,\n",
      "          0.2214, -0.0740],\n",
      "        [ 0.0404, -0.0801, -0.0873, -0.0432, -0.2931, -0.2614, -0.2044,  0.3128,\n",
      "          0.3118,  0.2880],\n",
      "        [-0.0824,  0.0239,  0.3014, -0.0298, -0.3021, -0.0788, -0.0471, -0.1353,\n",
      "         -0.0611, -0.0636],\n",
      "        [-0.0420, -0.1355, -0.0762,  0.1873,  0.2776,  0.3024,  0.1973, -0.2825,\n",
      "          0.3017, -0.2270],\n",
      "        [ 0.2911,  0.1270, -0.2400,  0.0685, -0.1103, -0.2818,  0.1577, -0.0409,\n",
      "          0.2809,  0.2704],\n",
      "        [ 0.2723, -0.1110, -0.0573, -0.1249,  0.0560, -0.3064,  0.0026, -0.1962,\n",
      "          0.0152,  0.1414],\n",
      "        [ 0.1333,  0.0979,  0.2745,  0.1944, -0.3043,  0.2162,  0.0217, -0.2760,\n",
      "         -0.1374,  0.0180]], requires_grad=True)\n",
      "Parameter containing:\n",
      "tensor([ 0.2057, -0.2169, -0.1202, -0.1367, -0.1297, -0.1764, -0.2756,  0.0659,\n",
      "         0.1241, -0.2031], requires_grad=True)\n",
      "Parameter containing:\n",
      "tensor([[-0.3046,  0.2104, -0.1273, -0.2131,  0.2745, -0.3051, -0.0776,  0.0997,\n",
      "         -0.1458,  0.0538],\n",
      "        [-0.1922, -0.0659, -0.1942, -0.1498,  0.2258,  0.0309, -0.2359,  0.0757,\n",
      "         -0.0637,  0.2616],\n",
      "        [ 0.1609, -0.0869, -0.1721, -0.2505,  0.2684, -0.2718,  0.1846,  0.1231,\n",
      "         -0.2976, -0.1628],\n",
      "        [-0.3112, -0.2346, -0.2763, -0.0315, -0.1602, -0.0729, -0.2051, -0.2751,\n",
      "          0.2031,  0.0551],\n",
      "        [-0.0782,  0.0084,  0.0724, -0.0857,  0.1319, -0.1139, -0.2603,  0.1336,\n",
      "          0.2207,  0.1591],\n",
      "        [-0.0995,  0.2685,  0.1448,  0.0445, -0.1821, -0.1157,  0.2048, -0.0757,\n",
      "          0.0043,  0.2685],\n",
      "        [-0.1348,  0.2288, -0.0973, -0.0015,  0.1221,  0.0078,  0.0417,  0.2495,\n",
      "         -0.1759, -0.2033],\n",
      "        [-0.0948, -0.2972,  0.0630,  0.2993, -0.1058, -0.2300, -0.2822,  0.1344,\n",
      "         -0.0026,  0.0454],\n",
      "        [-0.1454, -0.0066, -0.1433,  0.1991, -0.0202, -0.1045,  0.2825, -0.2434,\n",
      "         -0.0332, -0.0325],\n",
      "        [-0.2724,  0.2923, -0.3041, -0.2016,  0.1354,  0.2401, -0.2301,  0.1740,\n",
      "          0.1919,  0.1738]], requires_grad=True)\n",
      "Parameter containing:\n",
      "tensor([-3.1133e-01,  3.1121e-02,  3.1224e-01,  1.0484e-01, -1.3572e-03,\n",
      "         6.7353e-06,  1.9083e-01, -2.0748e-01, -3.1228e-01, -3.1960e-02],\n",
      "       requires_grad=True)\n"
     ]
    }
   ],
   "source": [
    "from torchvision import models\n",
    "\n",
    "'''\n",
    "model = models.resnet18(pretrained=False) # set model here\n",
    "in_ftr = model.fc.in_features\n",
    "out_ftr = n_classes\n",
    "model.fc = nn.Linear(in_ftr,out_ftr,bias=True)\n",
    "'''\n",
    "\n",
    "# redefining stuff for AdaSecant test runs\n",
    "X_train = torch.rand(256, 10)\n",
    "X_test = torch.rand(256, 10)\n",
    "y_train = torch.randint(10, (256,))\n",
    "y_test = torch.randint(10, (256,))\n",
    "\n",
    "print('X_train:', X_train.shape)\n",
    "print('y_train:', y_train.shape)\n",
    "print('X_test:', X_test.shape)\n",
    "print('y_test:', y_test.shape)\n",
    "\n",
    "model = torch.nn.Sequential(nn.Linear(10, 10), nn.Linear(10, 10))\n",
    "for param in model.parameters():\n",
    "    print(param)\n",
    "\n",
    "dataset_train = BasicDataset(X_train, y_train)\n",
    "dataset_test = BasicDataset(X_test, y_test)"
   ]
  },
  {
   "cell_type": "markdown",
   "metadata": {},
   "source": [
    "Check specs for GPU-based training."
   ]
  },
  {
   "cell_type": "code",
   "execution_count": 5,
   "metadata": {},
   "outputs": [
    {
     "name": "stdout",
     "output_type": "stream",
     "text": [
      "cuda available: True\n",
      "cuda device name: NVIDIA GeForce 940MX\n",
      "cuda device id 0\n"
     ]
    }
   ],
   "source": [
    "print('cuda available:', torch.cuda.is_available())\n",
    "print('cuda device name:', torch.cuda.get_device_name())\n",
    "print('cuda device id', torch.cuda.current_device())"
   ]
  },
  {
   "cell_type": "markdown",
   "metadata": {},
   "source": [
    "Move model and data to GPU."
   ]
  },
  {
   "cell_type": "code",
   "execution_count": 6,
   "metadata": {},
   "outputs": [
    {
     "name": "stdout",
     "output_type": "stream",
     "text": [
      "worked? True\n"
     ]
    }
   ],
   "source": [
    "device = torch.device(\"cuda:0\" if torch.cuda.is_available() else \"cpu\")\n",
    "model.to(device)\n",
    "X_train.to(device)\n",
    "print('worked?', X_train.to(device).is_cuda)"
   ]
  },
  {
   "cell_type": "markdown",
   "metadata": {},
   "source": [
    "## Implementing AdaSecant\n",
    "https://github.com/pytorch/pytorch/blob/master/torch/optim/sgd.py"
   ]
  },
  {
   "cell_type": "code",
   "execution_count": 19,
   "metadata": {},
   "outputs": [],
   "source": [
    "from typing import List\n",
    "\n",
    "class AdaSecant(optim.Optimizer):\n",
    "    r\"\"\"Documentation\n",
    "    Basis copied from https://github.com/pytorch/pytorch/blob/master/torch/optim/sgd.py.\n",
    "    Left out closure, momentum-related stuff, __setstate__ as it does not seem to be necessary.\n",
    "    \"\"\"\n",
    "\n",
    "    def __init__(self, params, lr=None):\n",
    "        if lr is not None:\n",
    "            print('Warning: lr is not a parameter for AdaSecant. Your lr will be set to None')\n",
    "            lr = None\n",
    "        defaults = dict(lr=lr)\n",
    "        super().__init__(params, defaults)\n",
    "        # here we need to introduce some attribute to save params/gradients from old batch.\n",
    "        self.moving_average_of_g = None\n",
    "        self.delta = None\n",
    "        self.memory_size = None\n",
    "        self.gradients = None\n",
    "\n",
    "    @torch.no_grad()\n",
    "    def step(self):\n",
    "        \"\"\"Performs a single optimization step.\n",
    "        \"\"\"\n",
    "\n",
    "        for group in self.param_groups:\n",
    "            # all parameters of a model seem to be contained within the same group\n",
    "            params_with_grad = []\n",
    "            d_p_list = []\n",
    "            \n",
    "            # ToDo: update old params/gradients\n",
    "\n",
    "            for p in group['params']:\n",
    "                # subgrouping of parameters for each layer, bias and weights separately (each tensor)\n",
    "                if p.grad is not None:\n",
    "                    params_with_grad.append(p)\n",
    "                    d_p_list.append(p.grad)\n",
    "                    state = self.state[p]\n",
    "\n",
    "            #adasecant(self, params_with_grad, d_p_list)\n",
    "            \n",
    "        return #loss\n",
    "    \n",
    "def adasecant(optimizer: AdaSecant, params: List[torch.Tensor], d_p_list: List[torch.Tensor]):\n",
    "    # d_p_list[i] corresponds to param[i]\n",
    "    for i, param in enumerate(params):\n",
    "        g = d_p_list[i]\n",
    "        correction_term = None # to be implemented\n",
    "        corrected_gradient = None # to be implemented\n",
    "        \n",
    "        \n",
    "    # update all attributes in optimizer\n",
    "    optimizer.gradients = g\n",
    "    # ...\n",
    "    pass"
   ]
  },
  {
   "cell_type": "markdown",
   "metadata": {},
   "source": [
    "## Training"
   ]
  },
  {
   "cell_type": "code",
   "execution_count": 20,
   "metadata": {},
   "outputs": [],
   "source": [
    "def evaluate_model(model, dataset, batch_size=1000):\n",
    "    \n",
    "    data_loader = data.DataLoader(dataset=dataset, batch_size=batch_size, shuffle=False, drop_last=False)\n",
    "    loss = 0.0\n",
    "    correct = 0\n",
    "    \n",
    "    for batch in data_loader:\n",
    "        yhat = model.forward(batch['X'].float().to(device))\n",
    "        y = batch['y'].long().to(device)\n",
    "        batch_loss = f_loss(yhat, y)\n",
    "        loss += batch_loss.item() * len(batch['X'])\n",
    "        correct += (torch.argmax(yhat, dim=1) == y).float().sum().item()\n",
    "    accuracy = correct / len(dataset)\n",
    "    \n",
    "    return loss, accuracy\n",
    "\n",
    "def get_scheduler(optimizer, base_lr, max_lr, epochs_per_cycle, len_dataset, batch_size):\n",
    "    if epochs_per_cycle is None:\n",
    "        epochs_per_cycle = epochs\n",
    "    iterations_per_cycle = epochs_per_cycle * (len_dataset // batch_size)\n",
    "    return torch.optim.lr_scheduler.CyclicLR(optimizer, base_lr, max_lr, step_size_up=iterations_per_cycle / 2)"
   ]
  },
  {
   "cell_type": "code",
   "execution_count": 21,
   "metadata": {},
   "outputs": [],
   "source": [
    "def train_model(model, dataset, validation_set, base_lr=0.01, max_lr=0.01, batch_size=64, epochs=1, \n",
    "                f_opt=optim.SGD, f_loss=F.cross_entropy, epochs_per_cycle=None):\n",
    "    \n",
    "    optimizer = f_opt(model.parameters(), lr=base_lr)\n",
    "    #scheduler = get_scheduler(optimizer, base_lr, max_lr, epochs_per_cycle, len(dataset), batch_size)\n",
    "    lr_history = []\n",
    "    validation_accuracy = []\n",
    "    epoch_losses = []\n",
    "    validation_losses = []\n",
    "    \n",
    "    # evaluate initial state of model\n",
    "    initial_training_loss, _ = evaluate_model(model, dataset)\n",
    "    epoch_losses.append(initial_training_loss)\n",
    "    validation_loss, accuracy = evaluate_model(model, validation_set)\n",
    "    validation_losses.append(validation_loss)\n",
    "    validation_accuracy.append(accuracy)\n",
    "\n",
    "    for epoch in range(epochs):\n",
    "        # training and epoch loss logging\n",
    "        # drop last to avoid stochastic outliers in gradient update\n",
    "        data_loader = data.DataLoader(dataset=dataset, batch_size=batch_size, shuffle=True, drop_last=True)\n",
    "        epoch_loss = 0.0 \n",
    "        for batch in data_loader:\n",
    "            model.zero_grad()\n",
    "            yhat = model.forward(batch['X'].float().to(device))\n",
    "            batch_loss = f_loss(yhat, batch['y'].long().to(device))\n",
    "            epoch_loss += batch_loss.item() * len(batch['X'])\n",
    "            batch_loss.backward()\n",
    "            optimizer.step()\n",
    "            #scheduler.step()\n",
    "            #lr_history.append(scheduler.get_last_lr()[0])\n",
    "        print(f'Epoch {epoch+1}/{epochs} - Loss: {epoch_loss / len(dataset)}') # - LR: {scheduler.get_last_lr()[0]}\n",
    "        epoch_losses.append(epoch_loss)\n",
    "        \n",
    "        # calculate validation loss and accuracy\n",
    "        validation_loss, accuracy = evaluate_model(model, validation_set)\n",
    "        validation_losses.append(validation_loss)\n",
    "        validation_accuracy.append(accuracy)\n",
    "        \n",
    "    return (np.array(epoch_losses) / len(dataset), \n",
    "            np.array(validation_losses) / len(validation_set), \n",
    "            validation_accuracy, \n",
    "            lr_history)"
   ]
  },
  {
   "cell_type": "code",
   "execution_count": 22,
   "metadata": {},
   "outputs": [
    {
     "name": "stdout",
     "output_type": "stream",
     "text": [
      "Warning: lr is not a parameter for AdaSecant. Your lr will be set to None\n",
      "new group\n",
      "new p\n",
      "Parameter containing:\n",
      "tensor([[-0.0307,  0.1358, -0.0368, -0.0422,  0.3025, -0.1505,  0.0907,  0.2641,\n",
      "          0.1772, -0.0982],\n",
      "        [-0.0499, -0.2237,  0.0668,  0.0828,  0.2420, -0.2718,  0.0835,  0.2897,\n",
      "          0.1669,  0.2974],\n",
      "        [-0.2263, -0.3051,  0.0991, -0.2579,  0.0698, -0.0645,  0.1596, -0.2823,\n",
      "          0.2093,  0.3030],\n",
      "        [ 0.1678, -0.2800, -0.1675, -0.0903, -0.0736,  0.2535, -0.2156, -0.0693,\n",
      "          0.2214, -0.0740],\n",
      "        [ 0.0404, -0.0801, -0.0873, -0.0432, -0.2931, -0.2614, -0.2044,  0.3128,\n",
      "          0.3118,  0.2880],\n",
      "        [-0.0824,  0.0239,  0.3014, -0.0298, -0.3021, -0.0788, -0.0471, -0.1353,\n",
      "         -0.0611, -0.0636],\n",
      "        [-0.0420, -0.1355, -0.0762,  0.1873,  0.2776,  0.3024,  0.1973, -0.2825,\n",
      "          0.3017, -0.2270],\n",
      "        [ 0.2911,  0.1270, -0.2400,  0.0685, -0.1103, -0.2818,  0.1577, -0.0409,\n",
      "          0.2809,  0.2704],\n",
      "        [ 0.2723, -0.1110, -0.0573, -0.1249,  0.0560, -0.3064,  0.0026, -0.1962,\n",
      "          0.0152,  0.1414],\n",
      "        [ 0.1333,  0.0979,  0.2745,  0.1944, -0.3043,  0.2162,  0.0217, -0.2760,\n",
      "         -0.1374,  0.0180]], device='cuda:0', requires_grad=True)\n",
      "new p\n",
      "Parameter containing:\n",
      "tensor([ 0.2057, -0.2169, -0.1202, -0.1367, -0.1297, -0.1764, -0.2756,  0.0659,\n",
      "         0.1241, -0.2031], device='cuda:0', requires_grad=True)\n",
      "new p\n",
      "Parameter containing:\n",
      "tensor([[-0.3046,  0.2104, -0.1273, -0.2131,  0.2745, -0.3051, -0.0776,  0.0997,\n",
      "         -0.1458,  0.0538],\n",
      "        [-0.1922, -0.0659, -0.1942, -0.1498,  0.2258,  0.0309, -0.2359,  0.0757,\n",
      "         -0.0637,  0.2616],\n",
      "        [ 0.1609, -0.0869, -0.1721, -0.2505,  0.2684, -0.2718,  0.1846,  0.1231,\n",
      "         -0.2976, -0.1628],\n",
      "        [-0.3112, -0.2346, -0.2763, -0.0315, -0.1602, -0.0729, -0.2051, -0.2751,\n",
      "          0.2031,  0.0551],\n",
      "        [-0.0782,  0.0084,  0.0724, -0.0857,  0.1319, -0.1139, -0.2603,  0.1336,\n",
      "          0.2207,  0.1591],\n",
      "        [-0.0995,  0.2685,  0.1448,  0.0445, -0.1821, -0.1157,  0.2048, -0.0757,\n",
      "          0.0043,  0.2685],\n",
      "        [-0.1348,  0.2288, -0.0973, -0.0015,  0.1221,  0.0078,  0.0417,  0.2495,\n",
      "         -0.1759, -0.2033],\n",
      "        [-0.0948, -0.2972,  0.0630,  0.2993, -0.1058, -0.2300, -0.2822,  0.1344,\n",
      "         -0.0026,  0.0454],\n",
      "        [-0.1454, -0.0066, -0.1433,  0.1991, -0.0202, -0.1045,  0.2825, -0.2434,\n",
      "         -0.0332, -0.0325],\n",
      "        [-0.2724,  0.2923, -0.3041, -0.2016,  0.1354,  0.2401, -0.2301,  0.1740,\n",
      "          0.1919,  0.1738]], device='cuda:0', requires_grad=True)\n",
      "new p\n",
      "Parameter containing:\n",
      "tensor([-3.1133e-01,  3.1121e-02,  3.1224e-01,  1.0484e-01, -1.3572e-03,\n",
      "         6.7353e-06,  1.9083e-01, -2.0748e-01, -3.1228e-01, -3.1960e-02],\n",
      "       device='cuda:0', requires_grad=True)\n",
      "Epoch 1/1 - Loss: 2.34623646736145\n"
     ]
    }
   ],
   "source": [
    "base_lr = 0.01\n",
    "max_lr = 0.1\n",
    "batch_size = 256\n",
    "epochs = 1\n",
    "f_opt = AdaSecant\n",
    "f_loss = F.cross_entropy\n",
    "cycle = epochs\n",
    "\n",
    "training_loss, validation_loss, validation_accuracy, lr_history = train_model(model.to(device),\n",
    "                                                                              dataset_train,\n",
    "                                                                              dataset_test,\n",
    "                                                                              base_lr,\n",
    "                                                                              max_lr,\n",
    "                                                                              batch_size,\n",
    "                                                                              epochs,\n",
    "                                                                              f_opt,\n",
    "                                                                              f_loss,\n",
    "                                                                              cycle)"
   ]
  },
  {
   "cell_type": "code",
   "execution_count": 11,
   "metadata": {},
   "outputs": [
    {
     "data": {
      "text/plain": [
       "<matplotlib.legend.Legend at 0x209655fbf70>"
      ]
     },
     "execution_count": 11,
     "metadata": {},
     "output_type": "execute_result"
    },
    {
     "data": {
      "image/png": "[encoded data removed]",
      "text/plain": [
       "<Figure size 432x288 with 1 Axes>"
      ]
     },
     "metadata": {
      "needs_background": "light"
     },
     "output_type": "display_data"
    }
   ],
   "source": [
    "plt.plot(training_loss, label='training loss')\n",
    "plt.plot(validation_loss, label='validation loss')\n",
    "plt.xlabel('Epochs')\n",
    "plt.ylabel('Mean Cross Entropy Loss')\n",
    "#plt.ylim(0.0, 10)\n",
    "plt.legend()"
   ]
  },
  {
   "cell_type": "code",
   "execution_count": 12,
   "metadata": {},
   "outputs": [
    {
     "data": {
      "text/plain": [
       "[<matplotlib.lines.Line2D at 0x2090f1dbaf0>]"
      ]
     },
     "execution_count": 12,
     "metadata": {},
     "output_type": "execute_result"
    },
    {
     "data": {
      "image/png": "[encoded data removed]",
      "text/plain": [
       "<Figure size 432x288 with 1 Axes>"
      ]
     },
     "metadata": {
      "needs_background": "light"
     },
     "output_type": "display_data"
    }
   ],
   "source": [
    "plt.plot(lr_history)"
   ]
  },
  {
   "cell_type": "code",
   "execution_count": 13,
   "metadata": {},
   "outputs": [
    {
     "name": "stdout",
     "output_type": "stream",
     "text": [
      "0.1015625\n"
     ]
    },
    {
     "data": {
      "image/png": "[encoded data removed]",
      "text/plain": [
       "<Figure size 432x288 with 1 Axes>"
      ]
     },
     "metadata": {
      "needs_background": "light"
     },
     "output_type": "display_data"
    }
   ],
   "source": [
    "plt.plot(validation_accuracy)\n",
    "print(max(validation_accuracy))"
   ]
  },
  {
   "cell_type": "code",
   "execution_count": 14,
   "metadata": {},
   "outputs": [
    {
     "ename": "ModuleNotFoundError",
     "evalue": "No module named 'google'",
     "output_type": "error",
     "traceback": [
      "\u001b[1;31m---------------------------------------------------------------------------\u001b[0m",
      "\u001b[1;31mModuleNotFoundError\u001b[0m                       Traceback (most recent call last)",
      "\u001b[1;32m<ipython-input-14-1045e0c59eb0>\u001b[0m in \u001b[0;36m<module>\u001b[1;34m\u001b[0m\n\u001b[0;32m      1\u001b[0m \u001b[1;32mimport\u001b[0m \u001b[0mcsv\u001b[0m\u001b[1;33m\u001b[0m\u001b[1;33m\u001b[0m\u001b[0m\n\u001b[1;32m----> 2\u001b[1;33m \u001b[1;32mfrom\u001b[0m \u001b[0mgoogle\u001b[0m\u001b[1;33m.\u001b[0m\u001b[0mcolab\u001b[0m \u001b[1;32mimport\u001b[0m \u001b[0mfiles\u001b[0m\u001b[1;33m\u001b[0m\u001b[1;33m\u001b[0m\u001b[0m\n\u001b[0m\u001b[0;32m      3\u001b[0m \u001b[1;33m\u001b[0m\u001b[0m\n\u001b[0;32m      4\u001b[0m \u001b[1;32mwith\u001b[0m \u001b[0mopen\u001b[0m\u001b[1;33m(\u001b[0m\u001b[1;34m'train_loss'\u001b[0m\u001b[1;33m,\u001b[0m \u001b[1;34m'w'\u001b[0m\u001b[1;33m)\u001b[0m \u001b[1;32mas\u001b[0m \u001b[0mf\u001b[0m\u001b[1;33m:\u001b[0m\u001b[1;33m\u001b[0m\u001b[1;33m\u001b[0m\u001b[0m\n\u001b[0;32m      5\u001b[0m     \u001b[0mwrite\u001b[0m \u001b[1;33m=\u001b[0m \u001b[0mcsv\u001b[0m\u001b[1;33m.\u001b[0m\u001b[0mwriter\u001b[0m\u001b[1;33m(\u001b[0m\u001b[0mf\u001b[0m\u001b[1;33m)\u001b[0m\u001b[1;33m\u001b[0m\u001b[1;33m\u001b[0m\u001b[0m\n",
      "\u001b[1;31mModuleNotFoundError\u001b[0m: No module named 'google'"
     ]
    }
   ],
   "source": [
    "import csv\n",
    "from google.colab import files\n",
    "\n",
    "with open('train_loss', 'w') as f:\n",
    "    write = csv.writer(f)\n",
    "    write.writerow(training_loss)\n",
    "\n",
    "with open('val_loss', 'w') as f: \n",
    "    write = csv.writer(f)  \n",
    "    write.writerow(validation_loss)\n",
    "\n",
    "with open('val_accuracy', 'w') as f: \n",
    "    write = csv.writer(f)  \n",
    "    write.writerow(validation_accuracy)\n",
    "    \n",
    "with open('lr_history', 'w') as f: \n",
    "    write = csv.writer(f)  \n",
    "    write.writerow(lr_history)\n",
    "\n",
    "files.download('train_loss')\n",
    "files.download('val_loss')\n",
    "files.download('val_accuracy')\n",
    "files.download('lr_history')"
   ]
  }
 ],
 "metadata": {
  "kernelspec": {
   "display_name": "Python 3",
   "language": "python",
   "name": "python3"
  },
  "language_info": {
   "codemirror_mode": {
    "name": "ipython",
    "version": 3
   },
   "file_extension": ".py",
   "mimetype": "text/x-python",
   "name": "python",
   "nbconvert_exporter": "python",
   "pygments_lexer": "ipython3",
   "version": "3.8.5"
  }
 },
 "nbformat": 4,
 "nbformat_minor": 4
}
