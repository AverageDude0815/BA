{
 "cells": [
  {
   "cell_type": "markdown",
   "metadata": {},
   "source": [
    "# Training Environment"
   ]
  },
  {
   "cell_type": "code",
   "execution_count": 1,
   "metadata": {},
   "outputs": [],
   "source": [
    "import matplotlib.pyplot as plt\n",
    "import numpy as np\n",
    "import torch  # Package name: torch (for pip), pytorch (for conda)\n",
    "import torch.nn as nn\n",
    "import torch.nn.functional as F\n",
    "import torch.optim as optim\n",
    "import torch.utils.data as data\n",
    "\n",
    "class BasicDataset(data.Dataset):\n",
    "    def __init__(self, X, y):\n",
    "        self.X = X\n",
    "        self.y = y\n",
    "    \n",
    "    def __getitem__(self, idx):\n",
    "        return dict(X=self.X[idx], y=self.y[idx])\n",
    "    \n",
    "    def __len__(self):\n",
    "        return self.X.shape[0]"
   ]
  },
  {
   "cell_type": "markdown",
   "metadata": {},
   "source": [
    "## Prepare Data"
   ]
  },
  {
   "cell_type": "code",
   "execution_count": 2,
   "metadata": {},
   "outputs": [
    {
     "name": "stdout",
     "output_type": "stream",
     "text": [
      "Files already downloaded and verified\n",
      "Files already downloaded and verified\n",
      "Dataset CIFAR10\n",
      "    Number of datapoints: 50000\n",
      "    Root location: ./data\n",
      "    Split: Train\n",
      "Dataset CIFAR10\n",
      "    Number of datapoints: 10000\n",
      "    Root location: ./data\n",
      "    Split: Test\n"
     ]
    }
   ],
   "source": [
    "import torchvision.datasets as datasets\n",
    "\n",
    "mnist = False\n",
    "cifar10 = True\n",
    "cifar100 = False\n",
    "assert mnist ^ cifar10 ^ cifar100\n",
    "\n",
    "n_classes = 10\n",
    "if mnist:\n",
    "    trainset = datasets.MNIST(root='./data', train=True, download=True, transform=None)\n",
    "    testset = datasets.MNIST(root='./data', train=False, download=True, transform=None)\n",
    "if cifar10:\n",
    "    trainset = datasets.CIFAR10(root='./data', train=True, download=True, transform=None)\n",
    "    testset = datasets.CIFAR10(root='./data', train=False, download=True, transform=None)\n",
    "if cifar100:\n",
    "    n_classes = 100\n",
    "    trainset = datasets.CIFAR100(root='./data', train=True, download=True, transform=None)\n",
    "    testset = datasets.CIFAR100(root='./data', train=False, download=True, transform=None)\n",
    "\n",
    "print(trainset)\n",
    "print(testset)"
   ]
  },
  {
   "cell_type": "code",
   "execution_count": 3,
   "metadata": {},
   "outputs": [
    {
     "name": "stdout",
     "output_type": "stream",
     "text": [
      "X_train: torch.Size([50000, 3, 32, 32])\n",
      "y_train: torch.Size([50000])\n",
      "X_test: torch.Size([10000, 3, 32, 32])\n",
      "y_test: torch.Size([10000])\n"
     ]
    }
   ],
   "source": [
    "def to_rgb(x_grey: torch.Tensor) -> torch.Tensor:\n",
    "    if len(x_grey.size()) == 3:\n",
    "        helper = torch.unsqueeze(x_grey, 1)\n",
    "        return helper.repeat(1, 3, 1, 1).float()\n",
    "    elif len(x_grey.size()) == 4 and x_grey.size()[1] == 1:\n",
    "        return x_grey.repeat(1, 3, 1, 1).float()\n",
    "    elif len(x_grey.size()) == 4 and x_grey.size()[1] == 3:\n",
    "        return x_grey\n",
    "    elif len(x_grey.size()) == 4:\n",
    "        raise ValueError(f'The size of this image tensor is not valid.\\\n",
    "        A 4th order image tensor must have dim1==1 (grey-scale) or dim1==3 (rgb).\\\n",
    "        Unknown format cannot be transformed to rgb.')\n",
    "    else:\n",
    "        raise ValueError(f'The size of this image-tensor is not valid.\\\n",
    "        Must be either 3rd (grey-scale) order tensor or 4th order tensor (rgb).\\\n",
    "        Got order {len(x_grey.size())}')\n",
    "        \n",
    "def swap_data(X):\n",
    "    X1 = np.swapaxes(X, 1, 3)\n",
    "    X2 = np.swapaxes(X1, 2, 3)\n",
    "    return X2\n",
    "\n",
    "if mnist:\n",
    "    X_train_grey = trainset.train_data\n",
    "    X_train = to_rgb(X_train_grey)\n",
    "    X_test_grey = testset.test_data\n",
    "    X_test = to_rgb(X_test_grey)\n",
    "    y_train = trainset.train_labels\n",
    "    y_test = testset.test_labels\n",
    "else:\n",
    "    X_train = torch.tensor(swap_data(trainset.data))\n",
    "    y_train = torch.tensor(trainset.targets)\n",
    "    X_test = torch.tensor(swap_data(testset.data))\n",
    "    y_test = torch.tensor(testset.targets)\n",
    "    \n",
    "print('X_train:', X_train.shape)\n",
    "print('y_train:', y_train.shape)\n",
    "print('X_test:', X_test.shape)\n",
    "print('y_test:', y_test.shape)"
   ]
  },
  {
   "cell_type": "markdown",
   "metadata": {},
   "source": [
    "## Model load, modifications and GPU optimization"
   ]
  },
  {
   "cell_type": "code",
   "execution_count": 4,
   "metadata": {},
   "outputs": [
    {
     "name": "stdout",
     "output_type": "stream",
     "text": [
      "X_train: torch.Size([256, 10])\n",
      "y_train: torch.Size([256])\n",
      "X_test: torch.Size([256, 10])\n",
      "y_test: torch.Size([256])\n",
      "Parameter containing:\n",
      "tensor([[-0.2623,  0.2628,  0.1553,  0.2313,  0.2811, -0.2024,  0.0886,  0.1973,\n",
      "          0.1966, -0.3160],\n",
      "        [-0.1550,  0.1647,  0.0949,  0.0962,  0.2050, -0.2306, -0.0858,  0.2056,\n",
      "         -0.1080, -0.2492],\n",
      "        [-0.1384,  0.2282, -0.2572, -0.3113, -0.0016,  0.1864, -0.0217, -0.2469,\n",
      "         -0.2357, -0.0393],\n",
      "        [ 0.3011,  0.2069,  0.0117, -0.1039,  0.2057,  0.0415,  0.1787, -0.1525,\n",
      "         -0.2384,  0.0140],\n",
      "        [ 0.2393,  0.0739, -0.0293,  0.1555, -0.0989, -0.1281,  0.0726, -0.2141,\n",
      "         -0.2731,  0.2803],\n",
      "        [-0.2862, -0.0710,  0.1642, -0.0646,  0.1532,  0.2103, -0.3158,  0.1760,\n",
      "         -0.0242,  0.1615],\n",
      "        [ 0.2635, -0.2931,  0.2193,  0.1610,  0.1634,  0.2670, -0.1961,  0.0385,\n",
      "         -0.1649,  0.2150],\n",
      "        [ 0.0489, -0.1446, -0.1261, -0.1599,  0.0826,  0.0774,  0.1499,  0.1003,\n",
      "         -0.0182, -0.1993],\n",
      "        [ 0.0345,  0.1907,  0.2640,  0.1186,  0.2713,  0.0633, -0.2910, -0.0925,\n",
      "         -0.1255,  0.1823],\n",
      "        [ 0.0129, -0.0088, -0.0415, -0.0050, -0.1445, -0.2624,  0.2355, -0.0849,\n",
      "         -0.1777,  0.1406]], requires_grad=True)\n",
      "Parameter containing:\n",
      "tensor([ 0.0828, -0.2873, -0.2152, -0.1359, -0.0599,  0.2607, -0.2044, -0.1147,\n",
      "        -0.1302,  0.2339], requires_grad=True)\n",
      "Parameter containing:\n",
      "tensor([[ 0.0527,  0.1748, -0.1143,  0.0428,  0.1492,  0.0460,  0.1695, -0.0494,\n",
      "         -0.2902, -0.1318],\n",
      "        [-0.0889, -0.1470,  0.0397,  0.1366, -0.0277, -0.3124, -0.0561, -0.2877,\n",
      "         -0.0715, -0.0738],\n",
      "        [-0.1157,  0.1828,  0.0996, -0.0082, -0.0495, -0.1815, -0.2363, -0.1771,\n",
      "         -0.0819, -0.1016],\n",
      "        [-0.2289, -0.0356, -0.0183, -0.2429, -0.1163,  0.3160, -0.1439,  0.1262,\n",
      "          0.2023,  0.2341],\n",
      "        [ 0.0825, -0.2776, -0.0611,  0.0524,  0.1189,  0.0342, -0.1108,  0.0678,\n",
      "          0.1845,  0.2206],\n",
      "        [ 0.2923, -0.2876,  0.2734, -0.1959, -0.0317, -0.2883, -0.1200, -0.1304,\n",
      "         -0.2138,  0.1965],\n",
      "        [-0.0720,  0.0344, -0.2147,  0.0811, -0.3064, -0.1775,  0.0574, -0.0992,\n",
      "         -0.0442, -0.3137],\n",
      "        [-0.0059,  0.0186, -0.0340, -0.1428, -0.1464,  0.1435,  0.2764, -0.1011,\n",
      "          0.2621,  0.1259],\n",
      "        [-0.0197, -0.2223, -0.2531,  0.2159, -0.0225, -0.2956,  0.3097, -0.1006,\n",
      "          0.1421, -0.1673],\n",
      "        [ 0.1988,  0.1399,  0.1688,  0.0807, -0.1619,  0.0241,  0.0688, -0.1034,\n",
      "          0.1970,  0.2289]], requires_grad=True)\n",
      "Parameter containing:\n",
      "tensor([-0.2016, -0.3086,  0.1636,  0.2099,  0.1569, -0.1912, -0.2825,  0.0109,\n",
      "         0.2192,  0.2571], requires_grad=True)\n"
     ]
    }
   ],
   "source": [
    "from torchvision import models\n",
    "\n",
    "'''\n",
    "model = models.resnet18(pretrained=False) # set model here\n",
    "in_ftr = model.fc.in_features\n",
    "out_ftr = n_classes\n",
    "model.fc = nn.Linear(in_ftr,out_ftr,bias=True)\n",
    "'''\n",
    "\n",
    "# redefining stuff for AdaSecant test runs\n",
    "X_train = torch.rand(256, 10)\n",
    "X_test = torch.rand(256, 10)\n",
    "y_train = torch.randint(10, (256,))\n",
    "y_test = torch.randint(10, (256,))\n",
    "\n",
    "print('X_train:', X_train.shape)\n",
    "print('y_train:', y_train.shape)\n",
    "print('X_test:', X_test.shape)\n",
    "print('y_test:', y_test.shape)\n",
    "\n",
    "model = torch.nn.Sequential(nn.Linear(10, 10), nn.Linear(10, 10))\n",
    "for param in model.parameters():\n",
    "    print(param)\n",
    "\n",
    "dataset_train = BasicDataset(X_train, y_train)\n",
    "dataset_test = BasicDataset(X_test, y_test)"
   ]
  },
  {
   "cell_type": "markdown",
   "metadata": {},
   "source": [
    "Check specs for GPU-based training."
   ]
  },
  {
   "cell_type": "code",
   "execution_count": 5,
   "metadata": {},
   "outputs": [
    {
     "name": "stdout",
     "output_type": "stream",
     "text": [
      "cuda available: True\n",
      "cuda device name: NVIDIA GeForce 940MX\n",
      "cuda device id 0\n"
     ]
    }
   ],
   "source": [
    "print('cuda available:', torch.cuda.is_available())\n",
    "print('cuda device name:', torch.cuda.get_device_name())\n",
    "print('cuda device id', torch.cuda.current_device())"
   ]
  },
  {
   "cell_type": "markdown",
   "metadata": {},
   "source": [
    "Move model and data to GPU."
   ]
  },
  {
   "cell_type": "code",
   "execution_count": 6,
   "metadata": {},
   "outputs": [
    {
     "name": "stdout",
     "output_type": "stream",
     "text": [
      "worked? True\n"
     ]
    }
   ],
   "source": [
    "device = torch.device(\"cuda:0\" if torch.cuda.is_available() else \"cpu\")\n",
    "model.to(device)\n",
    "X_train.to(device)\n",
    "print('worked?', X_train.to(device).is_cuda)"
   ]
  },
  {
   "cell_type": "markdown",
   "metadata": {},
   "source": [
    "## Implementing AdaSecant\n",
    "https://github.com/pytorch/pytorch/blob/master/torch/optim/sgd.py"
   ]
  },
  {
   "cell_type": "code",
   "execution_count": 16,
   "metadata": {},
   "outputs": [],
   "source": [
    "from typing import List\n",
    "\n",
    "class AdaSecant(optim.Optimizer):\n",
    "    r\"\"\"Documentation\n",
    "    Basis copied from https://github.com/pytorch/pytorch/blob/master/torch/optim/sgd.py.\n",
    "    Left out closure, momentum-related stuff, __setstate__ as it does not seem to be necessary.\n",
    "    \"\"\"\n",
    "\n",
    "    def __init__(self, params, lr=None):\n",
    "        if lr is not None:\n",
    "            print('Warning: lr is not a parameter for AdaSecant. Your lr will be set to None')\n",
    "            lr = None\n",
    "        defaults = dict(lr=lr)\n",
    "        super().__init__(params, defaults)\n",
    "        self.ready = False\n",
    "        self.current_gradients = None\n",
    "        # here we need to introduce some attribute to save params/gradients from old batch.\n",
    "        self.moving_average_of_g = None\n",
    "        self.delta = None\n",
    "        self.memory_size = None\n",
    "        self.gradients = None\n",
    "        \n",
    "    @torch.no_grad()\n",
    "    def pre_step(self):\n",
    "        for group in self.param_groups:\n",
    "            # all parameters of a model seem to be contained within the same group\n",
    "            params_with_grad = []\n",
    "            d_p_list = []\n",
    "        \n",
    "        for p in group['params']:\n",
    "                # subgrouping of parameters for each layer, bias and weights separately (each tensor)\n",
    "                if p.grad is not None:\n",
    "                    params_with_grad.append(p)\n",
    "                    d_p_list.append(p.grad)\n",
    "        \n",
    "        self.current_gradients = d_p_list\n",
    "        self.ready = True\n",
    "        pass\n",
    "\n",
    "    @torch.no_grad()\n",
    "    def step(self):\n",
    "        \"\"\"Performs a single optimization step.\n",
    "        \"\"\"\n",
    "        \n",
    "        if not self.ready:\n",
    "            raise RuntimeError('You must perform optimizer.pre_step() before performing ' +\n",
    "                               'optimizer.step() when using AdaSecant.\\n' +\n",
    "                               'pre_step ensures that the gradient is saved while step will generate the ' +\n",
    "                               'gradient on the new batch.\\n' +\n",
    "                               'Recommended call sequence:' +\n",
    "                               ' \\n model.zero_grad(), \\n loss = ..., \\n loss.backwards(), \\n ' +\n",
    "                               'optimizer.pre_step(), \\n model.zero_grad(), \\n loss = ..., \\n ' +\n",
    "                               'loss.backwards(), \\n optimizer.step()')\n",
    "        else:\n",
    "            self.ready = False\n",
    "\n",
    "        for group in self.param_groups:\n",
    "            # all parameters of a model seem to be contained within the same group\n",
    "            params_with_grad = []\n",
    "            next_gradients = []\n",
    "            \n",
    "            # ToDo: update old params/gradients\n",
    "\n",
    "            for p in group['params']:\n",
    "                # subgrouping of parameters for each layer, bias and weights separately (each tensor)\n",
    "                if p.grad is not None:\n",
    "                    params_with_grad.append(p)\n",
    "                    next_gradients.append(p.grad)\n",
    "\n",
    "            adasecant(self, params_with_grad, next_gradients)\n",
    "            \n",
    "        return #loss\n",
    "    \n",
    "def adasecant(optimizer: AdaSecant, params: List[torch.Tensor], next_gradients: List[torch.Tensor]):\n",
    "    # d_p_list[i] corresponds to param[i]    \n",
    "    for i, param in enumerate(params):\n",
    "        g = optimizer.current_gradients[i]\n",
    "        g_next = next_gradients[i]\n",
    "        if i == 0:\n",
    "            print(param)\n",
    "            print(g)\n",
    "            print(g_next)\n",
    "        \n",
    "        correction_term = None # to be implemented\n",
    "        corrected_gradient = None # to be implemented\n",
    "        \n",
    "        \n",
    "    # update all attributes in optimizer\n",
    "    optimizer.gradients = g\n",
    "    # ...\n",
    "    pass"
   ]
  },
  {
   "cell_type": "code",
   "execution_count": 17,
   "metadata": {},
   "outputs": [],
   "source": [
    "import itertools\n",
    "from more_itertools import peekable\n",
    "\n",
    "def adasecant_dataloader(dataset, batch_size, shuffle=False, drop_last=False):\n",
    "    data_loader = peekable(iter(data.DataLoader(dataset=dataset, batch_size=batch_size, shuffle=shuffle, drop_last=drop_last)))\n",
    "    return data_loader\n",
    "\n",
    "data_loader = adasecant_dataloader(dataset_test, 60, True, True)\n",
    "for batch in data_loader:\n",
    "    #print('current', batch['y'])\n",
    "    try:\n",
    "        peek = data_loader.peek()\n",
    "        #print('next', peek['y'])\n",
    "    except StopIteration:\n",
    "        pass"
   ]
  },
  {
   "cell_type": "markdown",
   "metadata": {},
   "source": [
    "## Training"
   ]
  },
  {
   "cell_type": "code",
   "execution_count": 18,
   "metadata": {},
   "outputs": [],
   "source": [
    "def evaluate_model(model, dataset, batch_size=1000):\n",
    "    \n",
    "    data_loader = data.DataLoader(dataset=dataset, batch_size=batch_size, shuffle=False, drop_last=False)\n",
    "    loss = 0.0\n",
    "    correct = 0\n",
    "    \n",
    "    for batch in data_loader:\n",
    "        yhat = model.forward(batch['X'].float().to(device))\n",
    "        y = batch['y'].long().to(device)\n",
    "        batch_loss = f_loss(yhat, y)\n",
    "        loss += batch_loss.item() * len(batch['X'])\n",
    "        correct += (torch.argmax(yhat, dim=1) == y).float().sum().item()\n",
    "    accuracy = correct / len(dataset)\n",
    "    \n",
    "    return loss, accuracy\n",
    "\n",
    "def get_scheduler(optimizer, base_lr, max_lr, epochs_per_cycle, len_dataset, batch_size):\n",
    "    if epochs_per_cycle is None:\n",
    "        epochs_per_cycle = epochs\n",
    "    iterations_per_cycle = epochs_per_cycle * (len_dataset // batch_size)\n",
    "    return torch.optim.lr_scheduler.CyclicLR(optimizer, base_lr, max_lr, step_size_up=iterations_per_cycle / 2)"
   ]
  },
  {
   "cell_type": "code",
   "execution_count": 19,
   "metadata": {},
   "outputs": [],
   "source": [
    "def train_model(model, dataset, validation_set, batch_size=64, epochs=1, \n",
    "                f_loss=F.cross_entropy, epochs_per_cycle=None):\n",
    "    \n",
    "    optimizer = AdaSecant(model.parameters())\n",
    "    lr_history = []\n",
    "    validation_accuracy = []\n",
    "    epoch_losses = []\n",
    "    validation_losses = []\n",
    "    \n",
    "    # evaluate initial state of model\n",
    "    initial_training_loss, _ = evaluate_model(model, dataset)\n",
    "    epoch_losses.append(initial_training_loss)\n",
    "    validation_loss, accuracy = evaluate_model(model, validation_set)\n",
    "    validation_losses.append(validation_loss)\n",
    "    validation_accuracy.append(accuracy)\n",
    "\n",
    "    for epoch in range(epochs):\n",
    "        # training and epoch loss logging\n",
    "        # drop last to avoid stochastic outliers in gradient update\n",
    "        data_loader = adasecant_dataloader(dataset=dataset, batch_size=batch_size, shuffle=True, drop_last=True)\n",
    "        epoch_loss = 0.0\n",
    "        \n",
    "        for batch in data_loader:\n",
    "            \n",
    "            # prepare adasecant with current gradient\n",
    "            model.zero_grad()\n",
    "            yhat = model.forward(batch['X'].float().to(device))\n",
    "            batch_loss = f_loss(yhat, batch['y'].long().to(device))\n",
    "            epoch_loss += batch_loss.item() * len(batch['X'])\n",
    "            batch_loss.backward()\n",
    "            optimizer.pre_step()\n",
    "            \n",
    "            # run adasecant with next gradient (addiotionally to current gradient)\n",
    "            model.zero_grad()\n",
    "            try:\n",
    "                next_batch = data_loader.peek()\n",
    "                yhat = model.forward(batch['X'].float().to(device))\n",
    "                batch_loss = f_loss(yhat, batch['y'].long().to(device))\n",
    "                batch_loss.backward()\n",
    "                optimizer.step()\n",
    "            except:\n",
    "                # whatever happens if there is no next gradient\n",
    "                pass\n",
    "            \n",
    "        print(f'Epoch {epoch+1}/{epochs} - Loss: {epoch_loss / len(dataset)}')\n",
    "        epoch_losses.append(epoch_loss)\n",
    "        \n",
    "        # calculate validation loss and accuracy\n",
    "        validation_loss, accuracy = evaluate_model(model, validation_set)\n",
    "        validation_losses.append(validation_loss)\n",
    "        validation_accuracy.append(accuracy)\n",
    "        \n",
    "    return (np.array(epoch_losses) / len(dataset), \n",
    "            np.array(validation_losses) / len(validation_set), \n",
    "            validation_accuracy, \n",
    "            lr_history)"
   ]
  },
  {
   "cell_type": "code",
   "execution_count": 22,
   "metadata": {},
   "outputs": [
    {
     "name": "stdout",
     "output_type": "stream",
     "text": [
      "Parameter containing:\n",
      "tensor([[-0.2623,  0.2628,  0.1553,  0.2313,  0.2811, -0.2024,  0.0886,  0.1973,\n",
      "          0.1966, -0.3160],\n",
      "        [-0.1550,  0.1647,  0.0949,  0.0962,  0.2050, -0.2306, -0.0858,  0.2056,\n",
      "         -0.1080, -0.2492],\n",
      "        [-0.1384,  0.2282, -0.2572, -0.3113, -0.0016,  0.1864, -0.0217, -0.2469,\n",
      "         -0.2357, -0.0393],\n",
      "        [ 0.3011,  0.2069,  0.0117, -0.1039,  0.2057,  0.0415,  0.1787, -0.1525,\n",
      "         -0.2384,  0.0140],\n",
      "        [ 0.2393,  0.0739, -0.0293,  0.1555, -0.0989, -0.1281,  0.0726, -0.2141,\n",
      "         -0.2731,  0.2803],\n",
      "        [-0.2862, -0.0710,  0.1642, -0.0646,  0.1532,  0.2103, -0.3158,  0.1760,\n",
      "         -0.0242,  0.1615],\n",
      "        [ 0.2635, -0.2931,  0.2193,  0.1610,  0.1634,  0.2670, -0.1961,  0.0385,\n",
      "         -0.1649,  0.2150],\n",
      "        [ 0.0489, -0.1446, -0.1261, -0.1599,  0.0826,  0.0774,  0.1499,  0.1003,\n",
      "         -0.0182, -0.1993],\n",
      "        [ 0.0345,  0.1907,  0.2640,  0.1186,  0.2713,  0.0633, -0.2910, -0.0925,\n",
      "         -0.1255,  0.1823],\n",
      "        [ 0.0129, -0.0088, -0.0415, -0.0050, -0.1445, -0.2624,  0.2355, -0.0849,\n",
      "         -0.1777,  0.1406]], device='cuda:0', requires_grad=True)\n",
      "tensor([[ 3.8795e-03,  6.0586e-03,  5.6939e-03,  5.4721e-03,  1.0576e-02,\n",
      "          1.9549e-03,  7.3936e-03,  1.2069e-02,  1.0097e-02,  6.1300e-03],\n",
      "        [-7.1896e-04,  6.4245e-03,  9.6113e-03,  2.9831e-03,  6.2510e-03,\n",
      "          1.4978e-02,  8.2589e-03, -2.0438e-03,  9.3776e-03,  2.9847e-03],\n",
      "        [-1.9951e-03,  2.9069e-03,  1.1641e-03, -4.7270e-03,  2.8601e-03,\n",
      "          6.8141e-03,  1.0501e-02,  5.4400e-03,  7.5139e-03,  2.8605e-03],\n",
      "        [ 5.1226e-03,  4.5708e-03,  6.5316e-03,  8.8088e-03,  1.0333e-02,\n",
      "         -4.8290e-03,  5.0598e-03,  7.1535e-03, -1.1534e-04,  2.8319e-03],\n",
      "        [ 6.4868e-04, -6.5062e-05,  1.8056e-03,  2.1849e-03,  1.7698e-04,\n",
      "         -2.9299e-05,  4.8548e-04,  5.2552e-03, -4.9184e-03,  4.0043e-04],\n",
      "        [ 3.7592e-03, -9.5806e-04,  6.2904e-03,  4.9310e-03, -4.3911e-03,\n",
      "          1.3736e-02, -4.4942e-03, -1.1907e-03,  5.7458e-03,  8.0530e-04],\n",
      "        [ 5.5800e-03, -7.8815e-04,  3.9003e-03,  4.2391e-03,  4.0082e-03,\n",
      "         -4.8440e-03, -2.2392e-03,  2.6641e-03,  2.0847e-03,  5.1543e-03],\n",
      "        [ 5.3171e-03,  2.9420e-03,  3.4193e-03,  6.2402e-03, -1.1594e-03,\n",
      "          5.4801e-03, -3.3107e-03,  1.4809e-03,  1.6367e-03,  1.0028e-03],\n",
      "        [ 5.4796e-03, -1.9692e-03,  4.7487e-03,  3.0604e-03,  2.1733e-04,\n",
      "         -1.1198e-03,  3.9973e-04,  2.8854e-03,  4.2622e-03,  3.5907e-03],\n",
      "        [ 4.8689e-03,  1.2186e-03,  4.6319e-03,  1.4633e-03,  5.5565e-04,\n",
      "          7.7825e-03,  5.3101e-03,  9.6902e-03,  8.2637e-03,  4.7216e-03]],\n",
      "       device='cuda:0')\n",
      "tensor([[ 3.8795e-03,  6.0586e-03,  5.6939e-03,  5.4721e-03,  1.0576e-02,\n",
      "          1.9549e-03,  7.3936e-03,  1.2069e-02,  1.0097e-02,  6.1300e-03],\n",
      "        [-7.1896e-04,  6.4245e-03,  9.6113e-03,  2.9831e-03,  6.2510e-03,\n",
      "          1.4978e-02,  8.2589e-03, -2.0438e-03,  9.3776e-03,  2.9847e-03],\n",
      "        [-1.9951e-03,  2.9069e-03,  1.1641e-03, -4.7270e-03,  2.8601e-03,\n",
      "          6.8141e-03,  1.0501e-02,  5.4400e-03,  7.5139e-03,  2.8605e-03],\n",
      "        [ 5.1226e-03,  4.5708e-03,  6.5316e-03,  8.8088e-03,  1.0333e-02,\n",
      "         -4.8290e-03,  5.0598e-03,  7.1535e-03, -1.1534e-04,  2.8319e-03],\n",
      "        [ 6.4868e-04, -6.5062e-05,  1.8056e-03,  2.1849e-03,  1.7698e-04,\n",
      "         -2.9299e-05,  4.8548e-04,  5.2552e-03, -4.9184e-03,  4.0043e-04],\n",
      "        [ 3.7592e-03, -9.5806e-04,  6.2904e-03,  4.9310e-03, -4.3911e-03,\n",
      "          1.3736e-02, -4.4942e-03, -1.1907e-03,  5.7458e-03,  8.0530e-04],\n",
      "        [ 5.5800e-03, -7.8815e-04,  3.9003e-03,  4.2391e-03,  4.0082e-03,\n",
      "         -4.8440e-03, -2.2392e-03,  2.6641e-03,  2.0847e-03,  5.1543e-03],\n",
      "        [ 5.3171e-03,  2.9420e-03,  3.4193e-03,  6.2402e-03, -1.1594e-03,\n",
      "          5.4801e-03, -3.3107e-03,  1.4809e-03,  1.6367e-03,  1.0028e-03],\n",
      "        [ 5.4796e-03, -1.9692e-03,  4.7487e-03,  3.0604e-03,  2.1733e-04,\n",
      "         -1.1198e-03,  3.9973e-04,  2.8854e-03,  4.2622e-03,  3.5907e-03],\n",
      "        [ 4.8689e-03,  1.2186e-03,  4.6319e-03,  1.4633e-03,  5.5565e-04,\n",
      "          7.7825e-03,  5.3101e-03,  9.6902e-03,  8.2637e-03,  4.7216e-03]],\n",
      "       device='cuda:0')\n",
      "Epoch 1/1 - Loss: 2.308548331260681\n"
     ]
    }
   ],
   "source": [
    "base_lr = 0.01\n",
    "max_lr = 0.1\n",
    "batch_size = 128\n",
    "epochs = 1\n",
    "f_opt = AdaSecant\n",
    "f_loss = F.cross_entropy\n",
    "cycle = epochs\n",
    "\n",
    "training_loss, validation_loss, validation_accuracy, lr_history = train_model(model.to(device),\n",
    "                                                                              dataset_train,\n",
    "                                                                              dataset_test,\n",
    "                                                                              batch_size,\n",
    "                                                                              epochs,\n",
    "                                                                              f_loss,\n",
    "                                                                              cycle)"
   ]
  },
  {
   "cell_type": "code",
   "execution_count": 12,
   "metadata": {},
   "outputs": [
    {
     "data": {
      "text/plain": [
       "<matplotlib.legend.Legend at 0x2db22245dc0>"
      ]
     },
     "execution_count": 12,
     "metadata": {},
     "output_type": "execute_result"
    },
    {
     "data": {
      "image/png": "[encoded data removed]",
      "text/plain": [
       "<Figure size 432x288 with 1 Axes>"
      ]
     },
     "metadata": {
      "needs_background": "light"
     },
     "output_type": "display_data"
    }
   ],
   "source": [
    "plt.plot(training_loss, label='training loss')\n",
    "plt.plot(validation_loss, label='validation loss')\n",
    "plt.xlabel('Epochs')\n",
    "plt.ylabel('Mean Cross Entropy Loss')\n",
    "#plt.ylim(0.0, 10)\n",
    "plt.legend()"
   ]
  },
  {
   "cell_type": "code",
   "execution_count": 13,
   "metadata": {},
   "outputs": [
    {
     "data": {
      "text/plain": [
       "[<matplotlib.lines.Line2D at 0x2db205c1e80>]"
      ]
     },
     "execution_count": 13,
     "metadata": {},
     "output_type": "execute_result"
    },
    {
     "data": {
      "image/png": "[encoded data removed]",
      "text/plain": [
       "<Figure size 432x288 with 1 Axes>"
      ]
     },
     "metadata": {
      "needs_background": "light"
     },
     "output_type": "display_data"
    }
   ],
   "source": [
    "plt.plot(lr_history)"
   ]
  },
  {
   "cell_type": "code",
   "execution_count": 14,
   "metadata": {},
   "outputs": [
    {
     "name": "stdout",
     "output_type": "stream",
     "text": [
      "0.109375\n"
     ]
    },
    {
     "data": {
      "image/png": "[encoded data removed]",
      "text/plain": [
       "<Figure size 432x288 with 1 Axes>"
      ]
     },
     "metadata": {
      "needs_background": "light"
     },
     "output_type": "display_data"
    }
   ],
   "source": [
    "plt.plot(validation_accuracy)\n",
    "print(max(validation_accuracy))"
   ]
  },
  {
   "cell_type": "code",
   "execution_count": 15,
   "metadata": {},
   "outputs": [
    {
     "ename": "ModuleNotFoundError",
     "evalue": "No module named 'google'",
     "output_type": "error",
     "traceback": [
      "\u001b[1;31m---------------------------------------------------------------------------\u001b[0m",
      "\u001b[1;31mModuleNotFoundError\u001b[0m                       Traceback (most recent call last)",
      "\u001b[1;32m<ipython-input-15-1045e0c59eb0>\u001b[0m in \u001b[0;36m<module>\u001b[1;34m\u001b[0m\n\u001b[0;32m      1\u001b[0m \u001b[1;32mimport\u001b[0m \u001b[0mcsv\u001b[0m\u001b[1;33m\u001b[0m\u001b[1;33m\u001b[0m\u001b[0m\n\u001b[1;32m----> 2\u001b[1;33m \u001b[1;32mfrom\u001b[0m \u001b[0mgoogle\u001b[0m\u001b[1;33m.\u001b[0m\u001b[0mcolab\u001b[0m \u001b[1;32mimport\u001b[0m \u001b[0mfiles\u001b[0m\u001b[1;33m\u001b[0m\u001b[1;33m\u001b[0m\u001b[0m\n\u001b[0m\u001b[0;32m      3\u001b[0m \u001b[1;33m\u001b[0m\u001b[0m\n\u001b[0;32m      4\u001b[0m \u001b[1;32mwith\u001b[0m \u001b[0mopen\u001b[0m\u001b[1;33m(\u001b[0m\u001b[1;34m'train_loss'\u001b[0m\u001b[1;33m,\u001b[0m \u001b[1;34m'w'\u001b[0m\u001b[1;33m)\u001b[0m \u001b[1;32mas\u001b[0m \u001b[0mf\u001b[0m\u001b[1;33m:\u001b[0m\u001b[1;33m\u001b[0m\u001b[1;33m\u001b[0m\u001b[0m\n\u001b[0;32m      5\u001b[0m     \u001b[0mwrite\u001b[0m \u001b[1;33m=\u001b[0m \u001b[0mcsv\u001b[0m\u001b[1;33m.\u001b[0m\u001b[0mwriter\u001b[0m\u001b[1;33m(\u001b[0m\u001b[0mf\u001b[0m\u001b[1;33m)\u001b[0m\u001b[1;33m\u001b[0m\u001b[1;33m\u001b[0m\u001b[0m\n",
      "\u001b[1;31mModuleNotFoundError\u001b[0m: No module named 'google'"
     ]
    }
   ],
   "source": [
    "import csv\n",
    "from google.colab import files\n",
    "\n",
    "with open('train_loss', 'w') as f:\n",
    "    write = csv.writer(f)\n",
    "    write.writerow(training_loss)\n",
    "\n",
    "with open('val_loss', 'w') as f: \n",
    "    write = csv.writer(f)  \n",
    "    write.writerow(validation_loss)\n",
    "\n",
    "with open('val_accuracy', 'w') as f: \n",
    "    write = csv.writer(f)  \n",
    "    write.writerow(validation_accuracy)\n",
    "    \n",
    "with open('lr_history', 'w') as f: \n",
    "    write = csv.writer(f)  \n",
    "    write.writerow(lr_history)\n",
    "\n",
    "files.download('train_loss')\n",
    "files.download('val_loss')\n",
    "files.download('val_accuracy')\n",
    "files.download('lr_history')"
   ]
  }
 ],
 "metadata": {
  "kernelspec": {
   "display_name": "Python 3",
   "language": "python",
   "name": "python3"
  },
  "language_info": {
   "codemirror_mode": {
    "name": "ipython",
    "version": 3
   },
   "file_extension": ".py",
   "mimetype": "text/x-python",
   "name": "python",
   "nbconvert_exporter": "python",
   "pygments_lexer": "ipython3",
   "version": "3.8.5"
  }
 },
 "nbformat": 4,
 "nbformat_minor": 4
}
