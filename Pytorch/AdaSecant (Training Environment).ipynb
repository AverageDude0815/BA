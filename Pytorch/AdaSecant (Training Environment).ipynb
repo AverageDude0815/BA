{
 "cells": [
  {
   "cell_type": "markdown",
   "metadata": {},
   "source": [
    "# Training Environment"
   ]
  },
  {
   "cell_type": "code",
   "execution_count": 1,
   "metadata": {},
   "outputs": [],
   "source": [
    "import matplotlib.pyplot as plt\n",
    "import numpy as np\n",
    "import torch  # Package name: torch (for pip), pytorch (for conda)\n",
    "import torch.nn as nn\n",
    "import torch.nn.functional as F\n",
    "import torch.optim as optim\n",
    "import torch.utils.data as data\n",
    "\n",
    "class BasicDataset(data.Dataset):\n",
    "    def __init__(self, X, y):\n",
    "        self.X = X\n",
    "        self.y = y\n",
    "    \n",
    "    def __getitem__(self, idx):\n",
    "        return dict(X=self.X[idx], y=self.y[idx])\n",
    "    \n",
    "    def __len__(self):\n",
    "        return self.X.shape[0]"
   ]
  },
  {
   "cell_type": "markdown",
   "metadata": {},
   "source": [
    "## Prepare Data"
   ]
  },
  {
   "cell_type": "code",
   "execution_count": 2,
   "metadata": {},
   "outputs": [
    {
     "name": "stdout",
     "output_type": "stream",
     "text": [
      "Files already downloaded and verified\n",
      "Files already downloaded and verified\n",
      "Dataset CIFAR10\n",
      "    Number of datapoints: 50000\n",
      "    Root location: ./data\n",
      "    Split: Train\n",
      "Dataset CIFAR10\n",
      "    Number of datapoints: 10000\n",
      "    Root location: ./data\n",
      "    Split: Test\n"
     ]
    }
   ],
   "source": [
    "import torchvision.datasets as datasets\n",
    "\n",
    "mnist = False\n",
    "cifar10 = True\n",
    "cifar100 = False\n",
    "assert mnist ^ cifar10 ^ cifar100\n",
    "\n",
    "n_classes = 10\n",
    "if mnist:\n",
    "    trainset = datasets.MNIST(root='./data', train=True, download=True, transform=None)\n",
    "    testset = datasets.MNIST(root='./data', train=False, download=True, transform=None)\n",
    "if cifar10:\n",
    "    trainset = datasets.CIFAR10(root='./data', train=True, download=True, transform=None)\n",
    "    testset = datasets.CIFAR10(root='./data', train=False, download=True, transform=None)\n",
    "if cifar100:\n",
    "    n_classes = 100\n",
    "    trainset = datasets.CIFAR100(root='./data', train=True, download=True, transform=None)\n",
    "    testset = datasets.CIFAR100(root='./data', train=False, download=True, transform=None)\n",
    "\n",
    "print(trainset)\n",
    "print(testset)"
   ]
  },
  {
   "cell_type": "code",
   "execution_count": 3,
   "metadata": {},
   "outputs": [
    {
     "name": "stdout",
     "output_type": "stream",
     "text": [
      "X_train: torch.Size([50000, 3, 32, 32])\n",
      "y_train: torch.Size([50000])\n",
      "X_test: torch.Size([10000, 3, 32, 32])\n",
      "y_test: torch.Size([10000])\n"
     ]
    }
   ],
   "source": [
    "def to_rgb(x_grey: torch.Tensor) -> torch.Tensor:\n",
    "    if len(x_grey.size()) == 3:\n",
    "        helper = torch.unsqueeze(x_grey, 1)\n",
    "        return helper.repeat(1, 3, 1, 1).float()\n",
    "    elif len(x_grey.size()) == 4 and x_grey.size()[1] == 1:\n",
    "        return x_grey.repeat(1, 3, 1, 1).float()\n",
    "    elif len(x_grey.size()) == 4 and x_grey.size()[1] == 3:\n",
    "        return x_grey\n",
    "    elif len(x_grey.size()) == 4:\n",
    "        raise ValueError(f'The size of this image tensor is not valid.\\\n",
    "        A 4th order image tensor must have dim1==1 (grey-scale) or dim1==3 (rgb).\\\n",
    "        Unknown format cannot be transformed to rgb.')\n",
    "    else:\n",
    "        raise ValueError(f'The size of this image-tensor is not valid.\\\n",
    "        Must be either 3rd (grey-scale) order tensor or 4th order tensor (rgb).\\\n",
    "        Got order {len(x_grey.size())}')\n",
    "        \n",
    "def swap_data(X):\n",
    "    X1 = np.swapaxes(X, 1, 3)\n",
    "    X2 = np.swapaxes(X1, 2, 3)\n",
    "    return X2\n",
    "\n",
    "if mnist:\n",
    "    X_train_grey = trainset.train_data\n",
    "    X_train = to_rgb(X_train_grey)\n",
    "    X_test_grey = testset.test_data\n",
    "    X_test = to_rgb(X_test_grey)\n",
    "    y_train = trainset.train_labels\n",
    "    y_test = testset.test_labels\n",
    "else:\n",
    "    X_train = torch.tensor(swap_data(trainset.data))\n",
    "    y_train = torch.tensor(trainset.targets)\n",
    "    X_test = torch.tensor(swap_data(testset.data))\n",
    "    y_test = torch.tensor(testset.targets)\n",
    "    \n",
    "print('X_train:', X_train.shape)\n",
    "print('y_train:', y_train.shape)\n",
    "print('X_test:', X_test.shape)\n",
    "print('y_test:', y_test.shape)"
   ]
  },
  {
   "cell_type": "markdown",
   "metadata": {},
   "source": [
    "## Model load, modifications and GPU optimization"
   ]
  },
  {
   "cell_type": "code",
   "execution_count": 4,
   "metadata": {},
   "outputs": [
    {
     "name": "stdout",
     "output_type": "stream",
     "text": [
      "X_train: torch.Size([256, 10])\n",
      "y_train: torch.Size([256])\n",
      "X_test: torch.Size([256, 10])\n",
      "y_test: torch.Size([256])\n",
      "Parameter containing:\n",
      "tensor([[ 0.2135, -0.1278, -0.2495,  0.0526,  0.1513,  0.0271, -0.1223, -0.0470,\n",
      "         -0.1977, -0.2170],\n",
      "        [-0.1285,  0.1133, -0.2761, -0.2720, -0.3155, -0.2889,  0.1507,  0.1169,\n",
      "         -0.2754,  0.1117],\n",
      "        [-0.0658, -0.0388, -0.0051,  0.1379, -0.2626, -0.0795, -0.2263,  0.0952,\n",
      "         -0.3134,  0.0006],\n",
      "        [ 0.1138, -0.1348, -0.0091, -0.1778,  0.3156, -0.1540, -0.1041, -0.1293,\n",
      "         -0.2746, -0.2961],\n",
      "        [-0.1181, -0.0018, -0.1586,  0.2298, -0.1785, -0.0142, -0.1911, -0.2382,\n",
      "         -0.0088, -0.2588],\n",
      "        [-0.2179, -0.1114, -0.2636, -0.2959, -0.2951, -0.2657,  0.2713, -0.2628,\n",
      "         -0.2472, -0.0278],\n",
      "        [ 0.1604, -0.2458, -0.1888, -0.1883,  0.0228, -0.0344, -0.3145,  0.0466,\n",
      "         -0.1247, -0.1604],\n",
      "        [-0.0928,  0.2854,  0.0482, -0.1393, -0.3014, -0.1819,  0.1672,  0.1146,\n",
      "          0.2684,  0.0408],\n",
      "        [-0.0987, -0.0962,  0.2565,  0.2347, -0.2063, -0.1477, -0.2444,  0.1916,\n",
      "         -0.2592, -0.1246],\n",
      "        [ 0.2826,  0.0474, -0.0058,  0.2317, -0.0085,  0.2795,  0.1993, -0.2094,\n",
      "          0.0906, -0.2608]], requires_grad=True)\n",
      "Parameter containing:\n",
      "tensor([-0.0079,  0.2068,  0.1249, -0.1387, -0.0540,  0.0813,  0.0450, -0.1043,\n",
      "        -0.3007, -0.1492], requires_grad=True)\n",
      "Parameter containing:\n",
      "tensor([[ 0.1283, -0.2297,  0.2553,  0.0189, -0.0868,  0.3051,  0.2352,  0.0940,\n",
      "          0.1934, -0.1281],\n",
      "        [-0.0236, -0.3141,  0.2552, -0.1477,  0.0088,  0.1564, -0.2687,  0.1852,\n",
      "          0.1484, -0.0660],\n",
      "        [ 0.2896,  0.2637, -0.2858,  0.0084, -0.1477,  0.1900, -0.2874, -0.0466,\n",
      "         -0.0983,  0.2456],\n",
      "        [-0.2468, -0.2526,  0.0101,  0.1965, -0.0293,  0.0939,  0.3141,  0.1842,\n",
      "          0.0892, -0.1582],\n",
      "        [-0.1185, -0.1063,  0.0921, -0.2800,  0.3143, -0.2450, -0.1179, -0.3036,\n",
      "          0.3062,  0.2348],\n",
      "        [ 0.0109,  0.1430,  0.0806, -0.2241, -0.0909,  0.0778, -0.3074, -0.2218,\n",
      "         -0.2697,  0.0899],\n",
      "        [-0.0467,  0.1041,  0.0891, -0.2127, -0.1771, -0.1934,  0.0464,  0.3155,\n",
      "         -0.2420,  0.2082],\n",
      "        [ 0.1065, -0.0381,  0.0032, -0.0483, -0.2273, -0.0012, -0.0586,  0.1363,\n",
      "          0.1252,  0.1174],\n",
      "        [ 0.1156, -0.0162, -0.1457,  0.0104, -0.0037,  0.2309,  0.0338,  0.2362,\n",
      "         -0.1770, -0.1395],\n",
      "        [ 0.1008, -0.2410,  0.3015,  0.1351,  0.0552,  0.1495,  0.3036,  0.1409,\n",
      "          0.1830,  0.1766]], requires_grad=True)\n",
      "Parameter containing:\n",
      "tensor([-0.0306,  0.1345, -0.1794,  0.2223, -0.0007, -0.2419,  0.0968,  0.2592,\n",
      "         0.2844,  0.0618], requires_grad=True)\n"
     ]
    }
   ],
   "source": [
    "from torchvision import models\n",
    "\n",
    "'''\n",
    "model = models.resnet18(pretrained=False) # set model here\n",
    "in_ftr = model.fc.in_features\n",
    "out_ftr = n_classes\n",
    "model.fc = nn.Linear(in_ftr,out_ftr,bias=True)\n",
    "'''\n",
    "\n",
    "# redefining stuff for AdaSecant test runs\n",
    "X_train = torch.rand(256, 10)\n",
    "X_test = torch.rand(256, 10)\n",
    "y_train = torch.randint(10, (256,))\n",
    "y_test = torch.randint(10, (256,))\n",
    "\n",
    "print('X_train:', X_train.shape)\n",
    "print('y_train:', y_train.shape)\n",
    "print('X_test:', X_test.shape)\n",
    "print('y_test:', y_test.shape)\n",
    "\n",
    "model = torch.nn.Sequential(nn.Linear(10, 10), nn.Linear(10, 10))\n",
    "for param in model.parameters():\n",
    "    print(param)\n",
    "\n",
    "dataset_train = BasicDataset(X_train, y_train)\n",
    "dataset_test = BasicDataset(X_test, y_test)"
   ]
  },
  {
   "cell_type": "markdown",
   "metadata": {},
   "source": [
    "Check specs for GPU-based training."
   ]
  },
  {
   "cell_type": "code",
   "execution_count": 5,
   "metadata": {},
   "outputs": [
    {
     "name": "stdout",
     "output_type": "stream",
     "text": [
      "cuda available: True\n",
      "cuda device name: NVIDIA GeForce 940MX\n",
      "cuda device id 0\n"
     ]
    }
   ],
   "source": [
    "print('cuda available:', torch.cuda.is_available())\n",
    "print('cuda device name:', torch.cuda.get_device_name())\n",
    "print('cuda device id', torch.cuda.current_device())"
   ]
  },
  {
   "cell_type": "markdown",
   "metadata": {},
   "source": [
    "Move model and data to GPU."
   ]
  },
  {
   "cell_type": "code",
   "execution_count": 6,
   "metadata": {},
   "outputs": [
    {
     "name": "stdout",
     "output_type": "stream",
     "text": [
      "worked? True\n"
     ]
    }
   ],
   "source": [
    "device = torch.device(\"cuda:0\" if torch.cuda.is_available() else \"cpu\")\n",
    "model.to(device)\n",
    "X_train.to(device)\n",
    "print('worked?', X_train.to(device).is_cuda)"
   ]
  },
  {
   "cell_type": "markdown",
   "metadata": {},
   "source": [
    "## Implementing AdaSecant\n",
    "https://github.com/pytorch/pytorch/blob/master/torch/optim/sgd.py"
   ]
  },
  {
   "cell_type": "code",
   "execution_count": 7,
   "metadata": {},
   "outputs": [],
   "source": [
    "from typing import List\n",
    "import copy\n",
    "\n",
    "class AdaSecant(optim.Optimizer):\n",
    "    r\"\"\"Documentation\n",
    "    Basis copied from https://github.com/pytorch/pytorch/blob/master/torch/optim/sgd.py.\n",
    "    Left out closure, momentum-related stuff, __setstate__ as it does not seem to be necessary.\n",
    "    \"\"\"\n",
    "\n",
    "    def __init__(self, params, lr=None):\n",
    "        if lr is not None:\n",
    "            print('Warning: lr is not a parameter for AdaSecant. Your lr will be set to None')\n",
    "            lr = None\n",
    "        defaults = dict(lr=lr)\n",
    "        super().__init__(params, defaults)\n",
    "        self.ready = False\n",
    "        self.current_gradients = None\n",
    "        # here we need to introduce some attribute to save params/gradients from old batch.\n",
    "        self.moving_average_of_g = None\n",
    "        self.delta = None\n",
    "        self.memory_size = None\n",
    "        self.gradients = None\n",
    "        \n",
    "        \n",
    "    @torch.no_grad()\n",
    "    def pre_step(self):\n",
    "        for group in self.param_groups:\n",
    "            d_p_list = []\n",
    "        \n",
    "            for p in group['params']:\n",
    "                    # subgrouping of parameters for each layer, bias and weights separately (each tensor)\n",
    "                    if p.grad is not None:\n",
    "                        d_p_list.append(copy.deepcopy(p.grad))\n",
    "        \n",
    "        self.current_gradients = d_p_list\n",
    "        self.ready = True\n",
    "        \n",
    "\n",
    "    @torch.no_grad()\n",
    "    def step(self):\n",
    "        \"\"\"Performs a single optimization step.\n",
    "        \"\"\"\n",
    "        \n",
    "        if not self.ready:\n",
    "            raise RuntimeError('You must perform optimizer.pre_step() before performing ' +\n",
    "                               'optimizer.step() when using AdaSecant.\\n' +\n",
    "                               'pre_step ensures that the gradient is saved while step will generate the ' +\n",
    "                               'gradient on the new batch.\\n' +\n",
    "                               'Recommended call sequence:' +\n",
    "                               ' \\n model.zero_grad(), \\n loss = ..., \\n loss.backwards(), \\n ' +\n",
    "                               'optimizer.pre_step(), \\n model.zero_grad(), \\n loss = ..., \\n ' +\n",
    "                               'loss.backwards(), \\n optimizer.step()')\n",
    "        else:\n",
    "            self.ready = False\n",
    "\n",
    "        for group in self.param_groups:\n",
    "            # all parameters of a model seem to be contained within the same group\n",
    "            params_with_grad = []\n",
    "            next_gradients = []\n",
    "\n",
    "            for p in group['params']:\n",
    "                # subgrouping of parameters for each layer, bias and weights separately (each tensor)\n",
    "                if p.grad is not None:\n",
    "                    params_with_grad.append(p)\n",
    "                    next_gradients.append(p.grad)\n",
    "            \n",
    "            adasecant(self, params_with_grad, next_gradients)\n",
    "            \n",
    "        return #loss\n",
    "    \n",
    "def adasecant(optimizer: AdaSecant, params: List[torch.Tensor], next_gradients: List[torch.Tensor]):\n",
    "    # g[i] corresponds to param[i]    \n",
    "    for i, param in enumerate(params):\n",
    "        g = optimizer.current_gradients[i]\n",
    "        g_next = next_gradients[i]\n",
    "        if i == 0:\n",
    "            print(param)\n",
    "            print(g)\n",
    "            print(g_next)\n",
    "        \n",
    "        correction_term = None # to be implemented\n",
    "        corrected_gradient = None # to be implemented\n",
    "        \n",
    "        \n",
    "    # update all attributes in optimizer\n",
    "    optimizer.gradients = g\n",
    "    # ...\n",
    "    pass"
   ]
  },
  {
   "cell_type": "code",
   "execution_count": 8,
   "metadata": {},
   "outputs": [],
   "source": [
    "import itertools\n",
    "from more_itertools import peekable\n",
    "\n",
    "def adasecant_dataloader(dataset, batch_size, shuffle=False, drop_last=False):\n",
    "    data_loader = peekable(iter(data.DataLoader(dataset=dataset, batch_size=batch_size, shuffle=shuffle, drop_last=drop_last)))\n",
    "    return data_loader\n",
    "\n",
    "data_loader = adasecant_dataloader(dataset_test, 60, True, True)\n",
    "for batch in data_loader:\n",
    "    #print('current', batch['y'])\n",
    "    try:\n",
    "        peek = data_loader.peek()\n",
    "        #print('next', peek['y'])\n",
    "    except StopIteration:\n",
    "        pass"
   ]
  },
  {
   "cell_type": "markdown",
   "metadata": {},
   "source": [
    "## Training"
   ]
  },
  {
   "cell_type": "code",
   "execution_count": 9,
   "metadata": {},
   "outputs": [],
   "source": [
    "def evaluate_model(model, dataset, batch_size=1000):\n",
    "    \n",
    "    data_loader = data.DataLoader(dataset=dataset, batch_size=batch_size, shuffle=False, drop_last=False)\n",
    "    loss = 0.0\n",
    "    correct = 0\n",
    "    \n",
    "    for batch in data_loader:\n",
    "        yhat = model.forward(batch['X'].float().to(device))\n",
    "        y = batch['y'].long().to(device)\n",
    "        batch_loss = f_loss(yhat, y)\n",
    "        loss += batch_loss.item() * len(batch['X'])\n",
    "        correct += (torch.argmax(yhat, dim=1) == y).float().sum().item()\n",
    "    accuracy = correct / len(dataset)\n",
    "    \n",
    "    return loss, accuracy\n",
    "\n",
    "def get_scheduler(optimizer, base_lr, max_lr, epochs_per_cycle, len_dataset, batch_size):\n",
    "    if epochs_per_cycle is None:\n",
    "        epochs_per_cycle = epochs\n",
    "    iterations_per_cycle = epochs_per_cycle * (len_dataset // batch_size)\n",
    "    return torch.optim.lr_scheduler.CyclicLR(optimizer, base_lr, max_lr, step_size_up=iterations_per_cycle / 2)"
   ]
  },
  {
   "cell_type": "code",
   "execution_count": 10,
   "metadata": {},
   "outputs": [],
   "source": [
    "def train_model(model, dataset, validation_set, batch_size=64, epochs=1, \n",
    "                f_loss=F.cross_entropy, epochs_per_cycle=None):\n",
    "    \n",
    "    optimizer = AdaSecant(model.parameters())\n",
    "    lr_history = []\n",
    "    validation_accuracy = []\n",
    "    epoch_losses = []\n",
    "    validation_losses = []\n",
    "    \n",
    "    # evaluate initial state of model\n",
    "    initial_training_loss, _ = evaluate_model(model, dataset)\n",
    "    epoch_losses.append(initial_training_loss)\n",
    "    validation_loss, accuracy = evaluate_model(model, validation_set)\n",
    "    validation_losses.append(validation_loss)\n",
    "    validation_accuracy.append(accuracy)\n",
    "\n",
    "    for epoch in range(epochs):\n",
    "        # training and epoch loss logging\n",
    "        # drop last to avoid stochastic outliers in gradient update\n",
    "        data_loader = adasecant_dataloader(dataset=dataset, batch_size=batch_size, shuffle=True, drop_last=True)\n",
    "        epoch_loss = 0.0\n",
    "        \n",
    "        for batch in data_loader:\n",
    "            \n",
    "            # prepare adasecant with current gradient\n",
    "            model.zero_grad()\n",
    "            yhat = model.forward(batch['X'].float().to(device))\n",
    "            batch_loss = f_loss(yhat, batch['y'].long().to(device))\n",
    "            epoch_loss += batch_loss.item() * len(batch['X'])\n",
    "            batch_loss.backward()\n",
    "            optimizer.pre_step()\n",
    "            \n",
    "            # run adasecant with next gradient (addiotionally to current gradient)\n",
    "            model.zero_grad()\n",
    "            try:\n",
    "                next_batch = data_loader.peek()\n",
    "                yhat = model.forward(next_batch['X'].float().to(device))\n",
    "                batch_loss = f_loss(yhat, next_batch['y'].long().to(device))\n",
    "                batch_loss.backward()\n",
    "                optimizer.step()\n",
    "            except:\n",
    "                # whatever happens if there is no next gradient\n",
    "                pass\n",
    "            #return\n",
    "            \n",
    "        print(f'Epoch {epoch+1}/{epochs} - Loss: {epoch_loss / len(dataset)}')\n",
    "        epoch_losses.append(epoch_loss)\n",
    "        \n",
    "        # calculate validation loss and accuracy\n",
    "        validation_loss, accuracy = evaluate_model(model, validation_set)\n",
    "        validation_losses.append(validation_loss)\n",
    "        validation_accuracy.append(accuracy)\n",
    "        \n",
    "    return (np.array(epoch_losses) / len(dataset), \n",
    "            np.array(validation_losses) / len(validation_set), \n",
    "            validation_accuracy, \n",
    "            lr_history)"
   ]
  },
  {
   "cell_type": "code",
   "execution_count": 11,
   "metadata": {},
   "outputs": [
    {
     "name": "stdout",
     "output_type": "stream",
     "text": [
      "Parameter containing:\n",
      "tensor([[ 0.2135, -0.1278, -0.2495,  0.0526,  0.1513,  0.0271, -0.1223, -0.0470,\n",
      "         -0.1977, -0.2170],\n",
      "        [-0.1285,  0.1133, -0.2761, -0.2720, -0.3155, -0.2889,  0.1507,  0.1169,\n",
      "         -0.2754,  0.1117],\n",
      "        [-0.0658, -0.0388, -0.0051,  0.1379, -0.2626, -0.0795, -0.2263,  0.0952,\n",
      "         -0.3134,  0.0006],\n",
      "        [ 0.1138, -0.1348, -0.0091, -0.1778,  0.3156, -0.1540, -0.1041, -0.1293,\n",
      "         -0.2746, -0.2961],\n",
      "        [-0.1181, -0.0018, -0.1586,  0.2298, -0.1785, -0.0142, -0.1911, -0.2382,\n",
      "         -0.0088, -0.2588],\n",
      "        [-0.2179, -0.1114, -0.2636, -0.2959, -0.2951, -0.2657,  0.2713, -0.2628,\n",
      "         -0.2472, -0.0278],\n",
      "        [ 0.1604, -0.2458, -0.1888, -0.1883,  0.0228, -0.0344, -0.3145,  0.0466,\n",
      "         -0.1247, -0.1604],\n",
      "        [-0.0928,  0.2854,  0.0482, -0.1393, -0.3014, -0.1819,  0.1672,  0.1146,\n",
      "          0.2684,  0.0408],\n",
      "        [-0.0987, -0.0962,  0.2565,  0.2347, -0.2063, -0.1477, -0.2444,  0.1916,\n",
      "         -0.2592, -0.1246],\n",
      "        [ 0.2826,  0.0474, -0.0058,  0.2317, -0.0085,  0.2795,  0.1993, -0.2094,\n",
      "          0.0906, -0.2608]], device='cuda:0', requires_grad=True)\n",
      "tensor([[-0.0066, -0.0053, -0.0028, -0.0068, -0.0078, -0.0117, -0.0105, -0.0074,\n",
      "         -0.0013, -0.0049],\n",
      "        [ 0.0242,  0.0125,  0.0198,  0.0155,  0.0271,  0.0084,  0.0230,  0.0272,\n",
      "          0.0283,  0.0275],\n",
      "        [-0.0203, -0.0141, -0.0248, -0.0130, -0.0208, -0.0160, -0.0293, -0.0271,\n",
      "         -0.0259, -0.0259],\n",
      "        [-0.0188, -0.0213, -0.0220, -0.0294, -0.0309, -0.0159, -0.0221, -0.0277,\n",
      "         -0.0246, -0.0238],\n",
      "        [-0.0034,  0.0054,  0.0016,  0.0011, -0.0008,  0.0023,  0.0074, -0.0024,\n",
      "          0.0019,  0.0029],\n",
      "        [-0.0247, -0.0269, -0.0218, -0.0316, -0.0329, -0.0232, -0.0281, -0.0343,\n",
      "         -0.0287, -0.0313],\n",
      "        [-0.0376, -0.0384, -0.0443, -0.0446, -0.0439, -0.0332, -0.0457, -0.0421,\n",
      "         -0.0441, -0.0462],\n",
      "        [-0.0136, -0.0042, -0.0044, -0.0047, -0.0212, -0.0043, -0.0149, -0.0062,\n",
      "         -0.0145, -0.0170],\n",
      "        [-0.0163, -0.0033, -0.0125, -0.0048, -0.0144, -0.0030, -0.0158, -0.0163,\n",
      "         -0.0149, -0.0128],\n",
      "        [ 0.0181,  0.0193,  0.0128,  0.0194,  0.0178,  0.0092,  0.0150,  0.0186,\n",
      "          0.0229,  0.0255]], device='cuda:0')\n",
      "tensor([[ 0.0024,  0.0007, -0.0024, -0.0037, -0.0009,  0.0120,  0.0027, -0.0047,\n",
      "          0.0011,  0.0086],\n",
      "        [ 0.0246,  0.0292,  0.0216,  0.0219,  0.0206,  0.0239,  0.0216,  0.0222,\n",
      "          0.0319,  0.0342],\n",
      "        [-0.0152, -0.0113, -0.0206, -0.0206, -0.0075, -0.0199, -0.0149, -0.0106,\n",
      "         -0.0159, -0.0301],\n",
      "        [-0.0049, -0.0176, -0.0139, -0.0097, -0.0113, -0.0020, -0.0140, -0.0079,\n",
      "         -0.0120,  0.0045],\n",
      "        [-0.0305, -0.0230, -0.0098, -0.0232, -0.0218, -0.0223, -0.0161, -0.0286,\n",
      "         -0.0202, -0.0401],\n",
      "        [-0.0126, -0.0230, -0.0260, -0.0208, -0.0261, -0.0055, -0.0205, -0.0178,\n",
      "         -0.0272, -0.0020],\n",
      "        [-0.0192, -0.0261, -0.0250, -0.0273, -0.0183, -0.0214, -0.0310, -0.0129,\n",
      "         -0.0229, -0.0150],\n",
      "        [ 0.0201,  0.0045,  0.0052,  0.0074,  0.0094,  0.0043,  0.0009,  0.0126,\n",
      "         -0.0040,  0.0200],\n",
      "        [-0.0316, -0.0285, -0.0150, -0.0174, -0.0138, -0.0140, -0.0122, -0.0251,\n",
      "         -0.0196, -0.0375],\n",
      "        [ 0.0124,  0.0204,  0.0182,  0.0130,  0.0249,  0.0153,  0.0202,  0.0110,\n",
      "          0.0308,  0.0067]], device='cuda:0')\n",
      "Parameter containing:\n",
      "tensor([[ 0.2135, -0.1278, -0.2495,  0.0526,  0.1513,  0.0271, -0.1223, -0.0470,\n",
      "         -0.1977, -0.2170],\n",
      "        [-0.1285,  0.1133, -0.2761, -0.2720, -0.3155, -0.2889,  0.1507,  0.1169,\n",
      "         -0.2754,  0.1117],\n",
      "        [-0.0658, -0.0388, -0.0051,  0.1379, -0.2626, -0.0795, -0.2263,  0.0952,\n",
      "         -0.3134,  0.0006],\n",
      "        [ 0.1138, -0.1348, -0.0091, -0.1778,  0.3156, -0.1540, -0.1041, -0.1293,\n",
      "         -0.2746, -0.2961],\n",
      "        [-0.1181, -0.0018, -0.1586,  0.2298, -0.1785, -0.0142, -0.1911, -0.2382,\n",
      "         -0.0088, -0.2588],\n",
      "        [-0.2179, -0.1114, -0.2636, -0.2959, -0.2951, -0.2657,  0.2713, -0.2628,\n",
      "         -0.2472, -0.0278],\n",
      "        [ 0.1604, -0.2458, -0.1888, -0.1883,  0.0228, -0.0344, -0.3145,  0.0466,\n",
      "         -0.1247, -0.1604],\n",
      "        [-0.0928,  0.2854,  0.0482, -0.1393, -0.3014, -0.1819,  0.1672,  0.1146,\n",
      "          0.2684,  0.0408],\n",
      "        [-0.0987, -0.0962,  0.2565,  0.2347, -0.2063, -0.1477, -0.2444,  0.1916,\n",
      "         -0.2592, -0.1246],\n",
      "        [ 0.2826,  0.0474, -0.0058,  0.2317, -0.0085,  0.2795,  0.1993, -0.2094,\n",
      "          0.0906, -0.2608]], device='cuda:0', requires_grad=True)\n",
      "tensor([[ 0.0024,  0.0007, -0.0024, -0.0037, -0.0009,  0.0120,  0.0027, -0.0047,\n",
      "          0.0011,  0.0086],\n",
      "        [ 0.0246,  0.0292,  0.0216,  0.0219,  0.0206,  0.0239,  0.0216,  0.0222,\n",
      "          0.0319,  0.0342],\n",
      "        [-0.0152, -0.0113, -0.0206, -0.0206, -0.0075, -0.0199, -0.0149, -0.0106,\n",
      "         -0.0159, -0.0301],\n",
      "        [-0.0049, -0.0176, -0.0139, -0.0097, -0.0113, -0.0020, -0.0140, -0.0079,\n",
      "         -0.0120,  0.0045],\n",
      "        [-0.0305, -0.0230, -0.0098, -0.0232, -0.0218, -0.0223, -0.0161, -0.0286,\n",
      "         -0.0202, -0.0401],\n",
      "        [-0.0126, -0.0230, -0.0260, -0.0208, -0.0261, -0.0055, -0.0205, -0.0178,\n",
      "         -0.0272, -0.0020],\n",
      "        [-0.0192, -0.0261, -0.0250, -0.0273, -0.0183, -0.0214, -0.0310, -0.0129,\n",
      "         -0.0229, -0.0150],\n",
      "        [ 0.0201,  0.0045,  0.0052,  0.0074,  0.0094,  0.0043,  0.0009,  0.0126,\n",
      "         -0.0040,  0.0200],\n",
      "        [-0.0316, -0.0285, -0.0150, -0.0174, -0.0138, -0.0140, -0.0122, -0.0251,\n",
      "         -0.0196, -0.0375],\n",
      "        [ 0.0124,  0.0204,  0.0182,  0.0130,  0.0249,  0.0153,  0.0202,  0.0110,\n",
      "          0.0308,  0.0067]], device='cuda:0')\n",
      "tensor([[-0.0153, -0.0170, -0.0204, -0.0248, -0.0117, -0.0139, -0.0228, -0.0201,\n",
      "         -0.0198, -0.0173],\n",
      "        [ 0.0166,  0.0223,  0.0080,  0.0180,  0.0228,  0.0112,  0.0147,  0.0215,\n",
      "          0.0225,  0.0183],\n",
      "        [-0.0132, -0.0333, -0.0109, -0.0212, -0.0266, -0.0109, -0.0155, -0.0271,\n",
      "         -0.0210, -0.0099],\n",
      "        [-0.0368, -0.0298, -0.0235, -0.0333, -0.0301, -0.0298, -0.0371, -0.0338,\n",
      "         -0.0333, -0.0304],\n",
      "        [-0.0025, -0.0046,  0.0011,  0.0015, -0.0011,  0.0009, -0.0021,  0.0016,\n",
      "          0.0014, -0.0089],\n",
      "        [-0.0316, -0.0202, -0.0261, -0.0388, -0.0312, -0.0267, -0.0358, -0.0364,\n",
      "         -0.0393, -0.0341],\n",
      "        [-0.0479, -0.0524, -0.0183, -0.0299, -0.0257, -0.0276, -0.0391, -0.0396,\n",
      "         -0.0356, -0.0194],\n",
      "        [-0.0026, -0.0117, -0.0089, -0.0029, -0.0106,  0.0020, -0.0063, -0.0119,\n",
      "         -0.0101, -0.0006],\n",
      "        [-0.0196, -0.0227, -0.0060, -0.0203, -0.0119, -0.0145, -0.0138, -0.0171,\n",
      "         -0.0188, -0.0185],\n",
      "        [ 0.0047, -0.0102, -0.0046, -0.0006,  0.0003, -0.0012, -0.0015,  0.0010,\n",
      "          0.0089,  0.0032]], device='cuda:0')\n",
      "Parameter containing:\n",
      "tensor([[ 0.2135, -0.1278, -0.2495,  0.0526,  0.1513,  0.0271, -0.1223, -0.0470,\n",
      "         -0.1977, -0.2170],\n",
      "        [-0.1285,  0.1133, -0.2761, -0.2720, -0.3155, -0.2889,  0.1507,  0.1169,\n",
      "         -0.2754,  0.1117],\n",
      "        [-0.0658, -0.0388, -0.0051,  0.1379, -0.2626, -0.0795, -0.2263,  0.0952,\n",
      "         -0.3134,  0.0006],\n",
      "        [ 0.1138, -0.1348, -0.0091, -0.1778,  0.3156, -0.1540, -0.1041, -0.1293,\n",
      "         -0.2746, -0.2961],\n",
      "        [-0.1181, -0.0018, -0.1586,  0.2298, -0.1785, -0.0142, -0.1911, -0.2382,\n",
      "         -0.0088, -0.2588],\n",
      "        [-0.2179, -0.1114, -0.2636, -0.2959, -0.2951, -0.2657,  0.2713, -0.2628,\n",
      "         -0.2472, -0.0278],\n",
      "        [ 0.1604, -0.2458, -0.1888, -0.1883,  0.0228, -0.0344, -0.3145,  0.0466,\n",
      "         -0.1247, -0.1604],\n",
      "        [-0.0928,  0.2854,  0.0482, -0.1393, -0.3014, -0.1819,  0.1672,  0.1146,\n",
      "          0.2684,  0.0408],\n",
      "        [-0.0987, -0.0962,  0.2565,  0.2347, -0.2063, -0.1477, -0.2444,  0.1916,\n",
      "         -0.2592, -0.1246],\n",
      "        [ 0.2826,  0.0474, -0.0058,  0.2317, -0.0085,  0.2795,  0.1993, -0.2094,\n",
      "          0.0906, -0.2608]], device='cuda:0', requires_grad=True)\n",
      "tensor([[-0.0153, -0.0170, -0.0204, -0.0248, -0.0117, -0.0139, -0.0228, -0.0201,\n",
      "         -0.0198, -0.0173],\n",
      "        [ 0.0166,  0.0223,  0.0080,  0.0180,  0.0228,  0.0112,  0.0147,  0.0215,\n",
      "          0.0225,  0.0183],\n",
      "        [-0.0132, -0.0333, -0.0109, -0.0212, -0.0266, -0.0109, -0.0155, -0.0271,\n",
      "         -0.0210, -0.0099],\n",
      "        [-0.0368, -0.0298, -0.0235, -0.0333, -0.0301, -0.0298, -0.0371, -0.0338,\n",
      "         -0.0333, -0.0304],\n",
      "        [-0.0025, -0.0046,  0.0011,  0.0015, -0.0011,  0.0009, -0.0021,  0.0016,\n",
      "          0.0014, -0.0089],\n",
      "        [-0.0316, -0.0202, -0.0261, -0.0388, -0.0312, -0.0267, -0.0358, -0.0364,\n",
      "         -0.0393, -0.0341],\n",
      "        [-0.0479, -0.0524, -0.0183, -0.0299, -0.0257, -0.0276, -0.0391, -0.0396,\n",
      "         -0.0356, -0.0194],\n",
      "        [-0.0026, -0.0117, -0.0089, -0.0029, -0.0106,  0.0020, -0.0063, -0.0119,\n",
      "         -0.0101, -0.0006],\n",
      "        [-0.0196, -0.0227, -0.0060, -0.0203, -0.0119, -0.0145, -0.0138, -0.0171,\n",
      "         -0.0188, -0.0185],\n",
      "        [ 0.0047, -0.0102, -0.0046, -0.0006,  0.0003, -0.0012, -0.0015,  0.0010,\n",
      "          0.0089,  0.0032]], device='cuda:0')\n",
      "tensor([[-1.0704e-02, -9.8529e-03, -7.3038e-03, -7.6136e-03, -1.2496e-02,\n",
      "         -2.7260e-03,  2.7466e-03, -3.3658e-03,  2.5851e-05,  4.4362e-03],\n",
      "        [ 1.0261e-02,  5.8279e-03,  7.4446e-03,  4.1086e-03,  1.0599e-02,\n",
      "          9.3221e-03,  1.0809e-02,  1.0430e-03,  1.4887e-02,  2.0042e-02],\n",
      "        [-9.7336e-03,  1.4957e-03, -3.3469e-03, -2.5329e-03, -6.8349e-03,\n",
      "         -4.9753e-03, -7.4734e-03, -4.1622e-03, -5.8462e-03, -1.0021e-02],\n",
      "        [-1.2928e-02, -1.7334e-02, -1.8946e-02, -1.4251e-02, -7.1933e-03,\n",
      "         -1.4772e-02, -5.6979e-03, -5.9657e-03, -1.5155e-02, -1.1954e-02],\n",
      "        [-5.4476e-03, -1.7526e-03,  2.1209e-03,  3.3145e-03, -5.6635e-03,\n",
      "         -6.5148e-03, -5.8708e-03, -3.6023e-03, -2.2713e-03, -1.1177e-02],\n",
      "        [-2.1937e-02, -2.6529e-02, -3.1918e-02, -1.8621e-02, -2.9620e-02,\n",
      "         -2.0072e-02, -1.5735e-02, -1.5141e-02, -1.8672e-02, -1.5220e-02],\n",
      "        [-2.3594e-02, -1.1174e-02, -1.7151e-02, -1.7168e-02, -1.5247e-02,\n",
      "         -2.1613e-02, -1.4622e-02, -3.8439e-03, -2.0957e-02, -1.8602e-02],\n",
      "        [ 1.9872e-02,  1.5386e-02,  3.2742e-03,  9.4531e-03,  1.4797e-02,\n",
      "          1.7285e-02,  1.6010e-02,  2.4805e-02,  1.4096e-02,  1.1780e-02],\n",
      "        [-2.1561e-02, -9.3141e-03,  3.3686e-04, -8.4892e-03, -1.2440e-02,\n",
      "         -1.3072e-02, -8.5102e-03, -4.9488e-03, -2.1269e-02, -1.9921e-02],\n",
      "        [ 1.0629e-02,  1.3906e-02,  2.0018e-02,  9.3032e-03,  2.3996e-02,\n",
      "          1.3778e-02,  2.0095e-02,  6.9464e-03,  1.7467e-02,  1.7524e-02]],\n",
      "       device='cuda:0')\n",
      "Epoch 1/1 - Loss: 2.391292691230774\n"
     ]
    }
   ],
   "source": [
    "base_lr = 0.01\n",
    "max_lr = 0.1\n",
    "batch_size = 64\n",
    "epochs = 1\n",
    "f_opt = AdaSecant\n",
    "f_loss = F.cross_entropy\n",
    "cycle = epochs\n",
    "\n",
    "training_loss, validation_loss, validation_accuracy, lr_history = train_model(model.to(device),\n",
    "                                                                              dataset_train,\n",
    "                                                                              dataset_test,\n",
    "                                                                              batch_size,\n",
    "                                                                              epochs,\n",
    "                                                                              f_loss,\n",
    "                                                                              cycle)"
   ]
  },
  {
   "cell_type": "code",
   "execution_count": 12,
   "metadata": {},
   "outputs": [
    {
     "data": {
      "text/plain": [
       "<matplotlib.legend.Legend at 0x24a97a05dc0>"
      ]
     },
     "execution_count": 12,
     "metadata": {},
     "output_type": "execute_result"
    },
    {
     "data": {
      "image/png": "[encoded data removed]",
      "text/plain": [
       "<Figure size 432x288 with 1 Axes>"
      ]
     },
     "metadata": {
      "needs_background": "light"
     },
     "output_type": "display_data"
    }
   ],
   "source": [
    "plt.plot(training_loss, label='training loss')\n",
    "plt.plot(validation_loss, label='validation loss')\n",
    "plt.xlabel('Epochs')\n",
    "plt.ylabel('Mean Cross Entropy Loss')\n",
    "#plt.ylim(0.0, 10)\n",
    "plt.legend()"
   ]
  },
  {
   "cell_type": "code",
   "execution_count": 13,
   "metadata": {},
   "outputs": [
    {
     "data": {
      "text/plain": [
       "[<matplotlib.lines.Line2D at 0x24a97b11f70>]"
      ]
     },
     "execution_count": 13,
     "metadata": {},
     "output_type": "execute_result"
    },
    {
     "data": {
      "image/png": "[encoded data removed]",
      "text/plain": [
       "<Figure size 432x288 with 1 Axes>"
      ]
     },
     "metadata": {
      "needs_background": "light"
     },
     "output_type": "display_data"
    }
   ],
   "source": [
    "plt.plot(lr_history)"
   ]
  },
  {
   "cell_type": "code",
   "execution_count": 14,
   "metadata": {},
   "outputs": [
    {
     "name": "stdout",
     "output_type": "stream",
     "text": [
      "0.10546875\n"
     ]
    },
    {
     "data": {
      "image/png": "[encoded data removed]",
      "text/plain": [
       "<Figure size 432x288 with 1 Axes>"
      ]
     },
     "metadata": {
      "needs_background": "light"
     },
     "output_type": "display_data"
    }
   ],
   "source": [
    "plt.plot(validation_accuracy)\n",
    "print(max(validation_accuracy))"
   ]
  },
  {
   "cell_type": "code",
   "execution_count": 15,
   "metadata": {},
   "outputs": [
    {
     "ename": "ModuleNotFoundError",
     "evalue": "No module named 'google'",
     "output_type": "error",
     "traceback": [
      "\u001b[1;31m---------------------------------------------------------------------------\u001b[0m",
      "\u001b[1;31mModuleNotFoundError\u001b[0m                       Traceback (most recent call last)",
      "\u001b[1;32m<ipython-input-15-1045e0c59eb0>\u001b[0m in \u001b[0;36m<module>\u001b[1;34m\u001b[0m\n\u001b[0;32m      1\u001b[0m \u001b[1;32mimport\u001b[0m \u001b[0mcsv\u001b[0m\u001b[1;33m\u001b[0m\u001b[1;33m\u001b[0m\u001b[0m\n\u001b[1;32m----> 2\u001b[1;33m \u001b[1;32mfrom\u001b[0m \u001b[0mgoogle\u001b[0m\u001b[1;33m.\u001b[0m\u001b[0mcolab\u001b[0m \u001b[1;32mimport\u001b[0m \u001b[0mfiles\u001b[0m\u001b[1;33m\u001b[0m\u001b[1;33m\u001b[0m\u001b[0m\n\u001b[0m\u001b[0;32m      3\u001b[0m \u001b[1;33m\u001b[0m\u001b[0m\n\u001b[0;32m      4\u001b[0m \u001b[1;32mwith\u001b[0m \u001b[0mopen\u001b[0m\u001b[1;33m(\u001b[0m\u001b[1;34m'train_loss'\u001b[0m\u001b[1;33m,\u001b[0m \u001b[1;34m'w'\u001b[0m\u001b[1;33m)\u001b[0m \u001b[1;32mas\u001b[0m \u001b[0mf\u001b[0m\u001b[1;33m:\u001b[0m\u001b[1;33m\u001b[0m\u001b[1;33m\u001b[0m\u001b[0m\n\u001b[0;32m      5\u001b[0m     \u001b[0mwrite\u001b[0m \u001b[1;33m=\u001b[0m \u001b[0mcsv\u001b[0m\u001b[1;33m.\u001b[0m\u001b[0mwriter\u001b[0m\u001b[1;33m(\u001b[0m\u001b[0mf\u001b[0m\u001b[1;33m)\u001b[0m\u001b[1;33m\u001b[0m\u001b[1;33m\u001b[0m\u001b[0m\n",
      "\u001b[1;31mModuleNotFoundError\u001b[0m: No module named 'google'"
     ]
    }
   ],
   "source": [
    "import csv\n",
    "from google.colab import files\n",
    "\n",
    "with open('train_loss', 'w') as f:\n",
    "    write = csv.writer(f)\n",
    "    write.writerow(training_loss)\n",
    "\n",
    "with open('val_loss', 'w') as f: \n",
    "    write = csv.writer(f)  \n",
    "    write.writerow(validation_loss)\n",
    "\n",
    "with open('val_accuracy', 'w') as f: \n",
    "    write = csv.writer(f)  \n",
    "    write.writerow(validation_accuracy)\n",
    "    \n",
    "with open('lr_history', 'w') as f: \n",
    "    write = csv.writer(f)  \n",
    "    write.writerow(lr_history)\n",
    "\n",
    "files.download('train_loss')\n",
    "files.download('val_loss')\n",
    "files.download('val_accuracy')\n",
    "files.download('lr_history')"
   ]
  }
 ],
 "metadata": {
  "kernelspec": {
   "display_name": "Python 3",
   "language": "python",
   "name": "python3"
  },
  "language_info": {
   "codemirror_mode": {
    "name": "ipython",
    "version": 3
   },
   "file_extension": ".py",
   "mimetype": "text/x-python",
   "name": "python",
   "nbconvert_exporter": "python",
   "pygments_lexer": "ipython3",
   "version": "3.8.5"
  }
 },
 "nbformat": 4,
 "nbformat_minor": 4
}
