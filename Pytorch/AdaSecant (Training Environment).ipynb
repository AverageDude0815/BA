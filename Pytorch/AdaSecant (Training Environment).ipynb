{
 "cells": [
  {
   "cell_type": "markdown",
   "metadata": {},
   "source": [
    "# Training Environment"
   ]
  },
  {
   "cell_type": "code",
   "execution_count": 1,
   "metadata": {},
   "outputs": [],
   "source": [
    "import matplotlib.pyplot as plt\n",
    "import numpy as np\n",
    "import torch  # Package name: torch (for pip), pytorch (for conda)\n",
    "import torch.nn as nn\n",
    "import torch.nn.functional as F\n",
    "import torch.optim as optim\n",
    "import torch.utils.data as data\n",
    "\n",
    "class BasicDataset(data.Dataset):\n",
    "    def __init__(self, X, y):\n",
    "        self.X = X\n",
    "        self.y = y\n",
    "    \n",
    "    def __getitem__(self, idx):\n",
    "        return dict(X=self.X[idx], y=self.y[idx])\n",
    "    \n",
    "    def __len__(self):\n",
    "        return self.X.shape[0]"
   ]
  },
  {
   "cell_type": "markdown",
   "metadata": {},
   "source": [
    "## Prepare Data"
   ]
  },
  {
   "cell_type": "code",
   "execution_count": 2,
   "metadata": {},
   "outputs": [
    {
     "name": "stdout",
     "output_type": "stream",
     "text": [
      "Files already downloaded and verified\n",
      "Files already downloaded and verified\n",
      "Dataset CIFAR10\n",
      "    Number of datapoints: 50000\n",
      "    Root location: ./data\n",
      "    Split: Train\n",
      "Dataset CIFAR10\n",
      "    Number of datapoints: 10000\n",
      "    Root location: ./data\n",
      "    Split: Test\n"
     ]
    }
   ],
   "source": [
    "import torchvision.datasets as datasets\n",
    "\n",
    "mnist = False\n",
    "cifar10 = True\n",
    "cifar100 = False\n",
    "assert mnist ^ cifar10 ^ cifar100\n",
    "\n",
    "n_classes = 10\n",
    "if mnist:\n",
    "    trainset = datasets.MNIST(root='./data', train=True, download=True, transform=None)\n",
    "    testset = datasets.MNIST(root='./data', train=False, download=True, transform=None)\n",
    "if cifar10:\n",
    "    trainset = datasets.CIFAR10(root='./data', train=True, download=True, transform=None)\n",
    "    testset = datasets.CIFAR10(root='./data', train=False, download=True, transform=None)\n",
    "if cifar100:\n",
    "    n_classes = 100\n",
    "    trainset = datasets.CIFAR100(root='./data', train=True, download=True, transform=None)\n",
    "    testset = datasets.CIFAR100(root='./data', train=False, download=True, transform=None)\n",
    "\n",
    "print(trainset)\n",
    "print(testset)"
   ]
  },
  {
   "cell_type": "code",
   "execution_count": 3,
   "metadata": {},
   "outputs": [
    {
     "name": "stdout",
     "output_type": "stream",
     "text": [
      "X_train: torch.Size([50000, 3, 32, 32])\n",
      "y_train: torch.Size([50000])\n",
      "X_test: torch.Size([10000, 3, 32, 32])\n",
      "y_test: torch.Size([10000])\n"
     ]
    }
   ],
   "source": [
    "def to_rgb(x_grey: torch.Tensor) -> torch.Tensor:\n",
    "    if len(x_grey.size()) == 3:\n",
    "        helper = torch.unsqueeze(x_grey, 1)\n",
    "        return helper.repeat(1, 3, 1, 1).float()\n",
    "    elif len(x_grey.size()) == 4 and x_grey.size()[1] == 1:\n",
    "        return x_grey.repeat(1, 3, 1, 1).float()\n",
    "    elif len(x_grey.size()) == 4 and x_grey.size()[1] == 3:\n",
    "        return x_grey\n",
    "    elif len(x_grey.size()) == 4:\n",
    "        raise ValueError(f'The size of this image tensor is not valid.\\\n",
    "        A 4th order image tensor must have dim1==1 (grey-scale) or dim1==3 (rgb).\\\n",
    "        Unknown format cannot be transformed to rgb.')\n",
    "    else:\n",
    "        raise ValueError(f'The size of this image-tensor is not valid.\\\n",
    "        Must be either 3rd (grey-scale) order tensor or 4th order tensor (rgb).\\\n",
    "        Got order {len(x_grey.size())}')\n",
    "        \n",
    "def swap_data(X):\n",
    "    X1 = np.swapaxes(X, 1, 3)\n",
    "    X2 = np.swapaxes(X1, 2, 3)\n",
    "    return X2\n",
    "\n",
    "if mnist:\n",
    "    X_train_grey = trainset.train_data\n",
    "    X_train = to_rgb(X_train_grey)\n",
    "    X_test_grey = testset.test_data\n",
    "    X_test = to_rgb(X_test_grey)\n",
    "    y_train = trainset.train_labels\n",
    "    y_test = testset.test_labels\n",
    "else:\n",
    "    X_train = torch.tensor(swap_data(trainset.data))\n",
    "    y_train = torch.tensor(trainset.targets)\n",
    "    X_test = torch.tensor(swap_data(testset.data))\n",
    "    y_test = torch.tensor(testset.targets)\n",
    "    \n",
    "print('X_train:', X_train.shape)\n",
    "print('y_train:', y_train.shape)\n",
    "print('X_test:', X_test.shape)\n",
    "print('y_test:', y_test.shape)"
   ]
  },
  {
   "cell_type": "markdown",
   "metadata": {},
   "source": [
    "## Model load, modifications and GPU optimization"
   ]
  },
  {
   "cell_type": "code",
   "execution_count": 4,
   "metadata": {},
   "outputs": [
    {
     "name": "stdout",
     "output_type": "stream",
     "text": [
      "X_train: torch.Size([256, 10])\n",
      "y_train: torch.Size([256])\n",
      "X_test: torch.Size([256, 10])\n",
      "y_test: torch.Size([256])\n",
      "Parameter containing:\n",
      "tensor([[ 0.3081, -0.1087,  0.3043,  0.1041,  0.2293,  0.0750,  0.0326, -0.0675,\n",
      "         -0.0793, -0.2276],\n",
      "        [ 0.1159,  0.1856, -0.2462,  0.1416, -0.2609,  0.1936, -0.2962,  0.1680,\n",
      "         -0.2507,  0.2440],\n",
      "        [-0.3053,  0.0838, -0.3122, -0.3136, -0.0055,  0.0481,  0.2192, -0.1685,\n",
      "         -0.1876,  0.3061],\n",
      "        [-0.1905,  0.0355, -0.0823,  0.0642,  0.2965, -0.1505,  0.0556,  0.2126,\n",
      "         -0.0331, -0.2114],\n",
      "        [ 0.2961,  0.1053,  0.2811,  0.2284, -0.2608,  0.3040,  0.0059, -0.2007,\n",
      "          0.0551, -0.2997],\n",
      "        [ 0.2021, -0.1502,  0.1903,  0.1113,  0.2819, -0.0266, -0.0167,  0.3124,\n",
      "          0.3095,  0.0867],\n",
      "        [-0.0486,  0.2712, -0.0696, -0.2742,  0.1535,  0.0174, -0.0621,  0.1685,\n",
      "         -0.1153,  0.3161],\n",
      "        [-0.1620,  0.1844, -0.2491,  0.1941, -0.1138,  0.0800, -0.2089, -0.1813,\n",
      "         -0.0189,  0.1637],\n",
      "        [ 0.2841,  0.2738,  0.1812,  0.3000,  0.0425,  0.1462, -0.1272,  0.0324,\n",
      "         -0.2271,  0.2893],\n",
      "        [-0.3059,  0.2775, -0.2649, -0.2565, -0.2835, -0.1936,  0.2606,  0.0716,\n",
      "          0.2803, -0.1177]], requires_grad=True)\n",
      "Parameter containing:\n",
      "tensor([ 0.1585,  0.1824,  0.1929,  0.2371,  0.2605, -0.2081,  0.1706, -0.0931,\n",
      "         0.0096,  0.1385], requires_grad=True)\n",
      "Parameter containing:\n",
      "tensor([[ 0.2181, -0.0774,  0.0672, -0.0149,  0.0958,  0.2830, -0.2591, -0.1754,\n",
      "         -0.1793, -0.0219],\n",
      "        [ 0.1282,  0.2968, -0.2960, -0.0014,  0.1139,  0.3032,  0.1584,  0.1975,\n",
      "          0.2100, -0.0535],\n",
      "        [ 0.0874, -0.0147,  0.0527,  0.3162, -0.2206,  0.2873, -0.1586, -0.1853,\n",
      "          0.2525, -0.0820],\n",
      "        [-0.0885, -0.2141,  0.2339, -0.2258,  0.0044, -0.0444,  0.2095, -0.0346,\n",
      "          0.2196, -0.0574],\n",
      "        [-0.0737, -0.1201, -0.1635, -0.0794, -0.0051, -0.0139,  0.2133, -0.1252,\n",
      "         -0.0321, -0.2060],\n",
      "        [ 0.3093,  0.2024, -0.2221, -0.2743, -0.2863,  0.0114, -0.1361, -0.1367,\n",
      "          0.2159, -0.0490],\n",
      "        [-0.1811, -0.2165, -0.0424,  0.3004,  0.1018, -0.2280,  0.0487, -0.2544,\n",
      "          0.0832, -0.2640],\n",
      "        [ 0.1887, -0.0458, -0.0390, -0.0824, -0.1584, -0.2617,  0.2923, -0.1361,\n",
      "          0.1935,  0.3031],\n",
      "        [ 0.1496, -0.0746, -0.2041, -0.2771, -0.1693,  0.1788,  0.0211,  0.2148,\n",
      "          0.3140,  0.1276],\n",
      "        [-0.1765, -0.2120,  0.0219,  0.2213,  0.2853, -0.3023,  0.2437,  0.1091,\n",
      "         -0.2399, -0.2242]], requires_grad=True)\n",
      "Parameter containing:\n",
      "tensor([-0.1723,  0.3010, -0.1192, -0.0066, -0.0830, -0.1037, -0.3014,  0.1294,\n",
      "        -0.0961,  0.1157], requires_grad=True)\n"
     ]
    }
   ],
   "source": [
    "from torchvision import models\n",
    "\n",
    "'''\n",
    "model = models.resnet18(pretrained=False) # set model here\n",
    "in_ftr = model.fc.in_features\n",
    "out_ftr = n_classes\n",
    "model.fc = nn.Linear(in_ftr,out_ftr,bias=True)\n",
    "'''\n",
    "\n",
    "# redefining stuff for AdaSecant test runs\n",
    "X_train = torch.rand(256, 10)\n",
    "X_test = torch.rand(256, 10)\n",
    "y_train = torch.randint(10, (256,))\n",
    "y_test = torch.randint(10, (256,))\n",
    "\n",
    "print('X_train:', X_train.shape)\n",
    "print('y_train:', y_train.shape)\n",
    "print('X_test:', X_test.shape)\n",
    "print('y_test:', y_test.shape)\n",
    "\n",
    "model = torch.nn.Sequential(nn.Linear(10, 10), nn.Linear(10, 10))\n",
    "for param in model.parameters():\n",
    "    print(param)\n",
    "\n",
    "dataset_train = BasicDataset(X_train, y_train)\n",
    "dataset_test = BasicDataset(X_test, y_test)"
   ]
  },
  {
   "cell_type": "markdown",
   "metadata": {},
   "source": [
    "Check specs for GPU-based training."
   ]
  },
  {
   "cell_type": "code",
   "execution_count": 5,
   "metadata": {},
   "outputs": [
    {
     "name": "stdout",
     "output_type": "stream",
     "text": [
      "cuda available: True\n",
      "cuda device name: NVIDIA GeForce 940MX\n",
      "cuda device id 0\n"
     ]
    }
   ],
   "source": [
    "print('cuda available:', torch.cuda.is_available())\n",
    "print('cuda device name:', torch.cuda.get_device_name())\n",
    "print('cuda device id', torch.cuda.current_device())"
   ]
  },
  {
   "cell_type": "markdown",
   "metadata": {},
   "source": [
    "Move model and data to GPU."
   ]
  },
  {
   "cell_type": "code",
   "execution_count": 6,
   "metadata": {},
   "outputs": [
    {
     "name": "stdout",
     "output_type": "stream",
     "text": [
      "worked? True\n"
     ]
    }
   ],
   "source": [
    "device = torch.device(\"cuda:0\" if torch.cuda.is_available() else \"cpu\")\n",
    "model.to(device)\n",
    "X_train.to(device)\n",
    "print('worked?', X_train.to(device).is_cuda)"
   ]
  },
  {
   "cell_type": "markdown",
   "metadata": {},
   "source": [
    "## Implementing AdaSecant\n",
    "https://github.com/pytorch/pytorch/blob/master/torch/optim/sgd.py"
   ]
  },
  {
   "cell_type": "code",
   "execution_count": 7,
   "metadata": {},
   "outputs": [],
   "source": [
    "from typing import List\n",
    "\n",
    "class AdaSecant(optim.Optimizer):\n",
    "    r\"\"\"Documentation\n",
    "    Basis copied from https://github.com/pytorch/pytorch/blob/master/torch/optim/sgd.py.\n",
    "    Left out closure, momentum-related stuff, __setstate__ as it does not seem to be necessary.\n",
    "    \"\"\"\n",
    "\n",
    "    def __init__(self, params, lr=None):\n",
    "        if lr is not None:\n",
    "            print('Warning: lr is not a parameter for AdaSecant. Your lr will be set to None')\n",
    "            lr = None\n",
    "        defaults = dict(lr=lr)\n",
    "        super().__init__(params, defaults)\n",
    "        self.ready = False\n",
    "        self.current_gradients = None\n",
    "        # here we need to introduce some attribute to save params/gradients from old batch.\n",
    "        self.moving_average_of_g = None\n",
    "        self.delta = None\n",
    "        self.memory_size = None\n",
    "        self.gradients = None\n",
    "        \n",
    "    @torch.no_grad()\n",
    "    def pre_step(self):\n",
    "        for group in self.param_groups:\n",
    "            # all parameters of a model seem to be contained within the same group\n",
    "            params_with_grad = []\n",
    "            d_p_list = []\n",
    "        \n",
    "        for p in group['params']:\n",
    "                # subgrouping of parameters for each layer, bias and weights separately (each tensor)\n",
    "                if p.grad is not None:\n",
    "                    params_with_grad.append(p)\n",
    "                    d_p_list.append(p.grad)\n",
    "        \n",
    "        self.current_gradients = d_p_list\n",
    "        self.ready = True\n",
    "        pass\n",
    "\n",
    "    @torch.no_grad()\n",
    "    def step(self):\n",
    "        \"\"\"Performs a single optimization step.\n",
    "        \"\"\"\n",
    "        \n",
    "        if not self.ready:\n",
    "            raise RuntimeError('You must perform optimizer.pre_step() before performing ' +\n",
    "                               'optimizer.step() when using AdaSecant.\\n' +\n",
    "                               'pre_step ensures that the gradient is saved while step will generate the ' +\n",
    "                               'gradient on the new batch.\\n' +\n",
    "                               'Recommended call sequence:' +\n",
    "                               ' \\n model.zero_grad(), \\n loss = ..., \\n loss.backwards(), \\n ' +\n",
    "                               'optimizer.pre_step(), \\n model.zero_grad(), \\n loss = ..., \\n ' +\n",
    "                               'loss.backwards(), \\n optimizer.step()')\n",
    "        else:\n",
    "            self.ready = False\n",
    "\n",
    "        for group in self.param_groups:\n",
    "            # all parameters of a model seem to be contained within the same group\n",
    "            params_with_grad = []\n",
    "            next_gradients = []\n",
    "            \n",
    "            # ToDo: update old params/gradients\n",
    "\n",
    "            for p in group['params']:\n",
    "                # subgrouping of parameters for each layer, bias and weights separately (each tensor)\n",
    "                if p.grad is not None:\n",
    "                    params_with_grad.append(p)\n",
    "                    next_gradients.append(p.grad)\n",
    "\n",
    "            adasecant(self, params_with_grad, next_gradients)\n",
    "            \n",
    "        return #loss\n",
    "    \n",
    "def adasecant(optimizer: AdaSecant, params: List[torch.Tensor], next_gradients: List[torch.Tensor]):\n",
    "    # d_p_list[i] corresponds to param[i]    \n",
    "    for i, param in enumerate(params):\n",
    "        g = optimizer.current_gradients[i]\n",
    "        g_next = next_gradients[i]\n",
    "        if i == 0:\n",
    "            print(param)\n",
    "            print(g)\n",
    "            print(g_next)\n",
    "        \n",
    "        correction_term = None # to be implemented\n",
    "        corrected_gradient = None # to be implemented\n",
    "        \n",
    "        \n",
    "    # update all attributes in optimizer\n",
    "    optimizer.gradients = g\n",
    "    # ...\n",
    "    pass"
   ]
  },
  {
   "cell_type": "code",
   "execution_count": 8,
   "metadata": {},
   "outputs": [],
   "source": [
    "import itertools\n",
    "from more_itertools import peekable\n",
    "\n",
    "def adasecant_dataloader(dataset, batch_size, shuffle=False, drop_last=False):\n",
    "    data_loader = peekable(iter(data.DataLoader(dataset=dataset, batch_size=batch_size, shuffle=shuffle, drop_last=drop_last)))\n",
    "    return data_loader\n",
    "\n",
    "data_loader = adasecant_dataloader(dataset_test, 60, True, True)\n",
    "for batch in data_loader:\n",
    "    #print('current', batch['y'])\n",
    "    try:\n",
    "        peek = data_loader.peek()\n",
    "        #print('next', peek['y'])\n",
    "    except StopIteration:\n",
    "        pass"
   ]
  },
  {
   "cell_type": "markdown",
   "metadata": {},
   "source": [
    "## Training"
   ]
  },
  {
   "cell_type": "code",
   "execution_count": 9,
   "metadata": {},
   "outputs": [],
   "source": [
    "def evaluate_model(model, dataset, batch_size=1000):\n",
    "    \n",
    "    data_loader = data.DataLoader(dataset=dataset, batch_size=batch_size, shuffle=False, drop_last=False)\n",
    "    loss = 0.0\n",
    "    correct = 0\n",
    "    \n",
    "    for batch in data_loader:\n",
    "        yhat = model.forward(batch['X'].float().to(device))\n",
    "        y = batch['y'].long().to(device)\n",
    "        batch_loss = f_loss(yhat, y)\n",
    "        loss += batch_loss.item() * len(batch['X'])\n",
    "        correct += (torch.argmax(yhat, dim=1) == y).float().sum().item()\n",
    "    accuracy = correct / len(dataset)\n",
    "    \n",
    "    return loss, accuracy\n",
    "\n",
    "def get_scheduler(optimizer, base_lr, max_lr, epochs_per_cycle, len_dataset, batch_size):\n",
    "    if epochs_per_cycle is None:\n",
    "        epochs_per_cycle = epochs\n",
    "    iterations_per_cycle = epochs_per_cycle * (len_dataset // batch_size)\n",
    "    return torch.optim.lr_scheduler.CyclicLR(optimizer, base_lr, max_lr, step_size_up=iterations_per_cycle / 2)"
   ]
  },
  {
   "cell_type": "code",
   "execution_count": 10,
   "metadata": {},
   "outputs": [],
   "source": [
    "def train_model(model, dataset, validation_set, batch_size=64, epochs=1, \n",
    "                f_loss=F.cross_entropy, epochs_per_cycle=None):\n",
    "    \n",
    "    optimizer = AdaSecant(model.parameters())\n",
    "    lr_history = []\n",
    "    validation_accuracy = []\n",
    "    epoch_losses = []\n",
    "    validation_losses = []\n",
    "    \n",
    "    # evaluate initial state of model\n",
    "    initial_training_loss, _ = evaluate_model(model, dataset)\n",
    "    epoch_losses.append(initial_training_loss)\n",
    "    validation_loss, accuracy = evaluate_model(model, validation_set)\n",
    "    validation_losses.append(validation_loss)\n",
    "    validation_accuracy.append(accuracy)\n",
    "\n",
    "    for epoch in range(epochs):\n",
    "        # training and epoch loss logging\n",
    "        # drop last to avoid stochastic outliers in gradient update\n",
    "        data_loader = adasecant_dataloader(dataset=dataset, batch_size=batch_size, shuffle=True, drop_last=True)\n",
    "        epoch_loss = 0.0\n",
    "        \n",
    "        for batch in data_loader:\n",
    "            \n",
    "            # prepare adasecant with current gradient\n",
    "            model.zero_grad()\n",
    "            yhat = model.forward(batch['X'].float().to(device))\n",
    "            batch_loss = f_loss(yhat, batch['y'].long().to(device))\n",
    "            epoch_loss += batch_loss.item() * len(batch['X'])\n",
    "            batch_loss.backward()\n",
    "            optimizer.pre_step()\n",
    "            \n",
    "            # run adasecant with next gradient (addiotionally to current gradient)\n",
    "            model.zero_grad()\n",
    "            try:\n",
    "                next_batch = data_loader.peek()\n",
    "                yhat = model.forward(next_batch['X'].float().to(device))\n",
    "                batch_loss = f_loss(yhat, next_batch['y'].long().to(device))\n",
    "                batch_loss.backward()\n",
    "                optimizer.step()\n",
    "            except:\n",
    "                # whatever happens if there is no next gradient\n",
    "                pass\n",
    "            \n",
    "        print(f'Epoch {epoch+1}/{epochs} - Loss: {epoch_loss / len(dataset)}')\n",
    "        epoch_losses.append(epoch_loss)\n",
    "        \n",
    "        # calculate validation loss and accuracy\n",
    "        validation_loss, accuracy = evaluate_model(model, validation_set)\n",
    "        validation_losses.append(validation_loss)\n",
    "        validation_accuracy.append(accuracy)\n",
    "        \n",
    "    return (np.array(epoch_losses) / len(dataset), \n",
    "            np.array(validation_losses) / len(validation_set), \n",
    "            validation_accuracy, \n",
    "            lr_history)"
   ]
  },
  {
   "cell_type": "code",
   "execution_count": 11,
   "metadata": {},
   "outputs": [
    {
     "name": "stdout",
     "output_type": "stream",
     "text": [
      "Parameter containing:\n",
      "tensor([[ 0.3081, -0.1087,  0.3043,  0.1041,  0.2293,  0.0750,  0.0326, -0.0675,\n",
      "         -0.0793, -0.2276],\n",
      "        [ 0.1159,  0.1856, -0.2462,  0.1416, -0.2609,  0.1936, -0.2962,  0.1680,\n",
      "         -0.2507,  0.2440],\n",
      "        [-0.3053,  0.0838, -0.3122, -0.3136, -0.0055,  0.0481,  0.2192, -0.1685,\n",
      "         -0.1876,  0.3061],\n",
      "        [-0.1905,  0.0355, -0.0823,  0.0642,  0.2965, -0.1505,  0.0556,  0.2126,\n",
      "         -0.0331, -0.2114],\n",
      "        [ 0.2961,  0.1053,  0.2811,  0.2284, -0.2608,  0.3040,  0.0059, -0.2007,\n",
      "          0.0551, -0.2997],\n",
      "        [ 0.2021, -0.1502,  0.1903,  0.1113,  0.2819, -0.0266, -0.0167,  0.3124,\n",
      "          0.3095,  0.0867],\n",
      "        [-0.0486,  0.2712, -0.0696, -0.2742,  0.1535,  0.0174, -0.0621,  0.1685,\n",
      "         -0.1153,  0.3161],\n",
      "        [-0.1620,  0.1844, -0.2491,  0.1941, -0.1138,  0.0800, -0.2089, -0.1813,\n",
      "         -0.0189,  0.1637],\n",
      "        [ 0.2841,  0.2738,  0.1812,  0.3000,  0.0425,  0.1462, -0.1272,  0.0324,\n",
      "         -0.2271,  0.2893],\n",
      "        [-0.3059,  0.2775, -0.2649, -0.2565, -0.2835, -0.1936,  0.2606,  0.0716,\n",
      "          0.2803, -0.1177]], device='cuda:0', requires_grad=True)\n",
      "tensor([[ 5.5123e-03,  2.0025e-02,  1.4683e-02,  1.3095e-02,  5.0104e-03,\n",
      "          5.6988e-03,  8.4272e-03,  1.1095e-02,  8.5129e-03,  1.3628e-02],\n",
      "        [ 1.7535e-02,  2.7343e-02,  2.3222e-02,  1.8354e-02,  1.1171e-02,\n",
      "          1.5708e-02,  1.6861e-02,  1.5218e-02,  2.1589e-02,  2.3371e-02],\n",
      "        [-1.0739e-02, -1.0136e-02, -1.3498e-02, -2.6347e-03, -3.5984e-03,\n",
      "         -3.4348e-03, -4.4570e-03, -3.1833e-03, -7.3681e-03, -1.2697e-02],\n",
      "        [-4.6905e-03, -3.9763e-03, -1.2713e-02, -1.6619e-02, -6.7746e-05,\n",
      "         -4.3992e-03,  1.9418e-03,  2.2459e-03, -3.1231e-03, -1.0427e-02],\n",
      "        [-1.2941e-03, -7.3214e-03, -6.2358e-03, -4.9500e-03, -5.6066e-04,\n",
      "          3.1470e-03, -2.9004e-03, -3.3879e-03, -9.3959e-03, -8.0587e-03],\n",
      "        [ 1.5062e-02,  2.3913e-02,  1.6211e-02,  1.9455e-02,  9.2456e-03,\n",
      "          1.5106e-02,  1.7805e-02,  2.1232e-02,  2.0479e-02,  1.6522e-02],\n",
      "        [ 6.5849e-03, -5.6043e-04,  6.3778e-03,  4.7065e-03,  8.6142e-03,\n",
      "          1.1157e-02,  7.5987e-03, -3.7218e-03,  6.3311e-03,  9.7816e-03],\n",
      "        [ 1.8427e-02,  1.4975e-02,  2.1616e-02,  1.7788e-02,  1.3087e-02,\n",
      "          1.9439e-02,  1.2062e-02,  1.2598e-02,  1.5961e-02,  2.1495e-02],\n",
      "        [ 2.5391e-02,  2.8600e-02,  2.8197e-02,  2.7977e-02,  1.5887e-02,\n",
      "          1.9140e-02,  2.2295e-02,  2.1084e-02,  3.2884e-02,  3.3013e-02],\n",
      "        [ 1.0210e-02,  2.3233e-02,  1.9786e-02,  1.9717e-02,  1.2892e-02,\n",
      "          1.3979e-02,  1.6336e-02,  1.4929e-02,  1.3206e-02,  2.2122e-02]],\n",
      "       device='cuda:0')\n",
      "tensor([[ 5.5123e-03,  2.0025e-02,  1.4683e-02,  1.3095e-02,  5.0104e-03,\n",
      "          5.6988e-03,  8.4272e-03,  1.1095e-02,  8.5129e-03,  1.3628e-02],\n",
      "        [ 1.7535e-02,  2.7343e-02,  2.3222e-02,  1.8354e-02,  1.1171e-02,\n",
      "          1.5708e-02,  1.6861e-02,  1.5218e-02,  2.1589e-02,  2.3371e-02],\n",
      "        [-1.0739e-02, -1.0136e-02, -1.3498e-02, -2.6347e-03, -3.5984e-03,\n",
      "         -3.4348e-03, -4.4570e-03, -3.1833e-03, -7.3681e-03, -1.2697e-02],\n",
      "        [-4.6905e-03, -3.9763e-03, -1.2713e-02, -1.6619e-02, -6.7746e-05,\n",
      "         -4.3992e-03,  1.9418e-03,  2.2459e-03, -3.1231e-03, -1.0427e-02],\n",
      "        [-1.2941e-03, -7.3214e-03, -6.2358e-03, -4.9500e-03, -5.6066e-04,\n",
      "          3.1470e-03, -2.9004e-03, -3.3879e-03, -9.3959e-03, -8.0587e-03],\n",
      "        [ 1.5062e-02,  2.3913e-02,  1.6211e-02,  1.9455e-02,  9.2456e-03,\n",
      "          1.5106e-02,  1.7805e-02,  2.1232e-02,  2.0479e-02,  1.6522e-02],\n",
      "        [ 6.5849e-03, -5.6043e-04,  6.3778e-03,  4.7065e-03,  8.6142e-03,\n",
      "          1.1157e-02,  7.5987e-03, -3.7218e-03,  6.3311e-03,  9.7816e-03],\n",
      "        [ 1.8427e-02,  1.4975e-02,  2.1616e-02,  1.7788e-02,  1.3087e-02,\n",
      "          1.9439e-02,  1.2062e-02,  1.2598e-02,  1.5961e-02,  2.1495e-02],\n",
      "        [ 2.5391e-02,  2.8600e-02,  2.8197e-02,  2.7977e-02,  1.5887e-02,\n",
      "          1.9140e-02,  2.2295e-02,  2.1084e-02,  3.2884e-02,  3.3013e-02],\n",
      "        [ 1.0210e-02,  2.3233e-02,  1.9786e-02,  1.9717e-02,  1.2892e-02,\n",
      "          1.3979e-02,  1.6336e-02,  1.4929e-02,  1.3206e-02,  2.2122e-02]],\n",
      "       device='cuda:0')\n",
      "Epoch 1/1 - Loss: 2.3498122692108154\n"
     ]
    }
   ],
   "source": [
    "base_lr = 0.01\n",
    "max_lr = 0.1\n",
    "batch_size = 128\n",
    "epochs = 1\n",
    "f_opt = AdaSecant\n",
    "f_loss = F.cross_entropy\n",
    "cycle = epochs\n",
    "\n",
    "training_loss, validation_loss, validation_accuracy, lr_history = train_model(model.to(device),\n",
    "                                                                              dataset_train,\n",
    "                                                                              dataset_test,\n",
    "                                                                              batch_size,\n",
    "                                                                              epochs,\n",
    "                                                                              f_loss,\n",
    "                                                                              cycle)"
   ]
  },
  {
   "cell_type": "code",
   "execution_count": 12,
   "metadata": {},
   "outputs": [
    {
     "data": {
      "text/plain": [
       "<matplotlib.legend.Legend at 0x20717704100>"
      ]
     },
     "execution_count": 12,
     "metadata": {},
     "output_type": "execute_result"
    },
    {
     "data": {
      "image/png": "[encoded data removed]",
      "text/plain": [
       "<Figure size 432x288 with 1 Axes>"
      ]
     },
     "metadata": {
      "needs_background": "light"
     },
     "output_type": "display_data"
    }
   ],
   "source": [
    "plt.plot(training_loss, label='training loss')\n",
    "plt.plot(validation_loss, label='validation loss')\n",
    "plt.xlabel('Epochs')\n",
    "plt.ylabel('Mean Cross Entropy Loss')\n",
    "#plt.ylim(0.0, 10)\n",
    "plt.legend()"
   ]
  },
  {
   "cell_type": "code",
   "execution_count": 13,
   "metadata": {},
   "outputs": [
    {
     "data": {
      "text/plain": [
       "[<matplotlib.lines.Line2D at 0x207192046d0>]"
      ]
     },
     "execution_count": 13,
     "metadata": {},
     "output_type": "execute_result"
    },
    {
     "data": {
      "image/png": "[encoded data removed]",
      "text/plain": [
       "<Figure size 432x288 with 1 Axes>"
      ]
     },
     "metadata": {
      "needs_background": "light"
     },
     "output_type": "display_data"
    }
   ],
   "source": [
    "plt.plot(lr_history)"
   ]
  },
  {
   "cell_type": "code",
   "execution_count": 14,
   "metadata": {},
   "outputs": [
    {
     "name": "stdout",
     "output_type": "stream",
     "text": [
      "0.13671875\n"
     ]
    },
    {
     "data": {
      "image/png": "[encoded data removed]",
      "text/plain": [
       "<Figure size 432x288 with 1 Axes>"
      ]
     },
     "metadata": {
      "needs_background": "light"
     },
     "output_type": "display_data"
    }
   ],
   "source": [
    "plt.plot(validation_accuracy)\n",
    "print(max(validation_accuracy))"
   ]
  },
  {
   "cell_type": "code",
   "execution_count": 15,
   "metadata": {},
   "outputs": [
    {
     "ename": "ModuleNotFoundError",
     "evalue": "No module named 'google'",
     "output_type": "error",
     "traceback": [
      "\u001b[1;31m---------------------------------------------------------------------------\u001b[0m",
      "\u001b[1;31mModuleNotFoundError\u001b[0m                       Traceback (most recent call last)",
      "\u001b[1;32m<ipython-input-15-1045e0c59eb0>\u001b[0m in \u001b[0;36m<module>\u001b[1;34m\u001b[0m\n\u001b[0;32m      1\u001b[0m \u001b[1;32mimport\u001b[0m \u001b[0mcsv\u001b[0m\u001b[1;33m\u001b[0m\u001b[1;33m\u001b[0m\u001b[0m\n\u001b[1;32m----> 2\u001b[1;33m \u001b[1;32mfrom\u001b[0m \u001b[0mgoogle\u001b[0m\u001b[1;33m.\u001b[0m\u001b[0mcolab\u001b[0m \u001b[1;32mimport\u001b[0m \u001b[0mfiles\u001b[0m\u001b[1;33m\u001b[0m\u001b[1;33m\u001b[0m\u001b[0m\n\u001b[0m\u001b[0;32m      3\u001b[0m \u001b[1;33m\u001b[0m\u001b[0m\n\u001b[0;32m      4\u001b[0m \u001b[1;32mwith\u001b[0m \u001b[0mopen\u001b[0m\u001b[1;33m(\u001b[0m\u001b[1;34m'train_loss'\u001b[0m\u001b[1;33m,\u001b[0m \u001b[1;34m'w'\u001b[0m\u001b[1;33m)\u001b[0m \u001b[1;32mas\u001b[0m \u001b[0mf\u001b[0m\u001b[1;33m:\u001b[0m\u001b[1;33m\u001b[0m\u001b[1;33m\u001b[0m\u001b[0m\n\u001b[0;32m      5\u001b[0m     \u001b[0mwrite\u001b[0m \u001b[1;33m=\u001b[0m \u001b[0mcsv\u001b[0m\u001b[1;33m.\u001b[0m\u001b[0mwriter\u001b[0m\u001b[1;33m(\u001b[0m\u001b[0mf\u001b[0m\u001b[1;33m)\u001b[0m\u001b[1;33m\u001b[0m\u001b[1;33m\u001b[0m\u001b[0m\n",
      "\u001b[1;31mModuleNotFoundError\u001b[0m: No module named 'google'"
     ]
    }
   ],
   "source": [
    "import csv\n",
    "from google.colab import files\n",
    "\n",
    "with open('train_loss', 'w') as f:\n",
    "    write = csv.writer(f)\n",
    "    write.writerow(training_loss)\n",
    "\n",
    "with open('val_loss', 'w') as f: \n",
    "    write = csv.writer(f)  \n",
    "    write.writerow(validation_loss)\n",
    "\n",
    "with open('val_accuracy', 'w') as f: \n",
    "    write = csv.writer(f)  \n",
    "    write.writerow(validation_accuracy)\n",
    "    \n",
    "with open('lr_history', 'w') as f: \n",
    "    write = csv.writer(f)  \n",
    "    write.writerow(lr_history)\n",
    "\n",
    "files.download('train_loss')\n",
    "files.download('val_loss')\n",
    "files.download('val_accuracy')\n",
    "files.download('lr_history')"
   ]
  }
 ],
 "metadata": {
  "kernelspec": {
   "display_name": "Python 3",
   "language": "python",
   "name": "python3"
  },
  "language_info": {
   "codemirror_mode": {
    "name": "ipython",
    "version": 3
   },
   "file_extension": ".py",
   "mimetype": "text/x-python",
   "name": "python",
   "nbconvert_exporter": "python",
   "pygments_lexer": "ipython3",
   "version": "3.8.5"
  }
 },
 "nbformat": 4,
 "nbformat_minor": 4
}
