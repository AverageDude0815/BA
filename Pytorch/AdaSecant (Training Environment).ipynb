{
 "cells": [
  {
   "cell_type": "markdown",
   "metadata": {},
   "source": [
    "# Training Environment"
   ]
  },
  {
   "cell_type": "code",
   "execution_count": 1,
   "metadata": {},
   "outputs": [],
   "source": [
    "import matplotlib.pyplot as plt\n",
    "import numpy as np\n",
    "import torch  # Package name: torch (for pip), pytorch (for conda)\n",
    "import torch.nn as nn\n",
    "import torch.nn.functional as F\n",
    "import torch.optim as optim\n",
    "import torch.utils.data as data\n",
    "\n",
    "class BasicDataset(data.Dataset):\n",
    "    def __init__(self, X, y):\n",
    "        self.X = X\n",
    "        self.y = y\n",
    "    \n",
    "    def __getitem__(self, idx):\n",
    "        return dict(X=self.X[idx], y=self.y[idx])\n",
    "    \n",
    "    def __len__(self):\n",
    "        return self.X.shape[0]"
   ]
  },
  {
   "cell_type": "markdown",
   "metadata": {},
   "source": [
    "## Prepare Data"
   ]
  },
  {
   "cell_type": "code",
   "execution_count": 2,
   "metadata": {},
   "outputs": [
    {
     "name": "stdout",
     "output_type": "stream",
     "text": [
      "Files already downloaded and verified\n",
      "Files already downloaded and verified\n",
      "Dataset CIFAR10\n",
      "    Number of datapoints: 50000\n",
      "    Root location: ./data\n",
      "    Split: Train\n",
      "Dataset CIFAR10\n",
      "    Number of datapoints: 10000\n",
      "    Root location: ./data\n",
      "    Split: Test\n"
     ]
    }
   ],
   "source": [
    "import torchvision.datasets as datasets\n",
    "\n",
    "mnist = False\n",
    "cifar10 = True\n",
    "cifar100 = False\n",
    "assert mnist ^ cifar10 ^ cifar100\n",
    "\n",
    "n_classes = 10\n",
    "if mnist:\n",
    "    trainset = datasets.MNIST(root='./data', train=True, download=True, transform=None)\n",
    "    testset = datasets.MNIST(root='./data', train=False, download=True, transform=None)\n",
    "if cifar10:\n",
    "    trainset = datasets.CIFAR10(root='./data', train=True, download=True, transform=None)\n",
    "    testset = datasets.CIFAR10(root='./data', train=False, download=True, transform=None)\n",
    "if cifar100:\n",
    "    n_classes = 100\n",
    "    trainset = datasets.CIFAR100(root='./data', train=True, download=True, transform=None)\n",
    "    testset = datasets.CIFAR100(root='./data', train=False, download=True, transform=None)\n",
    "\n",
    "print(trainset)\n",
    "print(testset)"
   ]
  },
  {
   "cell_type": "code",
   "execution_count": 3,
   "metadata": {},
   "outputs": [
    {
     "name": "stdout",
     "output_type": "stream",
     "text": [
      "X_train: torch.Size([50000, 3, 32, 32])\n",
      "y_train: torch.Size([50000])\n",
      "X_test: torch.Size([10000, 3, 32, 32])\n",
      "y_test: torch.Size([10000])\n"
     ]
    }
   ],
   "source": [
    "def to_rgb(x_grey: torch.Tensor) -> torch.Tensor:\n",
    "    if len(x_grey.size()) == 3:\n",
    "        helper = torch.unsqueeze(x_grey, 1)\n",
    "        return helper.repeat(1, 3, 1, 1).float()\n",
    "    elif len(x_grey.size()) == 4 and x_grey.size()[1] == 1:\n",
    "        return x_grey.repeat(1, 3, 1, 1).float()\n",
    "    elif len(x_grey.size()) == 4 and x_grey.size()[1] == 3:\n",
    "        return x_grey\n",
    "    elif len(x_grey.size()) == 4:\n",
    "        raise ValueError(f'The size of this image tensor is not valid.\\\n",
    "        A 4th order image tensor must have dim1==1 (grey-scale) or dim1==3 (rgb).\\\n",
    "        Unknown format cannot be transformed to rgb.')\n",
    "    else:\n",
    "        raise ValueError(f'The size of this image-tensor is not valid.\\\n",
    "        Must be either 3rd (grey-scale) order tensor or 4th order tensor (rgb).\\\n",
    "        Got order {len(x_grey.size())}')\n",
    "        \n",
    "def swap_data(X):\n",
    "    X1 = np.swapaxes(X, 1, 3)\n",
    "    X2 = np.swapaxes(X1, 2, 3)\n",
    "    return X2\n",
    "\n",
    "if mnist:\n",
    "    X_train_grey = trainset.train_data\n",
    "    X_train = to_rgb(X_train_grey)\n",
    "    X_test_grey = testset.test_data\n",
    "    X_test = to_rgb(X_test_grey)\n",
    "    y_train = trainset.train_labels\n",
    "    y_test = testset.test_labels\n",
    "else:\n",
    "    X_train = torch.tensor(swap_data(trainset.data))\n",
    "    y_train = torch.tensor(trainset.targets)\n",
    "    X_test = torch.tensor(swap_data(testset.data))\n",
    "    y_test = torch.tensor(testset.targets)\n",
    "    \n",
    "print('X_train:', X_train.shape)\n",
    "print('y_train:', y_train.shape)\n",
    "print('X_test:', X_test.shape)\n",
    "print('y_test:', y_test.shape)"
   ]
  },
  {
   "cell_type": "markdown",
   "metadata": {},
   "source": [
    "## Model load, modifications and GPU optimization"
   ]
  },
  {
   "cell_type": "code",
   "execution_count": 4,
   "metadata": {},
   "outputs": [
    {
     "name": "stdout",
     "output_type": "stream",
     "text": [
      "X_train: torch.Size([256, 10])\n",
      "y_train: torch.Size([256])\n",
      "X_test: torch.Size([256, 10])\n",
      "y_test: torch.Size([256])\n",
      "Parameter containing:\n",
      "tensor([[ 0.2286,  0.2287,  0.2141, -0.2615,  0.2510,  0.2675, -0.0139,  0.2971,\n",
      "         -0.3096,  0.2358],\n",
      "        [ 0.0334, -0.0859,  0.2492,  0.2291, -0.0631,  0.2375, -0.0705,  0.0684,\n",
      "         -0.1596, -0.2239],\n",
      "        [ 0.0791, -0.2795,  0.1702,  0.2287,  0.2801,  0.1053,  0.2536,  0.2046,\n",
      "          0.0809, -0.0134],\n",
      "        [ 0.0601,  0.1005, -0.2616, -0.0729,  0.2587, -0.3138,  0.1805, -0.0032,\n",
      "         -0.0248,  0.0057],\n",
      "        [-0.0312,  0.0801,  0.1542, -0.2747, -0.2268, -0.3161, -0.3042,  0.1204,\n",
      "         -0.0676,  0.0029],\n",
      "        [ 0.0564, -0.0028, -0.1799, -0.0803, -0.0600,  0.1863,  0.3100,  0.2410,\n",
      "         -0.0005,  0.1184],\n",
      "        [ 0.3038, -0.0399, -0.2349, -0.1069,  0.0366, -0.0655,  0.1577, -0.1473,\n",
      "          0.2123, -0.1129],\n",
      "        [ 0.1342, -0.2365,  0.0650,  0.0355,  0.0378, -0.0441,  0.3094,  0.1560,\n",
      "          0.2746,  0.2764],\n",
      "        [-0.2668, -0.0010, -0.2297,  0.2181,  0.0278, -0.2944, -0.1737,  0.1308,\n",
      "          0.0188, -0.2744],\n",
      "        [ 0.0276,  0.2441, -0.2618, -0.0242,  0.2447,  0.0019,  0.2353,  0.1177,\n",
      "         -0.1157,  0.0695]], requires_grad=True)\n",
      "Parameter containing:\n",
      "tensor([ 0.2134, -0.1852,  0.0873,  0.0180, -0.2965,  0.2433, -0.0535, -0.0163,\n",
      "         0.1786, -0.0822], requires_grad=True)\n",
      "Parameter containing:\n",
      "tensor([[ 0.1063,  0.1375, -0.1148, -0.0045,  0.1626,  0.1447,  0.1067,  0.2801,\n",
      "         -0.2405, -0.1291],\n",
      "        [ 0.2229,  0.2354, -0.1887, -0.1778, -0.0697,  0.0831,  0.2378,  0.1503,\n",
      "          0.2974, -0.0050],\n",
      "        [ 0.0243,  0.2782, -0.1855, -0.0225,  0.0997,  0.0240, -0.1346,  0.3145,\n",
      "          0.3014,  0.1109],\n",
      "        [ 0.1491, -0.1935,  0.1427,  0.2076, -0.2157, -0.2203, -0.2839,  0.2203,\n",
      "         -0.1476, -0.1793],\n",
      "        [ 0.2531,  0.0428, -0.0078, -0.1208,  0.2855, -0.2065, -0.1725,  0.0717,\n",
      "         -0.2770,  0.1939],\n",
      "        [ 0.1653, -0.2607, -0.1457, -0.0025,  0.0171,  0.0072,  0.1504,  0.0823,\n",
      "         -0.0995, -0.1545],\n",
      "        [ 0.0231, -0.1505,  0.2464,  0.1631,  0.2237,  0.1660, -0.0868, -0.1743,\n",
      "         -0.2306, -0.2102],\n",
      "        [-0.2402,  0.2033,  0.0244,  0.1387, -0.0491,  0.1225, -0.0092,  0.1446,\n",
      "          0.1414, -0.3016],\n",
      "        [-0.3016, -0.0415, -0.0444, -0.0178,  0.0653, -0.2362,  0.0622, -0.0547,\n",
      "         -0.0197, -0.1916],\n",
      "        [-0.1295,  0.1755, -0.2412, -0.2993, -0.1419, -0.1456,  0.1357, -0.1256,\n",
      "          0.0540,  0.1517]], requires_grad=True)\n",
      "Parameter containing:\n",
      "tensor([ 0.2195,  0.2258, -0.0272,  0.2537,  0.1504,  0.1299,  0.0141,  0.2729,\n",
      "         0.2351, -0.2840], requires_grad=True)\n"
     ]
    }
   ],
   "source": [
    "from torchvision import models\n",
    "\n",
    "'''\n",
    "model = models.resnet18(pretrained=False) # set model here\n",
    "in_ftr = model.fc.in_features\n",
    "out_ftr = n_classes\n",
    "model.fc = nn.Linear(in_ftr,out_ftr,bias=True)\n",
    "'''\n",
    "\n",
    "# redefining stuff for AdaSecant test runs\n",
    "X_train = torch.rand(256, 10)\n",
    "X_test = torch.rand(256, 10)\n",
    "y_train = torch.randint(10, (256,))\n",
    "y_test = torch.randint(10, (256,))\n",
    "\n",
    "print('X_train:', X_train.shape)\n",
    "print('y_train:', y_train.shape)\n",
    "print('X_test:', X_test.shape)\n",
    "print('y_test:', y_test.shape)\n",
    "\n",
    "model = torch.nn.Sequential(nn.Linear(10, 10), nn.Linear(10, 10))\n",
    "for param in model.parameters():\n",
    "    print(param)\n",
    "\n",
    "dataset_train = BasicDataset(X_train, y_train)\n",
    "dataset_test = BasicDataset(X_test, y_test)"
   ]
  },
  {
   "cell_type": "markdown",
   "metadata": {},
   "source": [
    "Check specs for GPU-based training."
   ]
  },
  {
   "cell_type": "code",
   "execution_count": 5,
   "metadata": {},
   "outputs": [
    {
     "name": "stdout",
     "output_type": "stream",
     "text": [
      "cuda available: True\n",
      "cuda device name: NVIDIA GeForce 940MX\n",
      "cuda device id 0\n"
     ]
    }
   ],
   "source": [
    "print('cuda available:', torch.cuda.is_available())\n",
    "print('cuda device name:', torch.cuda.get_device_name())\n",
    "print('cuda device id', torch.cuda.current_device())"
   ]
  },
  {
   "cell_type": "markdown",
   "metadata": {},
   "source": [
    "Move model and data to GPU."
   ]
  },
  {
   "cell_type": "code",
   "execution_count": 6,
   "metadata": {},
   "outputs": [
    {
     "name": "stdout",
     "output_type": "stream",
     "text": [
      "worked? True\n"
     ]
    }
   ],
   "source": [
    "device = torch.device(\"cuda:0\" if torch.cuda.is_available() else \"cpu\")\n",
    "model.to(device)\n",
    "X_train.to(device)\n",
    "print('worked?', X_train.to(device).is_cuda)"
   ]
  },
  {
   "cell_type": "markdown",
   "metadata": {},
   "source": [
    "## Implementing AdaSecant\n",
    "https://github.com/pytorch/pytorch/blob/master/torch/optim/sgd.py"
   ]
  },
  {
   "cell_type": "code",
   "execution_count": 16,
   "metadata": {},
   "outputs": [],
   "source": [
    "from typing import List\n",
    "\n",
    "class AdaSecant(optim.Optimizer):\n",
    "    r\"\"\"Documentation\n",
    "    Basis copied from https://github.com/pytorch/pytorch/blob/master/torch/optim/sgd.py.\n",
    "    Left out closure, momentum-related stuff, __setstate__ as it does not seem to be necessary.\n",
    "    \"\"\"\n",
    "\n",
    "    def __init__(self, params, lr=None):\n",
    "        if lr is not None:\n",
    "            print('Warning: lr is not a parameter for AdaSecant. Your lr will be set to None')\n",
    "            lr = None\n",
    "        defaults = dict(lr=lr)\n",
    "        super().__init__(params, defaults)\n",
    "        self.ready = False\n",
    "        self.current_gradients = None\n",
    "        # here we need to introduce some attribute to save params/gradients from old batch.\n",
    "        self.moving_average_of_g = None\n",
    "        self.delta = None\n",
    "        self.memory_size = None\n",
    "        self.gradients = None\n",
    "        \n",
    "    @torch.no_grad()\n",
    "    def pre_step(self):\n",
    "        for group in self.param_groups:\n",
    "            d_p_list = []\n",
    "        \n",
    "        for p in group['params']:\n",
    "                # subgrouping of parameters for each layer, bias and weights separately (each tensor)\n",
    "                if p.grad is not None:\n",
    "                    d_p_list.append(p.grad)\n",
    "        \n",
    "        self.current_gradients = d_p_list\n",
    "        self.ready = True\n",
    "        pass\n",
    "\n",
    "    @torch.no_grad()\n",
    "    def step(self):\n",
    "        \"\"\"Performs a single optimization step.\n",
    "        \"\"\"\n",
    "        \n",
    "        if not self.ready:\n",
    "            raise RuntimeError('You must perform optimizer.pre_step() before performing ' +\n",
    "                               'optimizer.step() when using AdaSecant.\\n' +\n",
    "                               'pre_step ensures that the gradient is saved while step will generate the ' +\n",
    "                               'gradient on the new batch.\\n' +\n",
    "                               'Recommended call sequence:' +\n",
    "                               ' \\n model.zero_grad(), \\n loss = ..., \\n loss.backwards(), \\n ' +\n",
    "                               'optimizer.pre_step(), \\n model.zero_grad(), \\n loss = ..., \\n ' +\n",
    "                               'loss.backwards(), \\n optimizer.step()')\n",
    "        else:\n",
    "            self.ready = False\n",
    "\n",
    "        for group in self.param_groups:\n",
    "            # all parameters of a model seem to be contained within the same group\n",
    "            params_with_grad = []\n",
    "            next_gradients = []\n",
    "            \n",
    "            # ToDo: update old params/gradients\n",
    "\n",
    "            for p in group['params']:\n",
    "                # subgrouping of parameters for each layer, bias and weights separately (each tensor)\n",
    "                if p.grad is not None:\n",
    "                    params_with_grad.append(p)\n",
    "                    next_gradients.append(p.grad)\n",
    "            \n",
    "            print('current')\n",
    "            print(self.current_gradients)\n",
    "            print('next')\n",
    "            print(next_gradients)\n",
    "            adasecant(self, params_with_grad, next_gradients)\n",
    "            \n",
    "        return #loss\n",
    "    \n",
    "def adasecant(optimizer: AdaSecant, params: List[torch.Tensor], next_gradients: List[torch.Tensor]):\n",
    "    # g[i] corresponds to param[i]    \n",
    "    for i, param in enumerate(params):\n",
    "        g = optimizer.current_gradients[i]\n",
    "        g_next = next_gradients[i]\n",
    "        if i == 0:\n",
    "            print(param)\n",
    "            #print(g)\n",
    "            #print(g_next)\n",
    "        \n",
    "        correction_term = None # to be implemented\n",
    "        corrected_gradient = None # to be implemented\n",
    "        \n",
    "        \n",
    "    # update all attributes in optimizer\n",
    "    optimizer.gradients = g\n",
    "    # ...\n",
    "    pass"
   ]
  },
  {
   "cell_type": "code",
   "execution_count": 17,
   "metadata": {},
   "outputs": [],
   "source": [
    "import itertools\n",
    "from more_itertools import peekable\n",
    "\n",
    "def adasecant_dataloader(dataset, batch_size, shuffle=False, drop_last=False):\n",
    "    data_loader = peekable(iter(data.DataLoader(dataset=dataset, batch_size=batch_size, shuffle=shuffle, drop_last=drop_last)))\n",
    "    return data_loader\n",
    "\n",
    "data_loader = adasecant_dataloader(dataset_test, 60, True, True)\n",
    "for batch in data_loader:\n",
    "    #print('current', batch['y'])\n",
    "    try:\n",
    "        peek = data_loader.peek()\n",
    "        #print('next', peek['y'])\n",
    "    except StopIteration:\n",
    "        pass"
   ]
  },
  {
   "cell_type": "markdown",
   "metadata": {},
   "source": [
    "## Training"
   ]
  },
  {
   "cell_type": "code",
   "execution_count": 18,
   "metadata": {},
   "outputs": [],
   "source": [
    "def evaluate_model(model, dataset, batch_size=1000):\n",
    "    \n",
    "    data_loader = data.DataLoader(dataset=dataset, batch_size=batch_size, shuffle=False, drop_last=False)\n",
    "    loss = 0.0\n",
    "    correct = 0\n",
    "    \n",
    "    for batch in data_loader:\n",
    "        yhat = model.forward(batch['X'].float().to(device))\n",
    "        y = batch['y'].long().to(device)\n",
    "        batch_loss = f_loss(yhat, y)\n",
    "        loss += batch_loss.item() * len(batch['X'])\n",
    "        correct += (torch.argmax(yhat, dim=1) == y).float().sum().item()\n",
    "    accuracy = correct / len(dataset)\n",
    "    \n",
    "    return loss, accuracy\n",
    "\n",
    "def get_scheduler(optimizer, base_lr, max_lr, epochs_per_cycle, len_dataset, batch_size):\n",
    "    if epochs_per_cycle is None:\n",
    "        epochs_per_cycle = epochs\n",
    "    iterations_per_cycle = epochs_per_cycle * (len_dataset // batch_size)\n",
    "    return torch.optim.lr_scheduler.CyclicLR(optimizer, base_lr, max_lr, step_size_up=iterations_per_cycle / 2)"
   ]
  },
  {
   "cell_type": "code",
   "execution_count": 37,
   "metadata": {},
   "outputs": [],
   "source": [
    "def train_model(model, dataset, validation_set, batch_size=64, epochs=1, \n",
    "                f_loss=F.cross_entropy, epochs_per_cycle=None):\n",
    "    \n",
    "    optimizer = AdaSecant(model.parameters())\n",
    "    lr_history = []\n",
    "    validation_accuracy = []\n",
    "    epoch_losses = []\n",
    "    validation_losses = []\n",
    "    \n",
    "    # evaluate initial state of model\n",
    "    initial_training_loss, _ = evaluate_model(model, dataset)\n",
    "    epoch_losses.append(initial_training_loss)\n",
    "    validation_loss, accuracy = evaluate_model(model, validation_set)\n",
    "    validation_losses.append(validation_loss)\n",
    "    validation_accuracy.append(accuracy)\n",
    "\n",
    "    for epoch in range(epochs):\n",
    "        # training and epoch loss logging\n",
    "        # drop last to avoid stochastic outliers in gradient update\n",
    "        data_loader = adasecant_dataloader(dataset=dataset, batch_size=batch_size, shuffle=True, drop_last=True)\n",
    "        epoch_loss = 0.0\n",
    "        \n",
    "        for batch in data_loader:\n",
    "            \n",
    "            # prepare adasecant with current gradient\n",
    "            model.zero_grad()\n",
    "            yhat = model.forward(batch['X'].float().to(device))\n",
    "            batch_loss = f_loss(yhat, batch['y'].long().to(device))\n",
    "            epoch_loss += batch_loss.item() * len(batch['X'])\n",
    "            batch_loss.backward()\n",
    "            for param in model.parameters():\n",
    "                print(param.grad[0])\n",
    "            optimizer.pre_step()\n",
    "            \n",
    "            # run adasecant with next gradient (addiotionally to current gradient)\n",
    "            model.zero_grad()\n",
    "            try:\n",
    "                next_batch = data_loader.peek()\n",
    "                yhat = model.forward(next_batch['X'].float().to(device))\n",
    "                batch_loss = f_loss(yhat, next_batch['y'].long().to(device))\n",
    "                batch_loss.backward()\n",
    "                for param in model.parameters():\n",
    "                    print(param.grad[0])\n",
    "                optimizer.step()\n",
    "            except:\n",
    "                # whatever happens if there is no next gradient\n",
    "                pass\n",
    "            return\n",
    "            \n",
    "        print(f'Epoch {epoch+1}/{epochs} - Loss: {epoch_loss / len(dataset)}')\n",
    "        epoch_losses.append(epoch_loss)\n",
    "        \n",
    "        # calculate validation loss and accuracy\n",
    "        validation_loss, accuracy = evaluate_model(model, validation_set)\n",
    "        validation_losses.append(validation_loss)\n",
    "        validation_accuracy.append(accuracy)\n",
    "        \n",
    "    return (np.array(epoch_losses) / len(dataset), \n",
    "            np.array(validation_losses) / len(validation_set), \n",
    "            validation_accuracy, \n",
    "            lr_history)"
   ]
  },
  {
   "cell_type": "code",
   "execution_count": 38,
   "metadata": {},
   "outputs": [
    {
     "name": "stdout",
     "output_type": "stream",
     "text": [
      "tensor([0.0180, 0.0176, 0.0139, 0.0139, 0.0187, 0.0190, 0.0233, 0.0223, 0.0197,\n",
      "        0.0198], device='cuda:0')\n",
      "tensor(0.0356, device='cuda:0')\n",
      "tensor([ 0.0283, -0.0004,  0.0226,  0.0010, -0.0282,  0.0109,  0.0024,  0.0156,\n",
      "        -0.0169,  0.0064], device='cuda:0')\n",
      "tensor(0.0293, device='cuda:0')\n",
      "tensor([ 0.0047,  0.0017,  0.0078, -0.0019,  0.0145,  0.0112,  0.0129,  0.0112,\n",
      "         0.0118,  0.0046], device='cuda:0')\n",
      "tensor(0.0103, device='cuda:0')\n",
      "tensor([-0.0266, -0.0056, -0.0082,  0.0034,  0.0003, -0.0065,  0.0088, -0.0020,\n",
      "         0.0107, -0.0045], device='cuda:0')\n",
      "tensor(-0.0025, device='cuda:0')\n",
      "current\n",
      "[tensor([[ 0.0047,  0.0017,  0.0078, -0.0019,  0.0145,  0.0112,  0.0129,  0.0112,\n",
      "          0.0118,  0.0046],\n",
      "        [-0.0020,  0.0061,  0.0048,  0.0024,  0.0071,  0.0053, -0.0033,  0.0032,\n",
      "          0.0117, -0.0008],\n",
      "        [ 0.0040, -0.0021,  0.0013,  0.0021,  0.0020, -0.0010,  0.0069,  0.0054,\n",
      "         -0.0080,  0.0011],\n",
      "        [ 0.0097,  0.0057,  0.0032,  0.0084,  0.0026,  0.0016,  0.0087,  0.0074,\n",
      "         -0.0015,  0.0037],\n",
      "        [-0.0152, -0.0139, -0.0114, -0.0134, -0.0092, -0.0089, -0.0110, -0.0078,\n",
      "         -0.0117, -0.0118],\n",
      "        [ 0.0137,  0.0193,  0.0125,  0.0185,  0.0151,  0.0088,  0.0150,  0.0164,\n",
      "          0.0212,  0.0096],\n",
      "        [ 0.0043,  0.0117,  0.0061,  0.0112,  0.0025,  0.0027,  0.0055, -0.0004,\n",
      "          0.0153,  0.0073],\n",
      "        [ 0.0061,  0.0075,  0.0043,  0.0044,  0.0064,  0.0078,  0.0048,  0.0049,\n",
      "          0.0120,  0.0022],\n",
      "        [ 0.0093,  0.0202,  0.0165,  0.0112,  0.0129,  0.0154,  0.0056,  0.0141,\n",
      "          0.0149,  0.0082],\n",
      "        [-0.0147, -0.0137, -0.0072, -0.0183, -0.0023, -0.0018, -0.0135, -0.0059,\n",
      "         -0.0057, -0.0100]], device='cuda:0'), tensor([ 0.0103,  0.0097,  0.0013,  0.0098, -0.0204,  0.0310,  0.0147,  0.0122,\n",
      "         0.0253, -0.0199], device='cuda:0'), tensor([[-2.6597e-02, -5.6341e-03, -8.2375e-03,  3.4190e-03,  2.9120e-04,\n",
      "         -6.4697e-03,  8.7952e-03, -2.0459e-03,  1.0743e-02, -4.5166e-03],\n",
      "        [ 4.1956e-02, -3.1492e-03,  3.7484e-02, -1.8628e-03, -4.0670e-02,\n",
      "          2.8594e-02, -3.5214e-03,  2.7509e-02, -1.4788e-02,  1.0319e-02],\n",
      "        [-7.7643e-03,  4.9878e-03, -1.3996e-02, -3.7610e-03,  1.6148e-02,\n",
      "         -9.7304e-03, -2.9743e-03, -1.6140e-02,  8.0644e-03, -3.8273e-03],\n",
      "        [ 1.2214e-02,  1.4927e-03,  1.0899e-02,  1.5734e-03, -1.0319e-02,\n",
      "          9.1422e-03,  2.5218e-03,  8.7558e-03, -8.1930e-03,  5.1679e-03],\n",
      "        [-1.5362e-02,  3.3711e-03, -1.5546e-02, -1.1698e-03,  2.5446e-02,\n",
      "         -1.5538e-02, -1.5081e-03, -1.2676e-02,  7.7635e-05, -5.8622e-03],\n",
      "        [ 1.1530e-02, -4.1907e-03,  6.2147e-03,  8.0022e-04, -8.2161e-03,\n",
      "          8.2773e-03,  1.8535e-03,  9.3287e-03, -7.0657e-03,  3.6388e-03],\n",
      "        [ 6.9512e-03,  1.9039e-03,  8.0290e-03,  3.5895e-03, -4.0405e-03,\n",
      "          5.9945e-03, -2.2966e-03,  3.2066e-03,  3.1850e-03,  5.3084e-03],\n",
      "        [ 3.6854e-02, -5.1144e-03,  2.7751e-02,  1.7638e-03, -2.9978e-02,\n",
      "          2.1596e-02, -2.6864e-03,  2.1080e-02, -8.9829e-03,  8.7224e-03],\n",
      "        [-4.5190e-02,  7.7101e-03, -4.1818e-02, -4.8341e-03,  3.9845e-02,\n",
      "         -3.0867e-02, -2.0511e-03, -3.2429e-02,  1.1845e-02, -1.4226e-02],\n",
      "        [-1.4591e-02, -1.3772e-03, -1.0780e-02,  4.8179e-04,  1.1493e-02,\n",
      "         -1.0998e-02,  1.8674e-03, -6.5895e-03,  5.1148e-03, -4.7236e-03]],\n",
      "       device='cuda:0'), tensor([-0.0025,  0.0518, -0.0163,  0.0068, -0.0385,  0.0117,  0.0054,  0.0471,\n",
      "        -0.0514, -0.0142], device='cuda:0')]\n",
      "next\n",
      "[tensor([[ 0.0047,  0.0017,  0.0078, -0.0019,  0.0145,  0.0112,  0.0129,  0.0112,\n",
      "          0.0118,  0.0046],\n",
      "        [-0.0020,  0.0061,  0.0048,  0.0024,  0.0071,  0.0053, -0.0033,  0.0032,\n",
      "          0.0117, -0.0008],\n",
      "        [ 0.0040, -0.0021,  0.0013,  0.0021,  0.0020, -0.0010,  0.0069,  0.0054,\n",
      "         -0.0080,  0.0011],\n",
      "        [ 0.0097,  0.0057,  0.0032,  0.0084,  0.0026,  0.0016,  0.0087,  0.0074,\n",
      "         -0.0015,  0.0037],\n",
      "        [-0.0152, -0.0139, -0.0114, -0.0134, -0.0092, -0.0089, -0.0110, -0.0078,\n",
      "         -0.0117, -0.0118],\n",
      "        [ 0.0137,  0.0193,  0.0125,  0.0185,  0.0151,  0.0088,  0.0150,  0.0164,\n",
      "          0.0212,  0.0096],\n",
      "        [ 0.0043,  0.0117,  0.0061,  0.0112,  0.0025,  0.0027,  0.0055, -0.0004,\n",
      "          0.0153,  0.0073],\n",
      "        [ 0.0061,  0.0075,  0.0043,  0.0044,  0.0064,  0.0078,  0.0048,  0.0049,\n",
      "          0.0120,  0.0022],\n",
      "        [ 0.0093,  0.0202,  0.0165,  0.0112,  0.0129,  0.0154,  0.0056,  0.0141,\n",
      "          0.0149,  0.0082],\n",
      "        [-0.0147, -0.0137, -0.0072, -0.0183, -0.0023, -0.0018, -0.0135, -0.0059,\n",
      "         -0.0057, -0.0100]], device='cuda:0'), tensor([ 0.0103,  0.0097,  0.0013,  0.0098, -0.0204,  0.0310,  0.0147,  0.0122,\n",
      "         0.0253, -0.0199], device='cuda:0'), tensor([[-2.6597e-02, -5.6341e-03, -8.2375e-03,  3.4190e-03,  2.9120e-04,\n",
      "         -6.4697e-03,  8.7952e-03, -2.0459e-03,  1.0743e-02, -4.5166e-03],\n",
      "        [ 4.1956e-02, -3.1492e-03,  3.7484e-02, -1.8628e-03, -4.0670e-02,\n",
      "          2.8594e-02, -3.5214e-03,  2.7509e-02, -1.4788e-02,  1.0319e-02],\n",
      "        [-7.7643e-03,  4.9878e-03, -1.3996e-02, -3.7610e-03,  1.6148e-02,\n",
      "         -9.7304e-03, -2.9743e-03, -1.6140e-02,  8.0644e-03, -3.8273e-03],\n",
      "        [ 1.2214e-02,  1.4927e-03,  1.0899e-02,  1.5734e-03, -1.0319e-02,\n",
      "          9.1422e-03,  2.5218e-03,  8.7558e-03, -8.1930e-03,  5.1679e-03],\n",
      "        [-1.5362e-02,  3.3711e-03, -1.5546e-02, -1.1698e-03,  2.5446e-02,\n",
      "         -1.5538e-02, -1.5081e-03, -1.2676e-02,  7.7635e-05, -5.8622e-03],\n",
      "        [ 1.1530e-02, -4.1907e-03,  6.2147e-03,  8.0022e-04, -8.2161e-03,\n",
      "          8.2773e-03,  1.8535e-03,  9.3287e-03, -7.0657e-03,  3.6388e-03],\n",
      "        [ 6.9512e-03,  1.9039e-03,  8.0290e-03,  3.5895e-03, -4.0405e-03,\n",
      "          5.9945e-03, -2.2966e-03,  3.2066e-03,  3.1850e-03,  5.3084e-03],\n",
      "        [ 3.6854e-02, -5.1144e-03,  2.7751e-02,  1.7638e-03, -2.9978e-02,\n",
      "          2.1596e-02, -2.6864e-03,  2.1080e-02, -8.9829e-03,  8.7224e-03],\n",
      "        [-4.5190e-02,  7.7101e-03, -4.1818e-02, -4.8341e-03,  3.9845e-02,\n",
      "         -3.0867e-02, -2.0511e-03, -3.2429e-02,  1.1845e-02, -1.4226e-02],\n",
      "        [-1.4591e-02, -1.3772e-03, -1.0780e-02,  4.8179e-04,  1.1493e-02,\n",
      "         -1.0998e-02,  1.8674e-03, -6.5895e-03,  5.1148e-03, -4.7236e-03]],\n",
      "       device='cuda:0'), tensor([-0.0025,  0.0518, -0.0163,  0.0068, -0.0385,  0.0117,  0.0054,  0.0471,\n",
      "        -0.0514, -0.0142], device='cuda:0')]\n",
      "Parameter containing:\n",
      "tensor([[ 0.2286,  0.2287,  0.2141, -0.2615,  0.2510,  0.2675, -0.0139,  0.2971,\n",
      "         -0.3096,  0.2358],\n",
      "        [ 0.0334, -0.0859,  0.2492,  0.2291, -0.0631,  0.2375, -0.0705,  0.0684,\n",
      "         -0.1596, -0.2239],\n",
      "        [ 0.0791, -0.2795,  0.1702,  0.2287,  0.2801,  0.1053,  0.2536,  0.2046,\n",
      "          0.0809, -0.0134],\n",
      "        [ 0.0601,  0.1005, -0.2616, -0.0729,  0.2587, -0.3138,  0.1805, -0.0032,\n",
      "         -0.0248,  0.0057],\n",
      "        [-0.0312,  0.0801,  0.1542, -0.2747, -0.2268, -0.3161, -0.3042,  0.1204,\n",
      "         -0.0676,  0.0029],\n",
      "        [ 0.0564, -0.0028, -0.1799, -0.0803, -0.0600,  0.1863,  0.3100,  0.2410,\n",
      "         -0.0005,  0.1184],\n",
      "        [ 0.3038, -0.0399, -0.2349, -0.1069,  0.0366, -0.0655,  0.1577, -0.1473,\n",
      "          0.2123, -0.1129],\n",
      "        [ 0.1342, -0.2365,  0.0650,  0.0355,  0.0378, -0.0441,  0.3094,  0.1560,\n",
      "          0.2746,  0.2764],\n",
      "        [-0.2668, -0.0010, -0.2297,  0.2181,  0.0278, -0.2944, -0.1737,  0.1308,\n",
      "          0.0188, -0.2744],\n",
      "        [ 0.0276,  0.2441, -0.2618, -0.0242,  0.2447,  0.0019,  0.2353,  0.1177,\n",
      "         -0.1157,  0.0695]], device='cuda:0', requires_grad=True)\n"
     ]
    },
    {
     "ename": "TypeError",
     "evalue": "cannot unpack non-iterable NoneType object",
     "output_type": "error",
     "traceback": [
      "\u001b[1;31m---------------------------------------------------------------------------\u001b[0m",
      "\u001b[1;31mTypeError\u001b[0m                                 Traceback (most recent call last)",
      "\u001b[1;32m<ipython-input-38-01dedd327eac>\u001b[0m in \u001b[0;36m<module>\u001b[1;34m\u001b[0m\n\u001b[0;32m      7\u001b[0m \u001b[0mcycle\u001b[0m \u001b[1;33m=\u001b[0m \u001b[0mepochs\u001b[0m\u001b[1;33m\u001b[0m\u001b[1;33m\u001b[0m\u001b[0m\n\u001b[0;32m      8\u001b[0m \u001b[1;33m\u001b[0m\u001b[0m\n\u001b[1;32m----> 9\u001b[1;33m training_loss, validation_loss, validation_accuracy, lr_history = train_model(model.to(device),\n\u001b[0m\u001b[0;32m     10\u001b[0m                                                                               \u001b[0mdataset_train\u001b[0m\u001b[1;33m,\u001b[0m\u001b[1;33m\u001b[0m\u001b[1;33m\u001b[0m\u001b[0m\n\u001b[0;32m     11\u001b[0m                                                                               \u001b[0mdataset_test\u001b[0m\u001b[1;33m,\u001b[0m\u001b[1;33m\u001b[0m\u001b[1;33m\u001b[0m\u001b[0m\n",
      "\u001b[1;31mTypeError\u001b[0m: cannot unpack non-iterable NoneType object"
     ]
    }
   ],
   "source": [
    "base_lr = 0.01\n",
    "max_lr = 0.1\n",
    "batch_size = 128\n",
    "epochs = 1\n",
    "f_opt = AdaSecant\n",
    "f_loss = F.cross_entropy\n",
    "cycle = epochs\n",
    "\n",
    "training_loss, validation_loss, validation_accuracy, lr_history = train_model(model.to(device),\n",
    "                                                                              dataset_train,\n",
    "                                                                              dataset_test,\n",
    "                                                                              batch_size,\n",
    "                                                                              epochs,\n",
    "                                                                              f_loss,\n",
    "                                                                              cycle)"
   ]
  },
  {
   "cell_type": "code",
   "execution_count": 12,
   "metadata": {},
   "outputs": [
    {
     "data": {
      "text/plain": [
       "<matplotlib.legend.Legend at 0x25d11ca20d0>"
      ]
     },
     "execution_count": 12,
     "metadata": {},
     "output_type": "execute_result"
    },
    {
     "data": {
      "image/png": "[encoded data removed]",
      "text/plain": [
       "<Figure size 432x288 with 1 Axes>"
      ]
     },
     "metadata": {
      "needs_background": "light"
     },
     "output_type": "display_data"
    }
   ],
   "source": [
    "plt.plot(training_loss, label='training loss')\n",
    "plt.plot(validation_loss, label='validation loss')\n",
    "plt.xlabel('Epochs')\n",
    "plt.ylabel('Mean Cross Entropy Loss')\n",
    "#plt.ylim(0.0, 10)\n",
    "plt.legend()"
   ]
  },
  {
   "cell_type": "code",
   "execution_count": 13,
   "metadata": {},
   "outputs": [
    {
     "data": {
      "text/plain": [
       "[<matplotlib.lines.Line2D at 0x25d12811c10>]"
      ]
     },
     "execution_count": 13,
     "metadata": {},
     "output_type": "execute_result"
    },
    {
     "data": {
      "image/png": "[encoded data removed]",
      "text/plain": [
       "<Figure size 432x288 with 1 Axes>"
      ]
     },
     "metadata": {
      "needs_background": "light"
     },
     "output_type": "display_data"
    }
   ],
   "source": [
    "plt.plot(lr_history)"
   ]
  },
  {
   "cell_type": "code",
   "execution_count": 14,
   "metadata": {},
   "outputs": [
    {
     "name": "stdout",
     "output_type": "stream",
     "text": [
      "0.125\n"
     ]
    },
    {
     "data": {
      "image/png": "[encoded data removed]",
      "text/plain": [
       "<Figure size 432x288 with 1 Axes>"
      ]
     },
     "metadata": {
      "needs_background": "light"
     },
     "output_type": "display_data"
    }
   ],
   "source": [
    "plt.plot(validation_accuracy)\n",
    "print(max(validation_accuracy))"
   ]
  },
  {
   "cell_type": "code",
   "execution_count": 15,
   "metadata": {},
   "outputs": [
    {
     "ename": "ModuleNotFoundError",
     "evalue": "No module named 'google'",
     "output_type": "error",
     "traceback": [
      "\u001b[1;31m---------------------------------------------------------------------------\u001b[0m",
      "\u001b[1;31mModuleNotFoundError\u001b[0m                       Traceback (most recent call last)",
      "\u001b[1;32m<ipython-input-15-1045e0c59eb0>\u001b[0m in \u001b[0;36m<module>\u001b[1;34m\u001b[0m\n\u001b[0;32m      1\u001b[0m \u001b[1;32mimport\u001b[0m \u001b[0mcsv\u001b[0m\u001b[1;33m\u001b[0m\u001b[1;33m\u001b[0m\u001b[0m\n\u001b[1;32m----> 2\u001b[1;33m \u001b[1;32mfrom\u001b[0m \u001b[0mgoogle\u001b[0m\u001b[1;33m.\u001b[0m\u001b[0mcolab\u001b[0m \u001b[1;32mimport\u001b[0m \u001b[0mfiles\u001b[0m\u001b[1;33m\u001b[0m\u001b[1;33m\u001b[0m\u001b[0m\n\u001b[0m\u001b[0;32m      3\u001b[0m \u001b[1;33m\u001b[0m\u001b[0m\n\u001b[0;32m      4\u001b[0m \u001b[1;32mwith\u001b[0m \u001b[0mopen\u001b[0m\u001b[1;33m(\u001b[0m\u001b[1;34m'train_loss'\u001b[0m\u001b[1;33m,\u001b[0m \u001b[1;34m'w'\u001b[0m\u001b[1;33m)\u001b[0m \u001b[1;32mas\u001b[0m \u001b[0mf\u001b[0m\u001b[1;33m:\u001b[0m\u001b[1;33m\u001b[0m\u001b[1;33m\u001b[0m\u001b[0m\n\u001b[0;32m      5\u001b[0m     \u001b[0mwrite\u001b[0m \u001b[1;33m=\u001b[0m \u001b[0mcsv\u001b[0m\u001b[1;33m.\u001b[0m\u001b[0mwriter\u001b[0m\u001b[1;33m(\u001b[0m\u001b[0mf\u001b[0m\u001b[1;33m)\u001b[0m\u001b[1;33m\u001b[0m\u001b[1;33m\u001b[0m\u001b[0m\n",
      "\u001b[1;31mModuleNotFoundError\u001b[0m: No module named 'google'"
     ]
    }
   ],
   "source": [
    "import csv\n",
    "from google.colab import files\n",
    "\n",
    "with open('train_loss', 'w') as f:\n",
    "    write = csv.writer(f)\n",
    "    write.writerow(training_loss)\n",
    "\n",
    "with open('val_loss', 'w') as f: \n",
    "    write = csv.writer(f)  \n",
    "    write.writerow(validation_loss)\n",
    "\n",
    "with open('val_accuracy', 'w') as f: \n",
    "    write = csv.writer(f)  \n",
    "    write.writerow(validation_accuracy)\n",
    "    \n",
    "with open('lr_history', 'w') as f: \n",
    "    write = csv.writer(f)  \n",
    "    write.writerow(lr_history)\n",
    "\n",
    "files.download('train_loss')\n",
    "files.download('val_loss')\n",
    "files.download('val_accuracy')\n",
    "files.download('lr_history')"
   ]
  }
 ],
 "metadata": {
  "kernelspec": {
   "display_name": "Python 3",
   "language": "python",
   "name": "python3"
  },
  "language_info": {
   "codemirror_mode": {
    "name": "ipython",
    "version": 3
   },
   "file_extension": ".py",
   "mimetype": "text/x-python",
   "name": "python",
   "nbconvert_exporter": "python",
   "pygments_lexer": "ipython3",
   "version": "3.8.5"
  }
 },
 "nbformat": 4,
 "nbformat_minor": 4
}
