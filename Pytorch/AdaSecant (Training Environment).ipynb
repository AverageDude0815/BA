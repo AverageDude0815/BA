{
 "cells": [
  {
   "cell_type": "markdown",
   "metadata": {},
   "source": [
    "# Training Environment"
   ]
  },
  {
   "cell_type": "code",
   "execution_count": 1,
   "metadata": {},
   "outputs": [],
   "source": [
    "import matplotlib.pyplot as plt\n",
    "import numpy as np\n",
    "import torch  # Package name: torch (for pip), pytorch (for conda)\n",
    "import torch.nn as nn\n",
    "import torch.nn.functional as F\n",
    "import torch.optim as optim\n",
    "import torch.utils.data as data\n",
    "\n",
    "class BasicDataset(data.Dataset):\n",
    "    def __init__(self, X, y):\n",
    "        self.X = X\n",
    "        self.y = y\n",
    "    \n",
    "    def __getitem__(self, idx):\n",
    "        return dict(X=self.X[idx], y=self.y[idx])\n",
    "    \n",
    "    def __len__(self):\n",
    "        return self.X.shape[0]"
   ]
  },
  {
   "cell_type": "markdown",
   "metadata": {},
   "source": [
    "## Prepare Data"
   ]
  },
  {
   "cell_type": "code",
   "execution_count": 2,
   "metadata": {},
   "outputs": [
    {
     "name": "stdout",
     "output_type": "stream",
     "text": [
      "Files already downloaded and verified\n",
      "Files already downloaded and verified\n",
      "Dataset CIFAR10\n",
      "    Number of datapoints: 50000\n",
      "    Root location: ./data\n",
      "    Split: Train\n",
      "Dataset CIFAR10\n",
      "    Number of datapoints: 10000\n",
      "    Root location: ./data\n",
      "    Split: Test\n"
     ]
    }
   ],
   "source": [
    "import torchvision.datasets as datasets\n",
    "\n",
    "mnist = False\n",
    "cifar10 = True\n",
    "cifar100 = False\n",
    "assert mnist ^ cifar10 ^ cifar100\n",
    "\n",
    "n_classes = 10\n",
    "if mnist:\n",
    "    trainset = datasets.MNIST(root='./data', train=True, download=True, transform=None)\n",
    "    testset = datasets.MNIST(root='./data', train=False, download=True, transform=None)\n",
    "if cifar10:\n",
    "    trainset = datasets.CIFAR10(root='./data', train=True, download=True, transform=None)\n",
    "    testset = datasets.CIFAR10(root='./data', train=False, download=True, transform=None)\n",
    "if cifar100:\n",
    "    n_classes = 100\n",
    "    trainset = datasets.CIFAR100(root='./data', train=True, download=True, transform=None)\n",
    "    testset = datasets.CIFAR100(root='./data', train=False, download=True, transform=None)\n",
    "\n",
    "print(trainset)\n",
    "print(testset)"
   ]
  },
  {
   "cell_type": "code",
   "execution_count": 3,
   "metadata": {},
   "outputs": [
    {
     "name": "stdout",
     "output_type": "stream",
     "text": [
      "X_train: torch.Size([50000, 3, 32, 32])\n",
      "y_train: torch.Size([50000])\n",
      "X_test: torch.Size([10000, 3, 32, 32])\n",
      "y_test: torch.Size([10000])\n"
     ]
    }
   ],
   "source": [
    "def to_rgb(x_grey: torch.Tensor) -> torch.Tensor:\n",
    "    if len(x_grey.size()) == 3:\n",
    "        helper = torch.unsqueeze(x_grey, 1)\n",
    "        return helper.repeat(1, 3, 1, 1).float()\n",
    "    elif len(x_grey.size()) == 4 and x_grey.size()[1] == 1:\n",
    "        return x_grey.repeat(1, 3, 1, 1).float()\n",
    "    elif len(x_grey.size()) == 4 and x_grey.size()[1] == 3:\n",
    "        return x_grey\n",
    "    elif len(x_grey.size()) == 4:\n",
    "        raise ValueError(f'The size of this image tensor is not valid.\\\n",
    "        A 4th order image tensor must have dim1==1 (grey-scale) or dim1==3 (rgb).\\\n",
    "        Unknown format cannot be transformed to rgb.')\n",
    "    else:\n",
    "        raise ValueError(f'The size of this image-tensor is not valid.\\\n",
    "        Must be either 3rd (grey-scale) order tensor or 4th order tensor (rgb).\\\n",
    "        Got order {len(x_grey.size())}')\n",
    "        \n",
    "def swap_data(X):\n",
    "    X1 = np.swapaxes(X, 1, 3)\n",
    "    X2 = np.swapaxes(X1, 2, 3)\n",
    "    return X2\n",
    "\n",
    "if mnist:\n",
    "    X_train_grey = trainset.train_data\n",
    "    X_train = to_rgb(X_train_grey)\n",
    "    X_test_grey = testset.test_data\n",
    "    X_test = to_rgb(X_test_grey)\n",
    "    y_train = trainset.train_labels\n",
    "    y_test = testset.test_labels\n",
    "else:\n",
    "    X_train = torch.tensor(swap_data(trainset.data))\n",
    "    y_train = torch.tensor(trainset.targets)\n",
    "    X_test = torch.tensor(swap_data(testset.data))\n",
    "    y_test = torch.tensor(testset.targets)\n",
    "    \n",
    "print('X_train:', X_train.shape)\n",
    "print('y_train:', y_train.shape)\n",
    "print('X_test:', X_test.shape)\n",
    "print('y_test:', y_test.shape)"
   ]
  },
  {
   "cell_type": "markdown",
   "metadata": {},
   "source": [
    "## Model load, modifications and GPU optimization"
   ]
  },
  {
   "cell_type": "code",
   "execution_count": 4,
   "metadata": {},
   "outputs": [
    {
     "name": "stdout",
     "output_type": "stream",
     "text": [
      "X_train: torch.Size([256, 10])\n",
      "y_train: torch.Size([256])\n",
      "X_test: torch.Size([256, 10])\n",
      "y_test: torch.Size([256])\n",
      "Parameter containing:\n",
      "tensor([[ 1.4078e-02, -3.9616e-02, -7.2260e-02, -2.5270e-01,  9.7713e-02,\n",
      "          2.8178e-04, -8.0032e-02,  4.4090e-02, -1.8610e-02,  1.8555e-01],\n",
      "        [ 1.0932e-01, -8.4304e-02,  1.4666e-01,  3.1359e-01, -1.4992e-01,\n",
      "          2.8736e-01, -2.1158e-01, -1.3150e-02, -2.0706e-01,  2.2609e-01],\n",
      "        [-6.4325e-02,  8.4393e-02, -1.8449e-02, -2.3070e-01, -2.3148e-01,\n",
      "          1.8885e-01,  4.8048e-02, -5.1638e-02, -2.8709e-01,  7.3048e-02],\n",
      "        [-7.6229e-02,  1.8433e-01,  2.6976e-01, -2.4699e-01, -1.1053e-01,\n",
      "          1.6059e-03, -2.4282e-01,  1.7602e-01,  9.2398e-03, -1.5417e-01],\n",
      "        [ 1.4938e-01,  5.1420e-02, -7.1059e-02,  2.4362e-01,  3.1580e-01,\n",
      "         -2.9684e-01, -2.7441e-02, -3.1564e-01, -2.1313e-01,  2.4051e-01],\n",
      "        [-4.7556e-03,  2.3492e-01,  2.5702e-01,  2.0029e-01,  2.9431e-01,\n",
      "          1.6840e-01, -3.1040e-02,  3.7002e-02, -2.6354e-01, -1.7180e-01],\n",
      "        [-1.2771e-02, -4.4617e-03,  2.6897e-01,  3.1180e-01,  2.2732e-01,\n",
      "         -1.4189e-01, -2.6113e-01, -2.8998e-01,  2.8846e-01, -8.4567e-02],\n",
      "        [-1.3141e-01, -1.3599e-01,  1.7477e-01,  3.8685e-02,  1.8149e-01,\n",
      "          3.3764e-02, -2.7626e-01, -7.3782e-03, -4.3775e-02,  8.6889e-03],\n",
      "        [ 1.0125e-01, -2.8130e-01, -1.5059e-01, -1.4990e-01, -2.2680e-01,\n",
      "          1.8623e-02, -2.4051e-01,  3.1061e-01, -4.0674e-02,  3.0112e-01],\n",
      "        [ 2.4397e-01,  7.7187e-02,  1.2086e-02, -2.1505e-01,  2.3369e-01,\n",
      "          1.7693e-01,  3.6221e-02,  2.5462e-01,  5.9518e-02,  3.5497e-03]],\n",
      "       requires_grad=True)\n",
      "Parameter containing:\n",
      "tensor([-0.2039, -0.1922,  0.0169, -0.2198, -0.0843, -0.1961,  0.1294, -0.1253,\n",
      "        -0.0438,  0.1826], requires_grad=True)\n",
      "Parameter containing:\n",
      "tensor([[ 0.0281, -0.2257, -0.2191,  0.2936,  0.2263, -0.0206,  0.1771, -0.2354,\n",
      "         -0.1842,  0.1253],\n",
      "        [ 0.2527, -0.3112, -0.2213,  0.2333,  0.0758,  0.1033,  0.0088, -0.1932,\n",
      "         -0.3116,  0.1331],\n",
      "        [ 0.0257, -0.1850, -0.2478, -0.2234, -0.0473, -0.0809,  0.1504,  0.0536,\n",
      "         -0.1408,  0.1553],\n",
      "        [-0.2692, -0.1573,  0.2110,  0.0404,  0.0890, -0.1751, -0.0499,  0.1127,\n",
      "         -0.0929,  0.2325],\n",
      "        [ 0.0163,  0.0388, -0.1765, -0.2378, -0.2691, -0.3033,  0.0327,  0.1558,\n",
      "         -0.2109,  0.0652],\n",
      "        [ 0.1329,  0.1866,  0.2346,  0.0449,  0.2906,  0.1413,  0.1480, -0.1559,\n",
      "          0.3018, -0.2118],\n",
      "        [ 0.0449, -0.1412,  0.0255, -0.0050,  0.2593,  0.2541, -0.1311,  0.2406,\n",
      "          0.2166,  0.1771],\n",
      "        [-0.0021,  0.2111,  0.2502, -0.0471,  0.3078,  0.0309,  0.0604, -0.1658,\n",
      "          0.1280,  0.2075],\n",
      "        [ 0.1267,  0.2115, -0.2177,  0.1999,  0.1858, -0.0314,  0.3076,  0.1076,\n",
      "         -0.0128, -0.0283],\n",
      "        [-0.0023,  0.0518, -0.0896, -0.1047, -0.0299,  0.0559,  0.2209,  0.1393,\n",
      "         -0.2492, -0.2672]], requires_grad=True)\n",
      "Parameter containing:\n",
      "tensor([ 0.1147, -0.0271,  0.2033,  0.2741,  0.0401, -0.1886, -0.0452, -0.0644,\n",
      "         0.2112, -0.3134], requires_grad=True)\n"
     ]
    }
   ],
   "source": [
    "from torchvision import models\n",
    "\n",
    "'''\n",
    "model = models.resnet18(pretrained=False) # set model here\n",
    "in_ftr = model.fc.in_features\n",
    "out_ftr = n_classes\n",
    "model.fc = nn.Linear(in_ftr,out_ftr,bias=True)\n",
    "'''\n",
    "\n",
    "# redefining stuff for AdaSecant test runs\n",
    "X_train = torch.rand(256, 10)\n",
    "X_test = torch.rand(256, 10)\n",
    "y_train = torch.randint(10, (256,))\n",
    "y_test = torch.randint(10, (256,))\n",
    "\n",
    "print('X_train:', X_train.shape)\n",
    "print('y_train:', y_train.shape)\n",
    "print('X_test:', X_test.shape)\n",
    "print('y_test:', y_test.shape)\n",
    "\n",
    "model = torch.nn.Sequential(nn.Linear(10, 10), nn.Linear(10, 10))\n",
    "for param in model.parameters():\n",
    "    print(param)\n",
    "\n",
    "dataset_train = BasicDataset(X_train, y_train)\n",
    "dataset_test = BasicDataset(X_test, y_test)"
   ]
  },
  {
   "cell_type": "markdown",
   "metadata": {},
   "source": [
    "Check specs for GPU-based training."
   ]
  },
  {
   "cell_type": "code",
   "execution_count": 5,
   "metadata": {},
   "outputs": [
    {
     "name": "stdout",
     "output_type": "stream",
     "text": [
      "cuda available: True\n",
      "cuda device name: NVIDIA GeForce 940MX\n",
      "cuda device id 0\n"
     ]
    }
   ],
   "source": [
    "print('cuda available:', torch.cuda.is_available())\n",
    "print('cuda device name:', torch.cuda.get_device_name())\n",
    "print('cuda device id', torch.cuda.current_device())"
   ]
  },
  {
   "cell_type": "markdown",
   "metadata": {},
   "source": [
    "Move model and data to GPU."
   ]
  },
  {
   "cell_type": "code",
   "execution_count": 6,
   "metadata": {},
   "outputs": [
    {
     "name": "stdout",
     "output_type": "stream",
     "text": [
      "worked? True\n"
     ]
    }
   ],
   "source": [
    "device = torch.device(\"cuda:0\" if torch.cuda.is_available() else \"cpu\")\n",
    "model.to(device)\n",
    "X_train.to(device)\n",
    "print('worked?', X_train.to(device).is_cuda)"
   ]
  },
  {
   "cell_type": "markdown",
   "metadata": {},
   "source": [
    "## Implementing AdaSecant\n",
    "https://github.com/pytorch/pytorch/blob/master/torch/optim/sgd.py"
   ]
  },
  {
   "cell_type": "code",
   "execution_count": 16,
   "metadata": {},
   "outputs": [],
   "source": [
    "from typing import List\n",
    "\n",
    "class AdaSecant():\n",
    "\n",
    "    def __init__(self, params):\n",
    "        self.params = params\n",
    "        self.gradients = self.get_gradients()\n",
    "    \n",
    "    \n",
    "    @torch.no_grad()\n",
    "    def get_gradients(self):\n",
    "        d_p_list = []\n",
    "        for p in self.params:\n",
    "            print('ok')\n",
    "            # subgrouping of parameters for each layer, bias and weights separately (each tensor)\n",
    "            if p.grad is not None:\n",
    "                d_p_list.append(p.grad)\n",
    "        return d_p_list\n",
    "\n",
    "\n",
    "    @torch.no_grad()\n",
    "    def step(self):\n",
    "        params_with_grad = []\n",
    "        next_gradients = []\n",
    "        for p in self.params:\n",
    "            print('hello')\n",
    "            # subgrouping of parameters for each layer, bias and weights separately (each tensor)\n",
    "            if p.grad is not None:\n",
    "                params_with_grad.append(p)\n",
    "                next_gradients.append(p.grad)\n",
    "                \n",
    "            adasecant(params_with_grad, self.gradients, next_gradients)\n",
    "            \n",
    "        return #loss\n",
    "    \n",
    "def adasecant(params: List[torch.Tensor], gradients: List[torch.Tensor], next_gradients: List[torch.Tensor]):\n",
    "    print(gradients)\n",
    "    # d_p_list[i] corresponds to param[i]\n",
    "    for i, param in enumerate(params):\n",
    "        g = d_p_list[i]\n",
    "    pass"
   ]
  },
  {
   "cell_type": "code",
   "execution_count": 21,
   "metadata": {},
   "outputs": [
    {
     "name": "stdout",
     "output_type": "stream",
     "text": [
      "current tensor([5, 9, 7, 8, 4, 8, 4, 9, 0, 2, 1, 6, 7, 1, 5, 4, 6, 6, 8, 5, 7, 9, 7, 5,\n",
      "        1, 1, 0, 9, 5, 9, 7, 2, 8, 5, 7, 0, 3, 7, 1, 1, 8, 6, 8, 0, 3, 7, 2, 1,\n",
      "        1, 0, 7, 8, 8, 5, 1, 5, 5, 6, 8, 5])\n",
      "next tensor([1, 0, 7, 6, 0, 3, 9, 8, 8, 3, 8, 3, 3, 6, 9, 6, 0, 4, 9, 7, 1, 5, 1, 2,\n",
      "        6, 4, 4, 5, 3, 4, 3, 2, 9, 9, 3, 6, 3, 9, 3, 4, 5, 7, 9, 2, 9, 5, 1, 1,\n",
      "        4, 1, 7, 4, 9, 1, 6, 4, 6, 0, 0, 2])\n",
      "current tensor([1, 0, 7, 6, 0, 3, 9, 8, 8, 3, 8, 3, 3, 6, 9, 6, 0, 4, 9, 7, 1, 5, 1, 2,\n",
      "        6, 4, 4, 5, 3, 4, 3, 2, 9, 9, 3, 6, 3, 9, 3, 4, 5, 7, 9, 2, 9, 5, 1, 1,\n",
      "        4, 1, 7, 4, 9, 1, 6, 4, 6, 0, 0, 2])\n",
      "next tensor([9, 5, 8, 8, 4, 9, 2, 4, 2, 9, 3, 6, 3, 5, 8, 7, 4, 2, 2, 2, 2, 3, 5, 0,\n",
      "        0, 9, 1, 7, 3, 5, 0, 6, 3, 1, 8, 1, 3, 9, 0, 4, 9, 6, 5, 8, 1, 1, 9, 5,\n",
      "        7, 7, 0, 9, 9, 1, 1, 6, 4, 6, 7, 2])\n",
      "current tensor([9, 5, 8, 8, 4, 9, 2, 4, 2, 9, 3, 6, 3, 5, 8, 7, 4, 2, 2, 2, 2, 3, 5, 0,\n",
      "        0, 9, 1, 7, 3, 5, 0, 6, 3, 1, 8, 1, 3, 9, 0, 4, 9, 6, 5, 8, 1, 1, 9, 5,\n",
      "        7, 7, 0, 9, 9, 1, 1, 6, 4, 6, 7, 2])\n",
      "next tensor([3, 5, 5, 5, 2, 6, 1, 6, 9, 2, 6, 0, 6, 4, 0, 9, 8, 1, 0, 2, 6, 3, 5, 4,\n",
      "        6, 2, 4, 6, 3, 0, 6, 8, 6, 5, 1, 2, 0, 4, 2, 9, 0, 4, 4, 7, 1, 6, 4, 4,\n",
      "        0, 0, 9, 5, 1, 9, 5, 3, 3, 5, 2, 1])\n",
      "current tensor([3, 5, 5, 5, 2, 6, 1, 6, 9, 2, 6, 0, 6, 4, 0, 9, 8, 1, 0, 2, 6, 3, 5, 4,\n",
      "        6, 2, 4, 6, 3, 0, 6, 8, 6, 5, 1, 2, 0, 4, 2, 9, 0, 4, 4, 7, 1, 6, 4, 4,\n",
      "        0, 0, 9, 5, 1, 9, 5, 3, 3, 5, 2, 1])\n"
     ]
    }
   ],
   "source": [
    "import itertools\n",
    "from more_itertools import peekable\n",
    "\n",
    "def adasecant_dataloader(dataset, batch_size, shuffle=False, drop_last=False):\n",
    "    data_loader = peekable(iter(data.DataLoader(dataset=dataset, batch_size=batch_size, shuffle=shuffle, drop_last=drop_last)))\n",
    "    return data_loader\n",
    "\n",
    "data_loader = adasecant_dataloader(dataset_test, 60, True, True)\n",
    "for batch in data_loader:\n",
    "    print('current', batch['y'])\n",
    "    try:\n",
    "        peek = data_loader.peek()\n",
    "        print('next', peek['y'])\n",
    "    except StopIteration:\n",
    "        pass"
   ]
  },
  {
   "cell_type": "markdown",
   "metadata": {},
   "source": [
    "## Training"
   ]
  },
  {
   "cell_type": "code",
   "execution_count": 18,
   "metadata": {},
   "outputs": [],
   "source": [
    "def evaluate_model(model, dataset, batch_size=1000):\n",
    "    \n",
    "    data_loader = data.DataLoader(dataset=dataset, batch_size=batch_size, shuffle=False, drop_last=False)\n",
    "    loss = 0.0\n",
    "    correct = 0\n",
    "    \n",
    "    for batch in data_loader:\n",
    "        yhat = model.forward(batch['X'].float().to(device))\n",
    "        y = batch['y'].long().to(device)\n",
    "        batch_loss = f_loss(yhat, y)\n",
    "        loss += batch_loss.item() * len(batch['X'])\n",
    "        correct += (torch.argmax(yhat, dim=1) == y).float().sum().item()\n",
    "    accuracy = correct / len(dataset)\n",
    "    \n",
    "    return loss, accuracy\n",
    "\n",
    "def get_scheduler(optimizer, base_lr, max_lr, epochs_per_cycle, len_dataset, batch_size):\n",
    "    if epochs_per_cycle is None:\n",
    "        epochs_per_cycle = epochs\n",
    "    iterations_per_cycle = epochs_per_cycle * (len_dataset // batch_size)\n",
    "    return torch.optim.lr_scheduler.CyclicLR(optimizer, base_lr, max_lr, step_size_up=iterations_per_cycle / 2)"
   ]
  },
  {
   "cell_type": "code",
   "execution_count": 19,
   "metadata": {},
   "outputs": [],
   "source": [
    "def train_model(model, dataset, validation_set, batch_size=64, epochs=1, \n",
    "                f_loss=F.cross_entropy, epochs_per_cycle=None):\n",
    "    \n",
    "    optimizer = AdaSecant(model.parameters())\n",
    "    lr_history = []\n",
    "    validation_accuracy = []\n",
    "    epoch_losses = []\n",
    "    validation_losses = []\n",
    "    \n",
    "    # evaluate initial state of model\n",
    "    initial_training_loss, _ = evaluate_model(model, dataset)\n",
    "    epoch_losses.append(initial_training_loss)\n",
    "    validation_loss, accuracy = evaluate_model(model, validation_set)\n",
    "    validation_losses.append(validation_loss)\n",
    "    validation_accuracy.append(accuracy)\n",
    "\n",
    "    for epoch in range(epochs):\n",
    "        # training and epoch loss logging\n",
    "        # drop last to avoid stochastic outliers in gradient update\n",
    "        data_loader = adasecant_dataloader(dataset=dataset, batch_size=batch_size, shuffle=True, drop_last=True)\n",
    "        epoch_loss = 0.0\n",
    "        for batch in data_loader:            \n",
    "            model.zero_grad()\n",
    "            yhat = model.forward(batch['X'].float().to(device))\n",
    "            batch_loss = f_loss(yhat, batch['y'].long().to(device))\n",
    "            epoch_loss += batch_loss.item() * len(batch['X'])\n",
    "            batch_loss.backward()\n",
    "            optimizer.step()\n",
    "        print(f'Epoch {epoch+1}/{epochs} - Loss: {epoch_loss / len(dataset)}')\n",
    "        epoch_losses.append(epoch_loss)\n",
    "        \n",
    "        # calculate validation loss and accuracy\n",
    "        validation_loss, accuracy = evaluate_model(model, validation_set)\n",
    "        validation_losses.append(validation_loss)\n",
    "        validation_accuracy.append(accuracy)\n",
    "        \n",
    "    return (np.array(epoch_losses) / len(dataset), \n",
    "            np.array(validation_losses) / len(validation_set), \n",
    "            validation_accuracy, \n",
    "            lr_history)"
   ]
  },
  {
   "cell_type": "code",
   "execution_count": 20,
   "metadata": {},
   "outputs": [
    {
     "name": "stdout",
     "output_type": "stream",
     "text": [
      "ok\n",
      "ok\n",
      "ok\n",
      "ok\n",
      "Epoch 1/1 - Loss: 2.3112996369600296\n"
     ]
    }
   ],
   "source": [
    "base_lr = 0.01\n",
    "max_lr = 0.1\n",
    "batch_size = 16\n",
    "epochs = 1\n",
    "f_opt = AdaSecant\n",
    "f_loss = F.cross_entropy\n",
    "cycle = epochs\n",
    "\n",
    "training_loss, validation_loss, validation_accuracy, lr_history = train_model(model.to(device),\n",
    "                                                                              dataset_train,\n",
    "                                                                              dataset_test,\n",
    "                                                                              batch_size,\n",
    "                                                                              epochs,\n",
    "                                                                              f_loss,\n",
    "                                                                              cycle)"
   ]
  },
  {
   "cell_type": "code",
   "execution_count": 12,
   "metadata": {},
   "outputs": [
    {
     "data": {
      "text/plain": [
       "<matplotlib.legend.Legend at 0x2a582c1efd0>"
      ]
     },
     "execution_count": 12,
     "metadata": {},
     "output_type": "execute_result"
    },
    {
     "data": {
      "image/png": "[encoded data removed]",
      "text/plain": [
       "<Figure size 432x288 with 1 Axes>"
      ]
     },
     "metadata": {
      "needs_background": "light"
     },
     "output_type": "display_data"
    }
   ],
   "source": [
    "plt.plot(training_loss, label='training loss')\n",
    "plt.plot(validation_loss, label='validation loss')\n",
    "plt.xlabel('Epochs')\n",
    "plt.ylabel('Mean Cross Entropy Loss')\n",
    "#plt.ylim(0.0, 10)\n",
    "plt.legend()"
   ]
  },
  {
   "cell_type": "code",
   "execution_count": 13,
   "metadata": {},
   "outputs": [
    {
     "data": {
      "text/plain": [
       "[<matplotlib.lines.Line2D at 0x2a58d766880>]"
      ]
     },
     "execution_count": 13,
     "metadata": {},
     "output_type": "execute_result"
    },
    {
     "data": {
      "image/png": "[encoded data removed]",
      "text/plain": [
       "<Figure size 432x288 with 1 Axes>"
      ]
     },
     "metadata": {
      "needs_background": "light"
     },
     "output_type": "display_data"
    }
   ],
   "source": [
    "plt.plot(lr_history)"
   ]
  },
  {
   "cell_type": "code",
   "execution_count": 14,
   "metadata": {},
   "outputs": [
    {
     "name": "stdout",
     "output_type": "stream",
     "text": [
      "0.0625\n"
     ]
    },
    {
     "data": {
      "image/png": "[encoded data removed]",
      "text/plain": [
       "<Figure size 432x288 with 1 Axes>"
      ]
     },
     "metadata": {
      "needs_background": "light"
     },
     "output_type": "display_data"
    }
   ],
   "source": [
    "plt.plot(validation_accuracy)\n",
    "print(max(validation_accuracy))"
   ]
  },
  {
   "cell_type": "code",
   "execution_count": 15,
   "metadata": {},
   "outputs": [
    {
     "ename": "ModuleNotFoundError",
     "evalue": "No module named 'google'",
     "output_type": "error",
     "traceback": [
      "\u001b[1;31m---------------------------------------------------------------------------\u001b[0m",
      "\u001b[1;31mModuleNotFoundError\u001b[0m                       Traceback (most recent call last)",
      "\u001b[1;32m<ipython-input-15-1045e0c59eb0>\u001b[0m in \u001b[0;36m<module>\u001b[1;34m\u001b[0m\n\u001b[0;32m      1\u001b[0m \u001b[1;32mimport\u001b[0m \u001b[0mcsv\u001b[0m\u001b[1;33m\u001b[0m\u001b[1;33m\u001b[0m\u001b[0m\n\u001b[1;32m----> 2\u001b[1;33m \u001b[1;32mfrom\u001b[0m \u001b[0mgoogle\u001b[0m\u001b[1;33m.\u001b[0m\u001b[0mcolab\u001b[0m \u001b[1;32mimport\u001b[0m \u001b[0mfiles\u001b[0m\u001b[1;33m\u001b[0m\u001b[1;33m\u001b[0m\u001b[0m\n\u001b[0m\u001b[0;32m      3\u001b[0m \u001b[1;33m\u001b[0m\u001b[0m\n\u001b[0;32m      4\u001b[0m \u001b[1;32mwith\u001b[0m \u001b[0mopen\u001b[0m\u001b[1;33m(\u001b[0m\u001b[1;34m'train_loss'\u001b[0m\u001b[1;33m,\u001b[0m \u001b[1;34m'w'\u001b[0m\u001b[1;33m)\u001b[0m \u001b[1;32mas\u001b[0m \u001b[0mf\u001b[0m\u001b[1;33m:\u001b[0m\u001b[1;33m\u001b[0m\u001b[1;33m\u001b[0m\u001b[0m\n\u001b[0;32m      5\u001b[0m     \u001b[0mwrite\u001b[0m \u001b[1;33m=\u001b[0m \u001b[0mcsv\u001b[0m\u001b[1;33m.\u001b[0m\u001b[0mwriter\u001b[0m\u001b[1;33m(\u001b[0m\u001b[0mf\u001b[0m\u001b[1;33m)\u001b[0m\u001b[1;33m\u001b[0m\u001b[1;33m\u001b[0m\u001b[0m\n",
      "\u001b[1;31mModuleNotFoundError\u001b[0m: No module named 'google'"
     ]
    }
   ],
   "source": [
    "import csv\n",
    "from google.colab import files\n",
    "\n",
    "with open('train_loss', 'w') as f:\n",
    "    write = csv.writer(f)\n",
    "    write.writerow(training_loss)\n",
    "\n",
    "with open('val_loss', 'w') as f: \n",
    "    write = csv.writer(f)  \n",
    "    write.writerow(validation_loss)\n",
    "\n",
    "with open('val_accuracy', 'w') as f: \n",
    "    write = csv.writer(f)  \n",
    "    write.writerow(validation_accuracy)\n",
    "    \n",
    "with open('lr_history', 'w') as f: \n",
    "    write = csv.writer(f)  \n",
    "    write.writerow(lr_history)\n",
    "\n",
    "files.download('train_loss')\n",
    "files.download('val_loss')\n",
    "files.download('val_accuracy')\n",
    "files.download('lr_history')"
   ]
  }
 ],
 "metadata": {
  "kernelspec": {
   "display_name": "Python 3",
   "language": "python",
   "name": "python3"
  },
  "language_info": {
   "codemirror_mode": {
    "name": "ipython",
    "version": 3
   },
   "file_extension": ".py",
   "mimetype": "text/x-python",
   "name": "python",
   "nbconvert_exporter": "python",
   "pygments_lexer": "ipython3",
   "version": "3.8.5"
  }
 },
 "nbformat": 4,
 "nbformat_minor": 4
}
