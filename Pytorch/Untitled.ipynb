{
 "cells": [
  {
   "cell_type": "code",
   "execution_count": 1,
   "metadata": {},
   "outputs": [],
   "source": [
    "import matplotlib.pyplot as plt\n",
    "import numpy as np\n",
    "import torch  # Package name: torch (for pip), pytorch (for conda)\n",
    "import torch.nn as nn\n",
    "import torch.nn.functional as F\n",
    "import torch.optim as optim\n",
    "import torch.utils.data as data"
   ]
  },
  {
   "cell_type": "code",
   "execution_count": 10,
   "metadata": {},
   "outputs": [
    {
     "name": "stdout",
     "output_type": "stream",
     "text": [
      "tensor([0.4552, 0.4165, 0.0475, 0.8621])\n",
      "tensor([0.6074, 0.1316, 0.2362, 0.1088])\n",
      "tensor([0.7016, 0.3643, 0.1444, 0.4733])\n"
     ]
    },
    {
     "data": {
      "text/plain": [
       "tensor([0.7016, 0.4165, 0.1444, 0.8621])"
      ]
     },
     "execution_count": 10,
     "metadata": {},
     "output_type": "execute_result"
    }
   ],
   "source": [
    "# test if\n",
    "# if g_i > mean_g_i\n",
    "g = torch.rand(4)\n",
    "print(g)\n",
    "\n",
    "mean_g = torch.rand(4)\n",
    "print(mean_g)\n",
    "\n",
    "g_new = torch.rand(4)\n",
    "print(g_new)\n",
    "\n",
    "torch.where(g > mean_g, g, g_new)"
   ]
  },
  {
   "cell_type": "markdown",
   "metadata": {},
   "source": [
    "$\\theta^{(j)} = \\theta^{(j-1)} + \\alpha^{(j)} d^{(j)}, j\\in\\{1,...,n\\}$\n",
    "\n",
    "$d^{(k)} = - \\nabla_{\\theta}f(\\theta^{(k)})$"
   ]
  },
  {
   "cell_type": "markdown",
   "metadata": {},
   "source": [
    "## $\\alpha$"
   ]
  },
  {
   "cell_type": "code",
   "execution_count": null,
   "metadata": {},
   "outputs": [],
   "source": []
  }
 ],
 "metadata": {
  "kernelspec": {
   "display_name": "Python 3",
   "language": "python",
   "name": "python3"
  },
  "language_info": {
   "codemirror_mode": {
    "name": "ipython",
    "version": 3
   },
   "file_extension": ".py",
   "mimetype": "text/x-python",
   "name": "python",
   "nbconvert_exporter": "python",
   "pygments_lexer": "ipython3",
   "version": "3.8.5"
  }
 },
 "nbformat": 4,
 "nbformat_minor": 4
}
