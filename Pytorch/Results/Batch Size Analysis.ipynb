{
 "cells": [
  {
   "cell_type": "markdown",
   "metadata": {},
   "source": [
    "# Batch Size"
   ]
  },
  {
   "cell_type": "code",
   "execution_count": 1,
   "metadata": {},
   "outputs": [],
   "source": [
    "from content_opener import open_contents, Results, Settings, Values, Labels"
   ]
  },
  {
   "cell_type": "markdown",
   "metadata": {},
   "source": [
    "## Test batch sizes"
   ]
  },
  {
   "cell_type": "code",
   "execution_count": 2,
   "metadata": {},
   "outputs": [],
   "source": [
    "dataset = 'CIFAR10'\n",
    "#dataset = 'CIFAR100'\n",
    "\n",
    "net = 'ResNet18'\n",
    "\n",
    "optimizer = 'SGD'\n",
    "#optimizer = 'Adam'\n",
    "#optimizer = 'AdaSecant'\n",
    "\n",
    "cycle = 'constantLR'\n",
    "#cycle = '100-cycle'\n",
    "#cycle = '50-cycle'\n",
    "#cycle = '25-cycle'\n",
    "\n",
    "#decay = []\n",
    "decay = 'exponentialDecay=False'\n",
    "#decay.append('exponentialDecay=False')\n",
    "#decay.append('exponentialDecay=True')\n",
    "#decay.append('exponentialDecay=maxLR')\n",
    "#decay.append('exponentialDecay=slope')\n",
    "\n",
    "\n",
    "#lr = 'lr=0.001'\n",
    "lr = 'lr=0.01'\n",
    "lr2 = 'lr=0.1'\n",
    "#lr = 'lr=1'\n",
    "#lr = 'lr=3'\n",
    "#lr = 'lr=0.01-0.1'\n",
    "clr = 'lr=0.01-1'\n",
    "#lr = 'lr=0.001-0.01'\n",
    "#lr = 'lr=0.001-0.1'\n",
    "#lr = 'lr=0.001-1'\n",
    "\n",
    "batch_size1 = 'batch-size=32'\n",
    "batch_size2 = 'batch-size=128'\n",
    "batch_size3 = 'batch-size=512'\n",
    "batch_size4 = 'batch-size=2048'\n",
    "\n",
    "settings = Settings(dataset, net, optimizer, cycle, decay, lr, batch_size1)\n",
    "results = open_contents(settings)"
   ]
  },
  {
   "cell_type": "code",
   "execution_count": 6,
   "metadata": {},
   "outputs": [
    {
     "data": {
      "text/plain": [
       "<matplotlib.legend.Legend at 0x1dbb7463d60>"
      ]
     },
     "execution_count": 6,
     "metadata": {},
     "output_type": "execute_result"
    },
    {
     "data": {
      "image/png": "[encoded data removed]",
      "text/plain": [
       "<Figure size 432x288 with 1 Axes>"
      ]
     },
     "metadata": {
      "needs_background": "light"
     },
     "output_type": "display_data"
    }
   ],
   "source": [
    "import matplotlib.pyplot as plt\n",
    "import numpy as np\n",
    "\n",
    "plt.plot(results.values.train_loss, label='batch size ' + results.get_labels().batch_size)\n",
    "plt.plot(results.values.train_loss, label=results.get_labels().max_lr)\n",
    "plt.plot(results.values.train_loss, label=results.get_labels().initial_lr)\n",
    "plt.plot(results.values.train_loss, label=results.get_labels().cycle)\n",
    "plt.plot(results.values.train_loss, label=results.get_labels().decay)\n",
    "plt.xlabel('Epochs')\n",
    "plt.ylabel('Training: Mean Cross Entropy Loss')\n",
    "plt.legend()"
   ]
  },
  {
   "cell_type": "code",
   "execution_count": 4,
   "metadata": {},
   "outputs": [
    {
     "ename": "NameError",
     "evalue": "name 'val_loss32' is not defined",
     "output_type": "error",
     "traceback": [
      "\u001b[1;31m---------------------------------------------------------------------------\u001b[0m",
      "\u001b[1;31mNameError\u001b[0m                                 Traceback (most recent call last)",
      "\u001b[1;32m<ipython-input-4-7ca6ee456887>\u001b[0m in \u001b[0;36m<module>\u001b[1;34m\u001b[0m\n\u001b[1;32m----> 1\u001b[1;33m \u001b[0mplt\u001b[0m\u001b[1;33m.\u001b[0m\u001b[0mplot\u001b[0m\u001b[1;33m(\u001b[0m\u001b[0mval_loss32\u001b[0m\u001b[1;33m,\u001b[0m \u001b[0mlabel\u001b[0m\u001b[1;33m=\u001b[0m\u001b[1;34m'batch size 32'\u001b[0m\u001b[1;33m)\u001b[0m\u001b[1;33m\u001b[0m\u001b[1;33m\u001b[0m\u001b[0m\n\u001b[0m\u001b[0;32m      2\u001b[0m \u001b[0mplt\u001b[0m\u001b[1;33m.\u001b[0m\u001b[0mplot\u001b[0m\u001b[1;33m(\u001b[0m\u001b[0mval_loss128\u001b[0m\u001b[1;33m,\u001b[0m \u001b[0mlabel\u001b[0m\u001b[1;33m=\u001b[0m\u001b[1;34m'batch size 128'\u001b[0m\u001b[1;33m)\u001b[0m\u001b[1;33m\u001b[0m\u001b[1;33m\u001b[0m\u001b[0m\n\u001b[0;32m      3\u001b[0m \u001b[0mplt\u001b[0m\u001b[1;33m.\u001b[0m\u001b[0mplot\u001b[0m\u001b[1;33m(\u001b[0m\u001b[0mval_loss512\u001b[0m\u001b[1;33m,\u001b[0m \u001b[0mlabel\u001b[0m\u001b[1;33m=\u001b[0m\u001b[1;34m'batch size 512'\u001b[0m\u001b[1;33m)\u001b[0m\u001b[1;33m\u001b[0m\u001b[1;33m\u001b[0m\u001b[0m\n\u001b[0;32m      4\u001b[0m \u001b[0mplt\u001b[0m\u001b[1;33m.\u001b[0m\u001b[0mplot\u001b[0m\u001b[1;33m(\u001b[0m\u001b[0mval_loss2048\u001b[0m\u001b[1;33m,\u001b[0m \u001b[0mlabel\u001b[0m\u001b[1;33m=\u001b[0m\u001b[1;34m'batch size 2048'\u001b[0m\u001b[1;33m)\u001b[0m\u001b[1;33m\u001b[0m\u001b[1;33m\u001b[0m\u001b[0m\n\u001b[0;32m      5\u001b[0m \u001b[0mplt\u001b[0m\u001b[1;33m.\u001b[0m\u001b[0mxlabel\u001b[0m\u001b[1;33m(\u001b[0m\u001b[1;34m'Epochs'\u001b[0m\u001b[1;33m)\u001b[0m\u001b[1;33m\u001b[0m\u001b[1;33m\u001b[0m\u001b[0m\n",
      "\u001b[1;31mNameError\u001b[0m: name 'val_loss32' is not defined"
     ]
    }
   ],
   "source": [
    "plt.plot(val_loss32, label='batch size 32')\n",
    "plt.plot(val_loss128, label='batch size 128')\n",
    "plt.plot(val_loss512, label='batch size 512')\n",
    "plt.plot(val_loss2048, label='batch size 2048')\n",
    "plt.xlabel('Epochs')\n",
    "plt.ylabel('Test: Mean Cross Entropy Loss')\n",
    "plt.legend()"
   ]
  },
  {
   "cell_type": "code",
   "execution_count": null,
   "metadata": {},
   "outputs": [],
   "source": [
    "plt.plot(val_accuracy32, label='batch size 32')\n",
    "plt.plot(val_accuracy128, label='batch size 128')\n",
    "plt.plot(val_accuracy512, label='batch size 512')\n",
    "plt.plot(val_accuracy2048, label='batch size 2048')\n",
    "plt.xlabel('Epochs')\n",
    "plt.ylabel('Test Accuracy')\n",
    "plt.legend()"
   ]
  }
 ],
 "metadata": {
  "kernelspec": {
   "display_name": "Python 3",
   "language": "python",
   "name": "python3"
  },
  "language_info": {
   "codemirror_mode": {
    "name": "ipython",
    "version": 3
   },
   "file_extension": ".py",
   "mimetype": "text/x-python",
   "name": "python",
   "nbconvert_exporter": "python",
   "pygments_lexer": "ipython3",
   "version": "3.8.5"
  }
 },
 "nbformat": 4,
 "nbformat_minor": 4
}
