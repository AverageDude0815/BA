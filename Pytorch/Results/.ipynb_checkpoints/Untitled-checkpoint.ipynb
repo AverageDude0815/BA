{
 "cells": [
  {
   "cell_type": "markdown",
   "metadata": {},
   "source": [
    "# Run Comparer"
   ]
  },
  {
   "cell_type": "code",
   "execution_count": 1,
   "metadata": {},
   "outputs": [],
   "source": [
    "from content_opener import open_all_contents, open_contents, Results, Settings, Values, Labels\n",
    "from typing import List\n",
    "import matplotlib.pyplot as plt\n",
    "import numpy as np"
   ]
  },
  {
   "cell_type": "markdown",
   "metadata": {},
   "source": [
    "datasets:\n",
    "'CIFAR10',\n",
    "'CIFAR100'\n",
    "\n",
    "nets:\n",
    "'ResNet18'\n",
    "\n",
    "optimizers:\n",
    "'SGD',\n",
    "'Adam',\n",
    "'AdaSecant'\n",
    "\n",
    "cycles:\n",
    "'constantLR',\n",
    "'100-cycle',\n",
    "'50-cycle',\n",
    "'25-cycle'\n",
    "\n",
    "decays:\n",
    "'exponentialDecay=False',\n",
    "'exponentialDecay=True',\n",
    "'exponentialDecay=maxLR',\n",
    "'exponentialDecay=slope'\n",
    "\n",
    "\n",
    "learning rates:\n",
    "'lr=0.001',\n",
    "'lr=0.01',\n",
    "'lr=0.1',\n",
    "'lr=1',\n",
    "'lr=10',\n",
    "'lr=0.01-1',\n",
    "'lr=0.01-10',\n",
    "'lr=0.001-1',\n",
    "'lr=0.001-10'\n",
    "\n",
    "batch-sizes:\n",
    "'batch-size=32',\n",
    "'batch-size=128',\n",
    "'batch-size=512',\n",
    "'batch-size=2048'"
   ]
  },
  {
   "cell_type": "code",
   "execution_count": 2,
   "metadata": {},
   "outputs": [],
   "source": [
    "def compare_runs(settings_list: List[Settings]):\n",
    "    results = open_all_contents(settings_list)\n",
    "    for i in range(len(results)):\n",
    "        plt.plot(results[i].values.val_accuracy, label='')\n",
    "    plt.xlabel('Epochs')\n",
    "    plt.ylabel('Validation Accuracy')\n",
    "    plt.ylim(0, 1)\n",
    "    plt.legend()"
   ]
  },
  {
   "cell_type": "code",
   "execution_count": null,
   "metadata": {},
   "outputs": [],
   "source": []
  }
 ],
 "metadata": {
  "kernelspec": {
   "display_name": "Python 3",
   "language": "python",
   "name": "python3"
  },
  "language_info": {
   "codemirror_mode": {
    "name": "ipython",
    "version": 3
   },
   "file_extension": ".py",
   "mimetype": "text/x-python",
   "name": "python",
   "nbconvert_exporter": "python",
   "pygments_lexer": "ipython3",
   "version": "3.8.5"
  }
 },
 "nbformat": 4,
 "nbformat_minor": 4
}
