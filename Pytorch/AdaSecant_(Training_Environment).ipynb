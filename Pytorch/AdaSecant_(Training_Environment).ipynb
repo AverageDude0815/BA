{
  "nbformat": 4,
  "nbformat_minor": 0,
  "metadata": {
    "accelerator": "GPU",
    "colab": {
      "name": "AdaSecant (Training Environment).ipynb",
      "provenance": []
    },
    "kernelspec": {
      "display_name": "Python 3",
      "language": "python",
      "name": "python3"
    },
    "language_info": {
      "codemirror_mode": {
        "name": "ipython",
        "version": 3
      },
      "file_extension": ".py",
      "mimetype": "text/x-python",
      "name": "python",
      "nbconvert_exporter": "python",
      "pygments_lexer": "ipython3",
      "version": "3.8.5"
    }
  },
  "cells": [
    {
      "cell_type": "markdown",
      "metadata": {
        "id": "6ISeKjfAJm5f"
      },
      "source": [
        "# Training Environment"
      ]
    },
    {
      "cell_type": "code",
      "metadata": {
        "id": "J0yQz-PLJm5h"
      },
      "source": [
        "import matplotlib.pyplot as plt\n",
        "import numpy as np\n",
        "import torch  # Package name: torch (for pip), pytorch (for conda)\n",
        "import torch.nn as nn\n",
        "import torch.nn.functional as F\n",
        "import torch.optim as optim\n",
        "import torch.utils.data as data\n",
        "\n",
        "class BasicDataset(data.Dataset):\n",
        "    def __init__(self, X, y):\n",
        "        self.X = X\n",
        "        self.y = y\n",
        "    \n",
        "    def __getitem__(self, idx):\n",
        "        return dict(X=self.X[idx], y=self.y[idx])\n",
        "    \n",
        "    def __len__(self):\n",
        "        return self.X.shape[0]"
      ],
      "execution_count": 1,
      "outputs": []
    },
    {
      "cell_type": "markdown",
      "metadata": {
        "id": "kcuPLrk3Jm5i"
      },
      "source": [
        "## Prepare Data"
      ]
    },
    {
      "cell_type": "code",
      "metadata": {
        "colab": {
          "base_uri": "https://localhost:8080/"
        },
        "id": "I6I_DKS3Jm5j",
        "outputId": "a2fe5f68-ff00-4111-82d4-7c554eb511ac"
      },
      "source": [
        "import torchvision.datasets as datasets\n",
        "\n",
        "mnist = False\n",
        "cifar10 = True\n",
        "cifar100 = False\n",
        "assert mnist ^ cifar10 ^ cifar100\n",
        "\n",
        "n_classes = 10\n",
        "if mnist:\n",
        "    trainset = datasets.MNIST(root='./data', train=True, download=True, transform=None)\n",
        "    testset = datasets.MNIST(root='./data', train=False, download=True, transform=None)\n",
        "if cifar10:\n",
        "    trainset = datasets.CIFAR10(root='./data', train=True, download=True, transform=None)\n",
        "    testset = datasets.CIFAR10(root='./data', train=False, download=True, transform=None)\n",
        "if cifar100:\n",
        "    n_classes = 100\n",
        "    trainset = datasets.CIFAR100(root='./data', train=True, download=True, transform=None)\n",
        "    testset = datasets.CIFAR100(root='./data', train=False, download=True, transform=None)\n",
        "\n",
        "print(trainset)\n",
        "print(testset)"
      ],
      "execution_count": 2,
      "outputs": [
        {
          "output_type": "stream",
          "text": [
            "Files already downloaded and verified\n",
            "Files already downloaded and verified\n",
            "Dataset CIFAR10\n",
            "    Number of datapoints: 50000\n",
            "    Root location: ./data\n",
            "    Split: Train\n",
            "Dataset CIFAR10\n",
            "    Number of datapoints: 10000\n",
            "    Root location: ./data\n",
            "    Split: Test\n"
          ],
          "name": "stdout"
        }
      ]
    },
    {
      "cell_type": "code",
      "metadata": {
        "colab": {
          "base_uri": "https://localhost:8080/"
        },
        "id": "sflUHHt_Jm5k",
        "outputId": "e65d5bc5-4c66-4458-e0b9-2dab29ed4bff"
      },
      "source": [
        "def to_rgb(x_grey: torch.Tensor) -> torch.Tensor:\n",
        "    if len(x_grey.size()) == 3:\n",
        "        helper = torch.unsqueeze(x_grey, 1)\n",
        "        return helper.repeat(1, 3, 1, 1).float()\n",
        "    elif len(x_grey.size()) == 4 and x_grey.size()[1] == 1:\n",
        "        return x_grey.repeat(1, 3, 1, 1).float()\n",
        "    elif len(x_grey.size()) == 4 and x_grey.size()[1] == 3:\n",
        "        return x_grey\n",
        "    elif len(x_grey.size()) == 4:\n",
        "        raise ValueError(f'The size of this image tensor is not valid.\\\n",
        "        A 4th order image tensor must have dim1==1 (grey-scale) or dim1==3 (rgb).\\\n",
        "        Unknown format cannot be transformed to rgb.')\n",
        "    else:\n",
        "        raise ValueError(f'The size of this image-tensor is not valid.\\\n",
        "        Must be either 3rd (grey-scale) order tensor or 4th order tensor (rgb).\\\n",
        "        Got order {len(x_grey.size())}')\n",
        "        \n",
        "def swap_data(X):\n",
        "    X1 = np.swapaxes(X, 1, 3)\n",
        "    X2 = np.swapaxes(X1, 2, 3)\n",
        "    return X2\n",
        "\n",
        "if mnist:\n",
        "    X_train_grey = trainset.train_data\n",
        "    X_train = to_rgb(X_train_grey)\n",
        "    X_test_grey = testset.test_data\n",
        "    X_test = to_rgb(X_test_grey)\n",
        "    y_train = trainset.train_labels\n",
        "    y_test = testset.test_labels\n",
        "else:\n",
        "    X_train = torch.tensor(swap_data(trainset.data))\n",
        "    y_train = torch.tensor(trainset.targets)\n",
        "    X_test = torch.tensor(swap_data(testset.data))\n",
        "    y_test = torch.tensor(testset.targets)\n",
        "    \n",
        "print('X_train:', X_train.shape)\n",
        "print('y_train:', y_train.shape)\n",
        "print('X_test:', X_test.shape)\n",
        "print('y_test:', y_test.shape)"
      ],
      "execution_count": 3,
      "outputs": [
        {
          "output_type": "stream",
          "text": [
            "X_train: torch.Size([50000, 3, 32, 32])\n",
            "y_train: torch.Size([50000])\n",
            "X_test: torch.Size([10000, 3, 32, 32])\n",
            "y_test: torch.Size([10000])\n"
          ],
          "name": "stdout"
        }
      ]
    },
    {
      "cell_type": "markdown",
      "metadata": {
        "id": "llw9SqliJm5l"
      },
      "source": [
        "## Model load, modifications and GPU optimization"
      ]
    },
    {
      "cell_type": "code",
      "metadata": {
        "colab": {
          "base_uri": "https://localhost:8080/"
        },
        "id": "TG7vqM9SJm5m",
        "outputId": "947988ce-e140-4f13-8682-e5e2f4265573"
      },
      "source": [
        "from torchvision import models\n",
        "\n",
        "model = models.resnet18(pretrained=False) # set model here\n",
        "in_ftr = model.fc.in_features\n",
        "out_ftr = n_classes\n",
        "model.fc = nn.Linear(in_ftr,out_ftr,bias=True)\n",
        "\n",
        "# redefining stuff for AdaSecant test runs\n",
        "#X_train = torch.rand(256, 10)\n",
        "#X_test = torch.rand(256, 10)\n",
        "#y_train = torch.randint(10, (256,))\n",
        "#y_test = torch.randint(10, (256,))\n",
        "#X_train = torch.tensor([[0], [1], [2], [3], [4], [5]])\n",
        "#y_train = torch.tensor([[10], [8], [6], [4], [2], [0]])\n",
        "#X_test = torch.tensor([[1], [3], [5]])\n",
        "#y_test = torch.tensor([[8], [4], [0]])\n",
        "\n",
        "print('X_train:', X_train.shape)\n",
        "print('y_train:', y_train.shape)\n",
        "print('X_test:', X_test.shape)\n",
        "print('y_test:', y_test.shape)\n",
        "\n",
        "#model = torch.nn.Sequential(nn.Linear(10, 10), nn.Linear(10, 10))\n",
        "#model = nn.Linear(1, 1)\n",
        "\n",
        "dataset_train = BasicDataset(X_train, y_train)\n",
        "dataset_test = BasicDataset(X_test, y_test)"
      ],
      "execution_count": 4,
      "outputs": [
        {
          "output_type": "stream",
          "text": [
            "X_train: torch.Size([50000, 3, 32, 32])\n",
            "y_train: torch.Size([50000])\n",
            "X_test: torch.Size([10000, 3, 32, 32])\n",
            "y_test: torch.Size([10000])\n"
          ],
          "name": "stdout"
        }
      ]
    },
    {
      "cell_type": "markdown",
      "metadata": {
        "id": "XHC67elPJm5o"
      },
      "source": [
        "Check specs for GPU-based training."
      ]
    },
    {
      "cell_type": "code",
      "metadata": {
        "colab": {
          "base_uri": "https://localhost:8080/"
        },
        "id": "zubTsO4JJm5o",
        "outputId": "95f32342-f6a4-4bb8-de46-81e0b6d3178b"
      },
      "source": [
        "print('cuda available:', torch.cuda.is_available())\n",
        "print('cuda device name:', torch.cuda.get_device_name())\n",
        "print('cuda device id', torch.cuda.current_device())"
      ],
      "execution_count": 5,
      "outputs": [
        {
          "output_type": "stream",
          "text": [
            "cuda available: True\n",
            "cuda device name: Tesla P100-PCIE-16GB\n",
            "cuda device id 0\n"
          ],
          "name": "stdout"
        }
      ]
    },
    {
      "cell_type": "markdown",
      "metadata": {
        "id": "3fU7OC3LJm5p"
      },
      "source": [
        "Move model and data to GPU."
      ]
    },
    {
      "cell_type": "code",
      "metadata": {
        "colab": {
          "base_uri": "https://localhost:8080/"
        },
        "id": "HthNLrCFJm5p",
        "outputId": "5c94fe40-722d-40e2-e76c-a849fec2ac86"
      },
      "source": [
        "device = torch.device(\"cuda:0\" if torch.cuda.is_available() else \"cpu\")\n",
        "model.to(device)\n",
        "X_train.to(device)\n",
        "print('worked?', X_train.to(device).is_cuda)"
      ],
      "execution_count": 6,
      "outputs": [
        {
          "output_type": "stream",
          "text": [
            "worked? True\n"
          ],
          "name": "stdout"
        }
      ]
    },
    {
      "cell_type": "markdown",
      "metadata": {
        "id": "t47y46R-Jm5q"
      },
      "source": [
        "## Implementing AdaSecant\n",
        "https://github.com/pytorch/pytorch/blob/master/torch/optim/sgd.py\n",
        "\n",
        "<ins>Indices:\n",
        "\n",
        "- $i\\in\\{1, ..., n\\}$: parameter\n",
        "\n",
        "- $k\\in\\{1, ..., m\\}$: sample in minibatch\n",
        "\n",
        "- $j\\in\\{1, ..., n_{iter}\\}$: iteration, $n_{iter} = \\lfloor\\frac{epochs}{m}\\rfloor$ if drop_last else $n_{iter} = \\lceil\\frac{epochs}{m}\\rceil$\n",
        "\n",
        "\n",
        "\n",
        "<ins>Gradients $g, g'$:\n",
        "\n",
        "$g^{(j)} = \\frac{1}{m}\\sum_{k=1}^m\\nabla_{\\theta_i}f(\\theta^{(k)})$ is the current gradient. $g'^{(j)} = \\frac{1}{m}\\sum_{k=m+1}^{2m}\\nabla_{\\theta_i}f(\\theta^{(k)})$ is the gradient calculated on the consecutive minibatch with the current parameters.\n",
        "    \n",
        "Second test run: apply normalization $\\hat{g} = \\frac{g}{||E[g]||_2}$.\n",
        "\n",
        "\n",
        "<ins>Moving averages $E[x]_j$:\n",
        "\n",
        "$$\n",
        "\\begin{aligned}\n",
        "    E[x]_j &= \\left(1 - \\frac{1}{\\tau^{(j)}}\\right)E[x]_{j-1} + \\frac{1}{\\tau^{(j)}}x^{(j)}\n",
        "\\end{aligned}\n",
        "$$\n",
        "\n",
        "\n",
        "<ins>Elements of the Hessian diagnonal $\\alpha_i$:\n",
        "\n",
        "$$\n",
        "\\begin{aligned}\n",
        "    \\alpha_i &= \\nabla_{\\theta_i}f(\\theta + \\Delta) - \\nabla_{\\theta_i}f(\\theta)\n",
        "\\end{aligned}\n",
        "$$\n",
        "\n",
        "\"The Equation 13 can be easily computed in a stochastic setting from the consecutive minibatches\":\n",
        "\n",
        "$$\n",
        "\\begin{aligned}\n",
        "    \\alpha_i^{(j)} &= \\nabla_{\\theta_i}f(\\theta^{(j-1)} + \\Delta^{(j-1)}) - \\nabla_{\\theta_i}f(\\theta^{(j-1)}) \\\\\n",
        "    &= \\nabla_{\\theta_i}f(\\theta^{(j)}) - \\nabla_{\\theta_i}f(\\theta^{(j-1)}) \\\\\n",
        "    &= g^{(j)} - g^{(j-1)}\n",
        "\\end{aligned}\n",
        "$$\n",
        "\n",
        "\n",
        "<ins>Correction term $\\gamma$:\n",
        "\n",
        "$$\n",
        "\\begin{aligned}\n",
        "    \\gamma_i &= \\frac{E[(g_i - g_i')(g_i - E[g_i]_j)]_j}{E[(g_i - E[g_i]_j)(g_i' - E[g_i]_j)]_j}\n",
        "\\end{aligned}\n",
        "$$\n",
        "\n",
        "\n",
        "<ins>Corrected gradient $\\tilde{g}$:\n",
        "\n",
        "$$\n",
        "\\begin{aligned}\n",
        "    \\tilde{g}_i &= \\frac{g_i + \\gamma_i E[g_i]_j}{1+\\gamma_i}\n",
        "\\end{aligned}\n",
        "$$\n",
        "\n",
        "\n",
        "<ins>Estimated learning rate $\\eta^{(j)}$:\n",
        "\n",
        "$$\n",
        "\\begin{aligned}\n",
        "    \\eta_i^{(j)} &= \\frac{\\sqrt{E[\\Delta_i^2]_j}}{\\sqrt{E[\\alpha_i^2]_j}} - \\frac{E[\\alpha_i\\Delta_i]_j}{E[\\alpha_i^2]_j}\n",
        "\\end{aligned}\n",
        "$$\n",
        "\n",
        "\n",
        "<ins>Update memory size:\n",
        "    \n",
        "$$\n",
        "\\begin{aligned}\n",
        "    \\tau_i^{(j+1)} &= (1 - \\frac{E^2[\\Delta_i]_{j}}{E[\\Delta_i^2]_{j}})\\tau_i^{(j)} + 1\n",
        "\\end{aligned}\n",
        "$$\n",
        "\n",
        "\n",
        "<ins>Update parameters:\n",
        "\n",
        "$$\n",
        "\\begin{aligned}\n",
        "    \\theta^{(j+1)} &= \\theta^{(j)} - \\eta^{(j)}\\cdot\\tilde{g}^{(j)}\\\\\n",
        "    &= \\theta^{(j)} + \\Delta^{(j)}\n",
        "\\end{aligned}\n",
        "$$\n",
        "\n",
        "$$\n",
        "\\begin{aligned}\n",
        "    \\Delta^{(j)} &= -\\eta^{(j)}\\cdot\\tilde{g}^{(j)}\n",
        "\\end{aligned}\n",
        "$$"
      ]
    },
    {
      "cell_type": "code",
      "metadata": {
        "id": "bbREbzmiJm5r"
      },
      "source": [
        "from typing import List\n",
        "import copy\n",
        "\n",
        "class AdaSecant(optim.Optimizer):\n",
        "    r\"\"\"Documentation\n",
        "    Basis copied from https://github.com/pytorch/pytorch/blob/master/torch/optim/sgd.py.\n",
        "    Left out closure, momentum-related stuff, __setstate__ as it does not seem to be necessary.\n",
        "    \"\"\"\n",
        "\n",
        "    def __init__(self, params, lr=None):\n",
        "        if lr is not None:\n",
        "            print('Warning: lr is not a parameter for AdaSecant. Your lr will be set to None')\n",
        "            lr = None\n",
        "        defaults = dict(lr=lr)\n",
        "        super().__init__(params, defaults)\n",
        "        self.ready = False\n",
        "        self.current_gradients = None\n",
        "        self.old_gradients = []\n",
        "        self.old_deltas = []\n",
        "        self.taus = []\n",
        "        # stop tau from increasing infinetely\n",
        "        self.upper_bound_tau = 1e7\n",
        "        self.lower_bound_tau = 1.5\n",
        "        for group in self.param_groups:\n",
        "            for p in group['params']:\n",
        "                if p.requires_grad:\n",
        "                    self.taus.append(torch.ones_like(p))\n",
        "                    self.old_gradients.append(None)\n",
        "                    self.old_deltas.append(None)\n",
        "        \n",
        "\n",
        "    @torch.no_grad()\n",
        "    def step(self, epoch):\n",
        "        \"\"\"Performs a single optimization step.\n",
        "        \"\"\"\n",
        "\n",
        "        average_lr = 0\n",
        "        for group in self.param_groups:\n",
        "            params_with_grad = []\n",
        "            gradients = []\n",
        "\n",
        "            for p in group['params']:\n",
        "                # subgrouping of parameters for each layer, bias and weights separately (each tensor)\n",
        "                if p.grad is not None:\n",
        "                    params_with_grad.append(p)\n",
        "                    gradients.append(p.grad)\n",
        "            \n",
        "            #print(group)\n",
        "            #print('enter adasecant')\n",
        "            average_lr += adasecant(self, params_with_grad, gradients, epoch)\n",
        "\n",
        "        return average_lr / len(self.param_groups)\n",
        "            \n",
        "    \n",
        "def adasecant(optimizer: AdaSecant, params: List[torch.Tensor], gradients: List[torch.Tensor], epoch: int):\n",
        "\n",
        "    average_lr = 0\n",
        "\n",
        "    for i, param in enumerate(params):\n",
        "\n",
        "        epsilon = 1e-7\n",
        "        \n",
        "        g = gradients[i]\n",
        "\n",
        "        sgd = -0.01 * g\n",
        "        \n",
        "        if optimizer.old_gradients[i] is None:\n",
        "            # alpha = 0 for first iteration because no second derivative can be made yet\n",
        "            alpha = copy.deepcopy(g)\n",
        "        else:\n",
        "            # normal calculation of alpha\n",
        "            alpha = g - optimizer.old_gradients[i]\n",
        "            #if (alpha == 0).count_nonzero() > 0:\n",
        "            #    print(alpha)\n",
        "        \n",
        "        if optimizer.old_deltas[i] is None:\n",
        "            # delta = -lr * corrected_gradient, lr = 1 as initialization\n",
        "            delta = -copy.deepcopy(g)\n",
        "        else:\n",
        "            delta = optimizer.old_deltas[i]      \n",
        "        \n",
        "        lr_threshold = 1.0\n",
        "        lr = torch.abs(g / alpha)\n",
        "        # version1 - investigate why this does not work as well (lr smaller than version2, but why?):\n",
        "        #lr = torch.where(lr < float(\"inf\"), lr, torch.full_like(lr, 0.0))\n",
        "        #lr = torch.where(lr < lr_threshold, lr, torch.full_like(lr, lr_threshold))\n",
        "        # version2 - worked better:\n",
        "        lr = lr = torch.where(lr < lr_threshold, lr, torch.full_like(lr, 0.0))\n",
        "        average_lr += torch.mean(lr).item()\n",
        "        \n",
        "        optimizer.taus[i] += 1\n",
        "        \n",
        "        if torch.linalg.norm(g) == 0:\n",
        "            new_delta = 0\n",
        "        else:\n",
        "            new_delta = -lr * g / torch.linalg.norm(g)\n",
        "        params[i] += new_delta\n",
        "        \n",
        "        debug = False\n",
        "        if debug:\n",
        "            if i == 1:\n",
        "                #print('tau', optimizer.taus[i][0], '\\n')\n",
        "                print('i', i)\n",
        "                print('g', g[0], '\\n')\n",
        "                if optimizer.old_gradients[i] is not None:\n",
        "                    print('old g', optimizer.old_gradients[i][0], '\\n')\n",
        "                print('alpha', alpha[0], '\\n')\n",
        "                print('lr', lr[0], '\\n')\n",
        "                #print('corrected g', corrected_gradient[0], '\\n')\n",
        "                #print('new delta', new_delta[0], '\\n')\n",
        "                #print('sgd', sgd[0], '\\n')\n",
        "                #print('params', params[i][0], '\\n')        \n",
        "        \n",
        "        #optimizer.old_deltas[i] = copy.deepcopy(new_delta)\n",
        "        optimizer.old_gradients[i] = copy.deepcopy(g)\n",
        "                         \n",
        "    return average_lr / len(params)\n",
        "\n",
        "                \n",
        "def moving_average(mean, new_value, tau):\n",
        "    return (1 - 1 / tau) * mean + (1 / tau) * new_value"
      ],
      "execution_count": 7,
      "outputs": []
    },
    {
      "cell_type": "code",
      "metadata": {
        "id": "wCrkWwr_Jm5u"
      },
      "source": [
        "import itertools\n",
        "from more_itertools import peekable\n",
        "\n",
        "def adasecant_dataloader(dataset, batch_size, shuffle=False, drop_last=False):\n",
        "    data_loader = peekable(iter(data.DataLoader(dataset=dataset, batch_size=batch_size, shuffle=shuffle, drop_last=drop_last)))\n",
        "    return data_loader\n",
        "\n",
        "data_loader = adasecant_dataloader(dataset_test, 60, True, True)\n",
        "for batch in data_loader:\n",
        "    #print('current', batch['y'])\n",
        "    try:\n",
        "        peek = data_loader.peek()\n",
        "        #print('next', peek['y'])\n",
        "    except StopIteration:\n",
        "        pass"
      ],
      "execution_count": 8,
      "outputs": []
    },
    {
      "cell_type": "markdown",
      "metadata": {
        "id": "uRXQegFPJm5x"
      },
      "source": [
        "## Training"
      ]
    },
    {
      "cell_type": "code",
      "metadata": {
        "id": "pc_Ry-U2Jm5x"
      },
      "source": [
        "def evaluate_model(model, dataset, batch_size=1000):\n",
        "    \n",
        "    data_loader = data.DataLoader(dataset=dataset, batch_size=batch_size, shuffle=False, drop_last=False)\n",
        "    loss = 0.0\n",
        "    correct = 0\n",
        "    \n",
        "    for batch in data_loader:\n",
        "        yhat = model.forward(batch['X'].float().to(device))\n",
        "        y = batch['y'].long().to(device)\n",
        "        batch_loss = f_loss(yhat, y)\n",
        "        loss += batch_loss.item() * len(batch['X'])\n",
        "        correct += (torch.argmax(yhat, dim=1) == y).float().sum().item()\n",
        "    accuracy = correct / len(dataset)\n",
        "    \n",
        "    return loss, accuracy\n",
        "\n",
        "def get_scheduler(optimizer, base_lr, max_lr, epochs_per_cycle, len_dataset, batch_size):\n",
        "    if epochs_per_cycle is None:\n",
        "        epochs_per_cycle = epochs\n",
        "    iterations_per_cycle = epochs_per_cycle * (len_dataset // batch_size)\n",
        "    return torch.optim.lr_scheduler.CyclicLR(optimizer, base_lr, max_lr, step_size_up=iterations_per_cycle / 2)"
      ],
      "execution_count": 9,
      "outputs": []
    },
    {
      "cell_type": "code",
      "metadata": {
        "id": "Y1I5SlnVJm5y"
      },
      "source": [
        "def train_model(model, dataset, validation_set, batch_size=64, epochs=1, \n",
        "                f_loss=F.cross_entropy, epochs_per_cycle=None):\n",
        "    \n",
        "    torch.autograd.set_detect_anomaly(True)\n",
        "    \n",
        "    optimizer = AdaSecant(model.parameters())\n",
        "    #optimizer = optim.SGD(model.parameters(), lr=0.01)\n",
        "    lr_history = []\n",
        "    validation_accuracy = []\n",
        "    epoch_losses = []\n",
        "    validation_losses = []\n",
        "    \n",
        "    # evaluate initial state of model\n",
        "    initial_training_loss, _ = evaluate_model(model, dataset)\n",
        "    epoch_losses.append(initial_training_loss)\n",
        "    validation_loss, accuracy = evaluate_model(model, validation_set)\n",
        "    validation_losses.append(validation_loss)\n",
        "    validation_accuracy.append(accuracy)\n",
        "\n",
        "    for epoch in range(epochs):\n",
        "        # training and epoch loss logging\n",
        "        # drop last to avoid stochastic outliers in gradient update\n",
        "        data_loader = data.DataLoader(dataset=dataset, batch_size=batch_size, shuffle=True, drop_last=True)\n",
        "        epoch_loss = 0.0\n",
        "        \n",
        "        for batch in data_loader:\n",
        "            model.zero_grad()\n",
        "            yhat = model.forward(batch['X'].float().to(device))\n",
        "            batch_loss = f_loss(yhat, batch['y'].long().to(device))\n",
        "            epoch_loss += batch_loss.item() * len(batch['X'])\n",
        "            batch_loss.backward()\n",
        "            lr = optimizer.step(epoch)\n",
        "            lr_history.append(lr)\n",
        "            \n",
        "        print(f'Epoch {epoch+1}/{epochs} - Loss: {epoch_loss / len(dataset)} - LR: {lr}')#, '\\n\\n')\n",
        "        epoch_losses.append(epoch_loss)\n",
        "        \n",
        "        # calculate validation loss and accuracy\n",
        "        validation_loss, accuracy = evaluate_model(model, validation_set)\n",
        "        validation_losses.append(validation_loss)\n",
        "        validation_accuracy.append(accuracy)\n",
        "        \n",
        "    return (np.array(epoch_losses) / len(dataset), \n",
        "            np.array(validation_losses) / len(validation_set), \n",
        "            validation_accuracy, \n",
        "            lr_history)"
      ],
      "execution_count": 10,
      "outputs": []
    },
    {
      "cell_type": "code",
      "metadata": {
        "colab": {
          "base_uri": "https://localhost:8080/"
        },
        "id": "JaO1e_X-Jm5y",
        "scrolled": true,
        "outputId": "b9fe2cb3-a620-4b00-9666-112d9daa4124"
      },
      "source": [
        "base_lr = 0.01\n",
        "max_lr = 0.1\n",
        "batch_size = 128\n",
        "epochs = 100\n",
        "0\n",
        "f_loss = F.cross_entropy\n",
        "cycle = epochs\n",
        "\n",
        "training_loss, validation_loss, validation_accuracy, lr_history = train_model(model.to(device),\n",
        "                                                                              dataset_train,\n",
        "                                                                              dataset_test,\n",
        "                                                                              batch_size,\n",
        "                                                                              epochs,\n",
        "                                                                              f_loss,\n",
        "                                                                              cycle)"
      ],
      "execution_count": 11,
      "outputs": [
        {
          "output_type": "stream",
          "text": [
            "/usr/local/lib/python3.7/dist-packages/torch/nn/functional.py:718: UserWarning: Named tensors and all their associated APIs are an experimental feature and subject to change. Please do not use them for anything important until they are released as stable. (Triggered internally at  /pytorch/c10/core/TensorImpl.h:1156.)\n",
            "  return torch.max_pool2d(input, kernel_size, stride, padding, dilation, ceil_mode)\n"
          ],
          "name": "stderr"
        },
        {
          "output_type": "stream",
          "text": [
            "Epoch 1/100 - Loss: 1.9857166915893554 - LR: 0.30601423164649355\n",
            "Epoch 2/100 - Loss: 1.4839705374145509 - LR: 0.2552027570143823\n",
            "Epoch 3/100 - Loss: 1.3228962544250489 - LR: 0.25416036686229126\n",
            "Epoch 4/100 - Loss: 1.2222564649963379 - LR: 0.2390051351920251\n",
            "Epoch 5/100 - Loss: 1.1363351025390624 - LR: 0.2396803094344514\n",
            "Epoch 6/100 - Loss: 1.0801487895202637 - LR: 0.22367013653650158\n",
            "Epoch 7/100 - Loss: 1.033824793395996 - LR: 0.2335653575062151\n",
            "Epoch 8/100 - Loss: 0.9822657061767578 - LR: 0.23586831182511825\n",
            "Epoch 9/100 - Loss: 0.9559082788085937 - LR: 0.22381533460030634\n",
            "Epoch 10/100 - Loss: 0.9316204275512695 - LR: 0.22630264141386555\n",
            "Epoch 11/100 - Loss: 0.9031788497924804 - LR: 0.22863419209757158\n",
            "Epoch 12/100 - Loss: 0.8696106855773926 - LR: 0.2218392939051433\n",
            "Epoch 13/100 - Loss: 0.8410012086486817 - LR: 0.2042094906378958\n",
            "Epoch 14/100 - Loss: 0.815522413482666 - LR: 0.21253357705239567\n",
            "Epoch 15/100 - Loss: 0.798173611907959 - LR: 0.21503995152025093\n",
            "Epoch 16/100 - Loss: 0.7780818552398682 - LR: 0.20589576081012287\n",
            "Epoch 17/100 - Loss: 0.7634800161743164 - LR: 0.18065353258768277\n",
            "Epoch 18/100 - Loss: 0.7442957533264161 - LR: 0.22050696087159938\n",
            "Epoch 19/100 - Loss: 0.7299645703125 - LR: 0.19487429782748222\n",
            "Epoch 20/100 - Loss: 0.6938967596435547 - LR: 0.218179011991578\n",
            "Epoch 21/100 - Loss: 0.6807907427215576 - LR: 0.22966610640662932\n",
            "Epoch 22/100 - Loss: 0.6745606315612793 - LR: 0.19767429105441778\n",
            "Epoch 23/100 - Loss: 0.6636252027893066 - LR: 0.19085875891840026\n",
            "Epoch 24/100 - Loss: 0.6475878395080567 - LR: 0.19767771273355692\n",
            "Epoch 25/100 - Loss: 0.6355359253692627 - LR: 0.20422647545684972\n",
            "Epoch 26/100 - Loss: 0.6180662266540528 - LR: 0.20631491269112653\n",
            "Epoch 27/100 - Loss: 0.6137979808044434 - LR: 0.21500248843315808\n",
            "Epoch 28/100 - Loss: 0.5885884280395508 - LR: 0.20267440048384391\n",
            "Epoch 29/100 - Loss: 0.5736962966156006 - LR: 0.19486354137845938\n",
            "Epoch 30/100 - Loss: 0.5706633804321289 - LR: 0.20030135230814677\n",
            "Epoch 31/100 - Loss: 0.5456137871551514 - LR: 0.2098972281786583\n",
            "Epoch 32/100 - Loss: 0.5423500574493408 - LR: 0.22251772441180243\n",
            "Epoch 33/100 - Loss: 0.5221243618011474 - LR: 0.21523949517793353\n",
            "Epoch 34/100 - Loss: 0.4997059735870361 - LR: 0.18514924992867296\n",
            "Epoch 35/100 - Loss: 0.484915376701355 - LR: 0.19440014514463744\n",
            "Epoch 36/100 - Loss: 0.4639018144989014 - LR: 0.19001730657914923\n",
            "Epoch 37/100 - Loss: 0.44319835861206053 - LR: 0.20472458772166002\n",
            "Epoch 38/100 - Loss: 0.4487685291290283 - LR: 0.20914889905121056\n",
            "Epoch 39/100 - Loss: 0.42808511157989504 - LR: 0.20014914910256443\n",
            "Epoch 40/100 - Loss: 0.4213779032516479 - LR: 0.19962456147186458\n",
            "Epoch 41/100 - Loss: 0.3989595336341858 - LR: 0.19754019217009866\n",
            "Epoch 42/100 - Loss: 0.3850227709579468 - LR: 0.17584589047492633\n",
            "Epoch 43/100 - Loss: 0.374466992225647 - LR: 0.19656750275809767\n",
            "Epoch 44/100 - Loss: 0.36315807094573976 - LR: 0.18528182037745514\n",
            "Epoch 45/100 - Loss: 0.3588162268829346 - LR: 0.20765311860163965\n",
            "Epoch 46/100 - Loss: 0.3438330859375 - LR: 0.20305706361015777\n",
            "Epoch 47/100 - Loss: 0.37014320976257326 - LR: 0.20566702514113258\n",
            "Epoch 48/100 - Loss: 0.34853538921356203 - LR: 0.18920196333126496\n",
            "Epoch 49/100 - Loss: 0.32992584966659544 - LR: 0.20741997720042785\n",
            "Epoch 50/100 - Loss: 0.32699122539520264 - LR: 0.18468163226310524\n",
            "Epoch 51/100 - Loss: 0.3141532639694214 - LR: 0.21986088365966064\n",
            "Epoch 52/100 - Loss: 0.3120249895858765 - LR: 0.19305587689872952\n",
            "Epoch 53/100 - Loss: 0.30788522207260133 - LR: 0.19608599776420893\n",
            "Epoch 54/100 - Loss: 0.29823245361328127 - LR: 0.17202798355720006\n",
            "Epoch 55/100 - Loss: 0.2985269036483765 - LR: 0.19805818989557483\n",
            "Epoch 56/100 - Loss: 0.2772364701652527 - LR: 0.20567604689013905\n",
            "Epoch 57/100 - Loss: 0.26476459691047666 - LR: 0.19658638877351017\n",
            "Epoch 58/100 - Loss: 0.2604344368362427 - LR: 0.1980079291003471\n",
            "Epoch 59/100 - Loss: 0.2502531568813324 - LR: 0.18742615914614422\n",
            "Epoch 60/100 - Loss: 0.2565054392242432 - LR: 0.2064462864481386\n",
            "Epoch 61/100 - Loss: 0.25901531116485593 - LR: 0.19723450247904345\n",
            "Epoch 62/100 - Loss: 0.23542318714141847 - LR: 0.18591860026936047\n",
            "Epoch 63/100 - Loss: 0.2265464281845093 - LR: 0.1910897630178595\n",
            "Epoch 64/100 - Loss: 0.23303145469665526 - LR: 0.1729043035771728\n",
            "Epoch 65/100 - Loss: 0.22973762600898742 - LR: 0.17698427501619013\n",
            "Epoch 66/100 - Loss: 0.2263936958503723 - LR: 0.21122862441622983\n",
            "Epoch 67/100 - Loss: 0.2182276770401001 - LR: 0.1927708001260931\n",
            "Epoch 68/100 - Loss: 0.22104455653190613 - LR: 0.18007422921307867\n",
            "Epoch 69/100 - Loss: 0.22508195506095885 - LR: 0.19251293280995602\n",
            "Epoch 70/100 - Loss: 0.2093598801422119 - LR: 0.2033868652492416\n",
            "Epoch 71/100 - Loss: 0.209016918592453 - LR: 0.1964568009894837\n",
            "Epoch 72/100 - Loss: 0.20351825637340545 - LR: 0.14940250030485913\n",
            "Epoch 73/100 - Loss: 0.21517053162574767 - LR: 0.18738711745320488\n",
            "Epoch 74/100 - Loss: 0.20313705132007598 - LR: 0.20232305950072083\n",
            "Epoch 75/100 - Loss: 0.18483612576484681 - LR: 0.1814177320151019\n",
            "Epoch 76/100 - Loss: 0.18595070400238037 - LR: 0.19305508594580686\n",
            "Epoch 77/100 - Loss: 0.1858927943611145 - LR: 0.20930132015153854\n",
            "Epoch 78/100 - Loss: 0.18349649370193483 - LR: 0.19116459414926207\n",
            "Epoch 79/100 - Loss: 0.18468368470191956 - LR: 0.15275024776835175\n",
            "Epoch 80/100 - Loss: 0.17822481093883513 - LR: 0.23300049253908406\n",
            "Epoch 81/100 - Loss: 0.1776453649044037 - LR: 0.23138600198229053\n",
            "Epoch 82/100 - Loss: 0.16695184715270997 - LR: 0.19922107863408933\n",
            "Epoch 83/100 - Loss: 0.17814816881656648 - LR: 0.1852331192611957\n",
            "Epoch 84/100 - Loss: 0.18454528933525086 - LR: 0.17258838597298298\n",
            "Epoch 85/100 - Loss: 0.1950441925764084 - LR: 0.193010260892709\n",
            "Epoch 86/100 - Loss: 0.1669793351650238 - LR: 0.17554863826503167\n",
            "Epoch 87/100 - Loss: 0.17031640769958495 - LR: 0.18521344019926242\n",
            "Epoch 88/100 - Loss: 0.1646287832403183 - LR: 0.21735450284998684\n",
            "Epoch 89/100 - Loss: 0.16532844368934632 - LR: 0.16800499557716503\n",
            "Epoch 90/100 - Loss: 0.16572241815567015 - LR: 0.15887774927203632\n",
            "Epoch 91/100 - Loss: 0.15866789534568787 - LR: 0.16556909004218817\n",
            "Epoch 92/100 - Loss: 0.15726696706295012 - LR: 0.18236086436551094\n",
            "Epoch 93/100 - Loss: 0.16661558738708496 - LR: 0.1699540992614798\n",
            "Epoch 94/100 - Loss: 0.1618604580926895 - LR: 0.20057609758523834\n",
            "Epoch 95/100 - Loss: 0.16172872209072114 - LR: 0.18758366819595046\n",
            "Epoch 96/100 - Loss: 0.15110491245746613 - LR: 0.18734768758839626\n",
            "Epoch 97/100 - Loss: 0.15277079444885253 - LR: 0.1673422886824776\n",
            "Epoch 98/100 - Loss: 0.16192691091299058 - LR: 0.256458303859202\n",
            "Epoch 99/100 - Loss: 0.14353338643074035 - LR: 0.19174860740707617\n",
            "Epoch 100/100 - Loss: 0.1443233139169216 - LR: 0.19330640582765843\n"
          ],
          "name": "stdout"
        }
      ]
    },
    {
      "cell_type": "code",
      "metadata": {
        "colab": {
          "base_uri": "https://localhost:8080/",
          "height": 297
        },
        "id": "3GwWYm1GJm5z",
        "outputId": "ec2dda09-0374-4c9a-c4a8-a147379ac373"
      },
      "source": [
        "plt.plot(training_loss, label='training loss')\n",
        "plt.plot(validation_loss, label='validation loss')\n",
        "plt.xlabel('Epochs')\n",
        "plt.ylabel('Mean Cross Entropy Loss')\n",
        "#plt.ylim(0.0, 10)\n",
        "plt.legend()"
      ],
      "execution_count": 12,
      "outputs": [
        {
          "output_type": "execute_result",
          "data": {
            "text/plain": [
              "<matplotlib.legend.Legend at 0x7f141cab2590>"
            ]
          },
          "metadata": {
            "tags": []
          },
          "execution_count": 12
        },
        {
          "output_type": "display_data",
          "data": {
            "image/png": "[encoded data removed]",
            "text/plain": [
              "<Figure size 432x288 with 1 Axes>"
            ]
          },
          "metadata": {
            "tags": [],
            "needs_background": "light"
          }
        }
      ]
    },
    {
      "cell_type": "code",
      "metadata": {
        "colab": {
          "base_uri": "https://localhost:8080/",
          "height": 285
        },
        "id": "aF-QQ7gcJm5z",
        "outputId": "87db9df1-4c91-4541-e22a-f5312d3745a2"
      },
      "source": [
        "plt.plot(lr_history)\n",
        "#plt.ylim(0, 0)"
      ],
      "execution_count": 16,
      "outputs": [
        {
          "output_type": "execute_result",
          "data": {
            "text/plain": [
              "[<matplotlib.lines.Line2D at 0x7f141cb02410>]"
            ]
          },
          "metadata": {
            "tags": []
          },
          "execution_count": 16
        },
        {
          "output_type": "display_data",
          "data": {
            "image/png": "[encoded data removed]",
            "text/plain": [
              "<Figure size 432x288 with 1 Axes>"
            ]
          },
          "metadata": {
            "tags": [],
            "needs_background": "light"
          }
        }
      ]
    },
    {
      "cell_type": "code",
      "metadata": {
        "colab": {
          "base_uri": "https://localhost:8080/",
          "height": 283
        },
        "id": "tZ_yPh9mJm5z",
        "outputId": "80472203-72d1-46ae-cee0-8f13a51fa23b"
      },
      "source": [
        "plt.plot(validation_accuracy)\n",
        "print(max(validation_accuracy))"
      ],
      "execution_count": 14,
      "outputs": [
        {
          "output_type": "stream",
          "text": [
            "0.737\n"
          ],
          "name": "stdout"
        },
        {
          "output_type": "display_data",
          "data": {
            "image/png": "[encoded data removed]",
            "text/plain": [
              "<Figure size 432x288 with 1 Axes>"
            ]
          },
          "metadata": {
            "tags": [],
            "needs_background": "light"
          }
        }
      ]
    },
    {
      "cell_type": "code",
      "metadata": {
        "colab": {
          "base_uri": "https://localhost:8080/",
          "height": 17
        },
        "id": "KPeq8KD9Jm5z",
        "outputId": "0e7078b1-8958-4e92-a120-3bc9a5292912"
      },
      "source": [
        "import csv\n",
        "from google.colab import files\n",
        "\n",
        "with open('train_loss', 'w') as f:\n",
        "    write = csv.writer(f)\n",
        "    write.writerow(training_loss)\n",
        "\n",
        "with open('val_loss', 'w') as f: \n",
        "    write = csv.writer(f)  \n",
        "    write.writerow(validation_loss)\n",
        "\n",
        "with open('val_accuracy', 'w') as f: \n",
        "    write = csv.writer(f)  \n",
        "    write.writerow(validation_accuracy)\n",
        "    \n",
        "with open('lr_history', 'w') as f: \n",
        "    write = csv.writer(f)  \n",
        "    write.writerow(lr_history)\n",
        "\n",
        "files.download('train_loss')\n",
        "files.download('val_loss')\n",
        "files.download('val_accuracy')\n",
        "files.download('lr_history')"
      ],
      "execution_count": 15,
      "outputs": [
        {
          "output_type": "display_data",
          "data": {
            "application/javascript": [
              "\n",
              "    async function download(id, filename, size) {\n",
              "      if (!google.colab.kernel.accessAllowed) {\n",
              "        return;\n",
              "      }\n",
              "      const div = document.createElement('div');\n",
              "      const label = document.createElement('label');\n",
              "      label.textContent = `Downloading \"${filename}\": `;\n",
              "      div.appendChild(label);\n",
              "      const progress = document.createElement('progress');\n",
              "      progress.max = size;\n",
              "      div.appendChild(progress);\n",
              "      document.body.appendChild(div);\n",
              "\n",
              "      const buffers = [];\n",
              "      let downloaded = 0;\n",
              "\n",
              "      const channel = await google.colab.kernel.comms.open(id);\n",
              "      // Send a message to notify the kernel that we're ready.\n",
              "      channel.send({})\n",
              "\n",
              "      for await (const message of channel.messages) {\n",
              "        // Send a message to notify the kernel that we're ready.\n",
              "        channel.send({})\n",
              "        if (message.buffers) {\n",
              "          for (const buffer of message.buffers) {\n",
              "            buffers.push(buffer);\n",
              "            downloaded += buffer.byteLength;\n",
              "            progress.value = downloaded;\n",
              "          }\n",
              "        }\n",
              "      }\n",
              "      const blob = new Blob(buffers, {type: 'application/binary'});\n",
              "      const a = document.createElement('a');\n",
              "      a.href = window.URL.createObjectURL(blob);\n",
              "      a.download = filename;\n",
              "      div.appendChild(a);\n",
              "      a.click();\n",
              "      div.remove();\n",
              "    }\n",
              "  "
            ],
            "text/plain": [
              "<IPython.core.display.Javascript object>"
            ]
          },
          "metadata": {
            "tags": []
          }
        },
        {
          "output_type": "display_data",
          "data": {
            "application/javascript": [
              "download(\"download_de740aa4-bb6a-4bc2-b69b-8c0f26b6f751\", \"train_loss\", 1945)"
            ],
            "text/plain": [
              "<IPython.core.display.Javascript object>"
            ]
          },
          "metadata": {
            "tags": []
          }
        },
        {
          "output_type": "display_data",
          "data": {
            "application/javascript": [
              "\n",
              "    async function download(id, filename, size) {\n",
              "      if (!google.colab.kernel.accessAllowed) {\n",
              "        return;\n",
              "      }\n",
              "      const div = document.createElement('div');\n",
              "      const label = document.createElement('label');\n",
              "      label.textContent = `Downloading \"${filename}\": `;\n",
              "      div.appendChild(label);\n",
              "      const progress = document.createElement('progress');\n",
              "      progress.max = size;\n",
              "      div.appendChild(progress);\n",
              "      document.body.appendChild(div);\n",
              "\n",
              "      const buffers = [];\n",
              "      let downloaded = 0;\n",
              "\n",
              "      const channel = await google.colab.kernel.comms.open(id);\n",
              "      // Send a message to notify the kernel that we're ready.\n",
              "      channel.send({})\n",
              "\n",
              "      for await (const message of channel.messages) {\n",
              "        // Send a message to notify the kernel that we're ready.\n",
              "        channel.send({})\n",
              "        if (message.buffers) {\n",
              "          for (const buffer of message.buffers) {\n",
              "            buffers.push(buffer);\n",
              "            downloaded += buffer.byteLength;\n",
              "            progress.value = downloaded;\n",
              "          }\n",
              "        }\n",
              "      }\n",
              "      const blob = new Blob(buffers, {type: 'application/binary'});\n",
              "      const a = document.createElement('a');\n",
              "      a.href = window.URL.createObjectURL(blob);\n",
              "      a.download = filename;\n",
              "      div.appendChild(a);\n",
              "      a.click();\n",
              "      div.remove();\n",
              "    }\n",
              "  "
            ],
            "text/plain": [
              "<IPython.core.display.Javascript object>"
            ]
          },
          "metadata": {
            "tags": []
          }
        },
        {
          "output_type": "display_data",
          "data": {
            "application/javascript": [
              "download(\"download_3577a8bd-b451-4525-990c-436512506b46\", \"val_loss\", 1890)"
            ],
            "text/plain": [
              "<IPython.core.display.Javascript object>"
            ]
          },
          "metadata": {
            "tags": []
          }
        },
        {
          "output_type": "display_data",
          "data": {
            "application/javascript": [
              "\n",
              "    async function download(id, filename, size) {\n",
              "      if (!google.colab.kernel.accessAllowed) {\n",
              "        return;\n",
              "      }\n",
              "      const div = document.createElement('div');\n",
              "      const label = document.createElement('label');\n",
              "      label.textContent = `Downloading \"${filename}\": `;\n",
              "      div.appendChild(label);\n",
              "      const progress = document.createElement('progress');\n",
              "      progress.max = size;\n",
              "      div.appendChild(progress);\n",
              "      document.body.appendChild(div);\n",
              "\n",
              "      const buffers = [];\n",
              "      let downloaded = 0;\n",
              "\n",
              "      const channel = await google.colab.kernel.comms.open(id);\n",
              "      // Send a message to notify the kernel that we're ready.\n",
              "      channel.send({})\n",
              "\n",
              "      for await (const message of channel.messages) {\n",
              "        // Send a message to notify the kernel that we're ready.\n",
              "        channel.send({})\n",
              "        if (message.buffers) {\n",
              "          for (const buffer of message.buffers) {\n",
              "            buffers.push(buffer);\n",
              "            downloaded += buffer.byteLength;\n",
              "            progress.value = downloaded;\n",
              "          }\n",
              "        }\n",
              "      }\n",
              "      const blob = new Blob(buffers, {type: 'application/binary'});\n",
              "      const a = document.createElement('a');\n",
              "      a.href = window.URL.createObjectURL(blob);\n",
              "      a.download = filename;\n",
              "      div.appendChild(a);\n",
              "      a.click();\n",
              "      div.remove();\n",
              "    }\n",
              "  "
            ],
            "text/plain": [
              "<IPython.core.display.Javascript object>"
            ]
          },
          "metadata": {
            "tags": []
          }
        },
        {
          "output_type": "display_data",
          "data": {
            "application/javascript": [
              "download(\"download_526fbdc3-bac1-433c-bf7a-130f5c7701b5\", \"val_accuracy\", 694)"
            ],
            "text/plain": [
              "<IPython.core.display.Javascript object>"
            ]
          },
          "metadata": {
            "tags": []
          }
        },
        {
          "output_type": "display_data",
          "data": {
            "application/javascript": [
              "\n",
              "    async function download(id, filename, size) {\n",
              "      if (!google.colab.kernel.accessAllowed) {\n",
              "        return;\n",
              "      }\n",
              "      const div = document.createElement('div');\n",
              "      const label = document.createElement('label');\n",
              "      label.textContent = `Downloading \"${filename}\": `;\n",
              "      div.appendChild(label);\n",
              "      const progress = document.createElement('progress');\n",
              "      progress.max = size;\n",
              "      div.appendChild(progress);\n",
              "      document.body.appendChild(div);\n",
              "\n",
              "      const buffers = [];\n",
              "      let downloaded = 0;\n",
              "\n",
              "      const channel = await google.colab.kernel.comms.open(id);\n",
              "      // Send a message to notify the kernel that we're ready.\n",
              "      channel.send({})\n",
              "\n",
              "      for await (const message of channel.messages) {\n",
              "        // Send a message to notify the kernel that we're ready.\n",
              "        channel.send({})\n",
              "        if (message.buffers) {\n",
              "          for (const buffer of message.buffers) {\n",
              "            buffers.push(buffer);\n",
              "            downloaded += buffer.byteLength;\n",
              "            progress.value = downloaded;\n",
              "          }\n",
              "        }\n",
              "      }\n",
              "      const blob = new Blob(buffers, {type: 'application/binary'});\n",
              "      const a = document.createElement('a');\n",
              "      a.href = window.URL.createObjectURL(blob);\n",
              "      a.download = filename;\n",
              "      div.appendChild(a);\n",
              "      a.click();\n",
              "      div.remove();\n",
              "    }\n",
              "  "
            ],
            "text/plain": [
              "<IPython.core.display.Javascript object>"
            ]
          },
          "metadata": {
            "tags": []
          }
        },
        {
          "output_type": "display_data",
          "data": {
            "application/javascript": [
              "download(\"download_4a6eaa4c-e46e-4c85-bf7e-a54d0789a382\", \"lr_history\", 767681)"
            ],
            "text/plain": [
              "<IPython.core.display.Javascript object>"
            ]
          },
          "metadata": {
            "tags": []
          }
        }
      ]
    },
    {
      "cell_type": "code",
      "metadata": {
        "id": "d2vBV_yreJB6"
      },
      "source": [
        ""
      ],
      "execution_count": 15,
      "outputs": []
    },
    {
      "cell_type": "code",
      "metadata": {
        "id": "V-2xI_HDeJB6"
      },
      "source": [
        ""
      ],
      "execution_count": 15,
      "outputs": []
    }
  ]
}