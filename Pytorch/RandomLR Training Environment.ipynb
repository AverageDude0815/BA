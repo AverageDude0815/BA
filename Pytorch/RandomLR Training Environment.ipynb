{
  "nbformat": 4,
  "nbformat_minor": 0,
  "metadata": {
    "kernelspec": {
      "display_name": "Python 3",
      "language": "python",
      "name": "python3"
    },
    "language_info": {
      "codemirror_mode": {
        "name": "ipython",
        "version": 3
      },
      "file_extension": ".py",
      "mimetype": "text/x-python",
      "name": "python",
      "nbconvert_exporter": "python",
      "pygments_lexer": "ipython3",
      "version": "3.8.5"
    },
    "colab": {
      "name": "Training Environment.ipynb",
      "provenance": []
    },
    "accelerator": "GPU"
  },
  "cells": [
    {
      "cell_type": "markdown",
      "metadata": {
        "id": "PCm6C0T5oBeF"
      },
      "source": [
        "# Training Environment"
      ]
    },
    {
      "cell_type": "code",
      "metadata": {
        "id": "C9bSWJRNoBeH"
      },
      "source": [
        "import matplotlib.pyplot as plt\n",
        "import numpy as np\n",
        "import torch  # Package name: torch (for pip), pytorch (for conda)\n",
        "import torch.nn as nn\n",
        "import torch.nn.functional as F\n",
        "import torch.optim as optim\n",
        "import torch.utils.data as data\n",
        "\n",
        "class BasicDataset(data.Dataset):\n",
        "    def __init__(self, X, y):\n",
        "        self.X = X\n",
        "        self.y = y\n",
        "    \n",
        "    def __getitem__(self, idx):\n",
        "        return dict(X=self.X[idx], y=self.y[idx])\n",
        "    \n",
        "    def __len__(self):\n",
        "        return self.X.shape[0]"
      ],
      "execution_count": 1,
      "outputs": []
    },
    {
      "cell_type": "markdown",
      "metadata": {
        "id": "ytTVQw8doBeJ"
      },
      "source": [
        "## Prepare Data"
      ]
    },
    {
      "cell_type": "code",
      "metadata": {
        "id": "gNMXEUXnoBeJ",
        "outputId": "6596975a-59fc-412c-edfe-1371a9f50338",
        "colab": {
          "base_uri": "https://localhost:8080/"
        }
      },
      "source": [
        "import torchvision.datasets as datasets\n",
        "\n",
        "mnist = False\n",
        "cifar10 = True\n",
        "cifar100 = False\n",
        "assert mnist ^ cifar10 ^ cifar100\n",
        "\n",
        "n_classes = 10\n",
        "if mnist:\n",
        "    trainset = datasets.MNIST(root='./data', train=True, download=True, transform=None)\n",
        "    testset = datasets.MNIST(root='./data', train=False, download=True, transform=None)\n",
        "if cifar10:\n",
        "    trainset = datasets.CIFAR10(root='./data', train=True, download=True, transform=None)\n",
        "    testset = datasets.CIFAR10(root='./data', train=False, download=True, transform=None)\n",
        "if cifar100:\n",
        "    n_classes = 100\n",
        "    trainset = datasets.CIFAR100(root='./data', train=True, download=True, transform=None)\n",
        "    testset = datasets.CIFAR100(root='./data', train=False, download=True, transform=None)\n",
        "\n",
        "print(trainset)\n",
        "print(testset)"
      ],
      "execution_count": 2,
      "outputs": [
        {
          "output_type": "stream",
          "name": "stdout",
          "text": [
            "Files already downloaded and verified\n",
            "Files already downloaded and verified\n",
            "Dataset CIFAR10\n",
            "    Number of datapoints: 50000\n",
            "    Root location: ./data\n",
            "    Split: Train\n",
            "Dataset CIFAR10\n",
            "    Number of datapoints: 10000\n",
            "    Root location: ./data\n",
            "    Split: Test\n"
          ]
        }
      ]
    },
    {
      "cell_type": "code",
      "metadata": {
        "id": "XeDYvzrAoBeK",
        "outputId": "076aeb7e-cde9-4844-a05a-15ca855d0852",
        "colab": {
          "base_uri": "https://localhost:8080/"
        }
      },
      "source": [
        "def to_rgb(x_grey: torch.Tensor) -> torch.Tensor:\n",
        "    if len(x_grey.size()) == 3:\n",
        "        helper = torch.unsqueeze(x_grey, 1)\n",
        "        return helper.repeat(1, 3, 1, 1).float()\n",
        "    elif len(x_grey.size()) == 4 and x_grey.size()[1] == 1:\n",
        "        return x_grey.repeat(1, 3, 1, 1).float()\n",
        "    elif len(x_grey.size()) == 4 and x_grey.size()[1] == 3:\n",
        "        return x_grey\n",
        "    elif len(x_grey.size()) == 4:\n",
        "        raise ValueError(f'The size of this image tensor is not valid.\\\n",
        "        A 4th order image tensor must have dim1==1 (grey-scale) or dim1==3 (rgb).\\\n",
        "        Unknown format cannot be transformed to rgb.')\n",
        "    else:\n",
        "        raise ValueError(f'The size of this image-tensor is not valid.\\\n",
        "        Must be either 3rd (grey-scale) order tensor or 4th order tensor (rgb).\\\n",
        "        Got order {len(x_grey.size())}')\n",
        "        \n",
        "def swap_data(X):\n",
        "    X1 = np.swapaxes(X, 1, 3)\n",
        "    X2 = np.swapaxes(X1, 2, 3)\n",
        "    return X2\n",
        "\n",
        "if mnist:\n",
        "    X_train_grey = trainset.train_data\n",
        "    X_train = to_rgb(X_train_grey)\n",
        "    X_test_grey = testset.test_data\n",
        "    X_test = to_rgb(X_test_grey)\n",
        "    y_train = trainset.train_labels\n",
        "    y_test = testset.test_labels\n",
        "else:\n",
        "    X_train = torch.tensor(swap_data(trainset.data))\n",
        "    y_train = torch.tensor(trainset.targets)\n",
        "    X_test = torch.tensor(swap_data(testset.data))\n",
        "    y_test = torch.tensor(testset.targets)\n",
        "    \n",
        "print('X_train:', X_train.shape)\n",
        "print('y_train:', y_train.shape)\n",
        "print('X_test:', X_test.shape)\n",
        "print('y_test:', y_test.shape)"
      ],
      "execution_count": 3,
      "outputs": [
        {
          "output_type": "stream",
          "name": "stdout",
          "text": [
            "X_train: torch.Size([50000, 3, 32, 32])\n",
            "y_train: torch.Size([50000])\n",
            "X_test: torch.Size([10000, 3, 32, 32])\n",
            "y_test: torch.Size([10000])\n"
          ]
        }
      ]
    },
    {
      "cell_type": "markdown",
      "metadata": {
        "id": "74JlKMyvoBeL"
      },
      "source": [
        "## Model load, modifications and GPU optimization"
      ]
    },
    {
      "cell_type": "code",
      "metadata": {
        "id": "D3uRvv3foBeL"
      },
      "source": [
        "# https://github.com/kuangliu/pytorch-cifar/blob/49b7aa97b0c12fe0d4054e670403a16b6b834ddd/models/resnet.py\n",
        "\n",
        "'''ResNet in PyTorch.\n",
        "\n",
        "For Pre-activation ResNet, see 'preact_resnet.py'.\n",
        "\n",
        "Reference:\n",
        "[1] Kaiming He, Xiangyu Zhang, Shaoqing Ren, Jian Sun\n",
        "    Deep Residual Learning for Image Recognition. arXiv:1512.03385\n",
        "'''\n",
        "import torch\n",
        "import torch.nn as nn\n",
        "import torch.nn.functional as F\n",
        "\n",
        "\n",
        "class BasicBlock(nn.Module):\n",
        "    expansion = 1\n",
        "\n",
        "    def __init__(self, in_planes, planes, stride=1):\n",
        "        super(BasicBlock, self).__init__()\n",
        "        self.conv1 = nn.Conv2d(\n",
        "            in_planes, planes, kernel_size=3, stride=stride, padding=1, bias=False)\n",
        "        self.bn1 = nn.BatchNorm2d(planes)\n",
        "        self.conv2 = nn.Conv2d(planes, planes, kernel_size=3,\n",
        "                               stride=1, padding=1, bias=False)\n",
        "        self.bn2 = nn.BatchNorm2d(planes)\n",
        "\n",
        "        self.shortcut = nn.Sequential()\n",
        "        if stride != 1 or in_planes != self.expansion*planes:\n",
        "            self.shortcut = nn.Sequential(\n",
        "                nn.Conv2d(in_planes, self.expansion*planes,\n",
        "                          kernel_size=1, stride=stride, bias=False),\n",
        "                nn.BatchNorm2d(self.expansion*planes)\n",
        "            )\n",
        "\n",
        "    def forward(self, x):\n",
        "        out = F.relu(self.bn1(self.conv1(x)))\n",
        "        out = self.bn2(self.conv2(out))\n",
        "        out += self.shortcut(x)\n",
        "        out = F.relu(out)\n",
        "        return out\n",
        "\n",
        "\n",
        "class Bottleneck(nn.Module):\n",
        "    expansion = 4\n",
        "\n",
        "    def __init__(self, in_planes, planes, stride=1):\n",
        "        super(Bottleneck, self).__init__()\n",
        "        self.conv1 = nn.Conv2d(in_planes, planes, kernel_size=1, bias=False)\n",
        "        self.bn1 = nn.BatchNorm2d(planes)\n",
        "        self.conv2 = nn.Conv2d(planes, planes, kernel_size=3,\n",
        "                               stride=stride, padding=1, bias=False)\n",
        "        self.bn2 = nn.BatchNorm2d(planes)\n",
        "        self.conv3 = nn.Conv2d(planes, self.expansion *\n",
        "                               planes, kernel_size=1, bias=False)\n",
        "        self.bn3 = nn.BatchNorm2d(self.expansion*planes)\n",
        "\n",
        "        self.shortcut = nn.Sequential()\n",
        "        if stride != 1 or in_planes != self.expansion*planes:\n",
        "            self.shortcut = nn.Sequential(\n",
        "                nn.Conv2d(in_planes, self.expansion*planes,\n",
        "                          kernel_size=1, stride=stride, bias=False),\n",
        "                nn.BatchNorm2d(self.expansion*planes)\n",
        "            )\n",
        "\n",
        "    def forward(self, x):\n",
        "        out = F.relu(self.bn1(self.conv1(x)))\n",
        "        out = F.relu(self.bn2(self.conv2(out)))\n",
        "        out = self.bn3(self.conv3(out))\n",
        "        out += self.shortcut(x)\n",
        "        out = F.relu(out)\n",
        "        return out\n",
        "\n",
        "\n",
        "class ResNet(nn.Module):\n",
        "    def __init__(self, block, num_blocks, num_classes=10):\n",
        "        super(ResNet, self).__init__()\n",
        "        self.in_planes = 64\n",
        "\n",
        "        self.conv1 = nn.Conv2d(3, 64, kernel_size=3,\n",
        "                               stride=1, padding=1, bias=False)\n",
        "        self.bn1 = nn.BatchNorm2d(64)\n",
        "        self.layer1 = self._make_layer(block, 64, num_blocks[0], stride=1)\n",
        "        self.layer2 = self._make_layer(block, 128, num_blocks[1], stride=2)\n",
        "        self.layer3 = self._make_layer(block, 256, num_blocks[2], stride=2)\n",
        "        self.layer4 = self._make_layer(block, 512, num_blocks[3], stride=2)\n",
        "        self.linear = nn.Linear(512*block.expansion, num_classes)\n",
        "\n",
        "    def _make_layer(self, block, planes, num_blocks, stride):\n",
        "        strides = [stride] + [1]*(num_blocks-1)\n",
        "        layers = []\n",
        "        for stride in strides:\n",
        "            layers.append(block(self.in_planes, planes, stride))\n",
        "            self.in_planes = planes * block.expansion\n",
        "        return nn.Sequential(*layers)\n",
        "\n",
        "    def forward(self, x):\n",
        "        out = F.relu(self.bn1(self.conv1(x)))\n",
        "        out = self.layer1(out)\n",
        "        out = self.layer2(out)\n",
        "        out = self.layer3(out)\n",
        "        out = self.layer4(out)\n",
        "        out = F.avg_pool2d(out, 4)\n",
        "        out = out.view(out.size(0), -1)\n",
        "        out = self.linear(out)\n",
        "        return out\n",
        "\n",
        "\n",
        "def ResNet18():\n",
        "    return ResNet(BasicBlock, [2, 2, 2, 2])\n",
        "\n",
        "\n",
        "def ResNet34():\n",
        "    return ResNet(BasicBlock, [3, 4, 6, 3])\n",
        "\n",
        "\n",
        "def ResNet50():\n",
        "    return ResNet(Bottleneck, [3, 4, 6, 3])\n",
        "\n",
        "\n",
        "def ResNet101():\n",
        "    return ResNet(Bottleneck, [3, 4, 23, 3])\n",
        "\n",
        "\n",
        "def ResNet152():\n",
        "    return ResNet(Bottleneck, [3, 8, 36, 3])\n",
        "\n",
        "\n",
        "def test():\n",
        "    net = ResNet18()\n",
        "    y = net(torch.randn(1, 3, 32, 32))\n",
        "    print(y.size())\n",
        "\n",
        "#test()"
      ],
      "execution_count": 4,
      "outputs": []
    },
    {
      "cell_type": "code",
      "metadata": {
        "id": "wLT_Mga_oBeM"
      },
      "source": [
        "from torchvision import models\n",
        "\n",
        "model = ResNet18() # set model here\n",
        "#in_ftr = model.fc.in_features\n",
        "#out_ftr = n_classes\n",
        "#model.fc = nn.Linear(in_ftr,out_ftr,bias=True)\n",
        "    \n",
        "dataset_train = BasicDataset(X_train, y_train)\n",
        "dataset_test = BasicDataset(X_test, y_test)"
      ],
      "execution_count": 5,
      "outputs": []
    },
    {
      "cell_type": "markdown",
      "metadata": {
        "id": "cF6YjzS0oBeM"
      },
      "source": [
        "Check specs for GPU-based training."
      ]
    },
    {
      "cell_type": "code",
      "metadata": {
        "id": "tugjnJ_loBeM",
        "outputId": "9f095cf4-fbfe-4e74-c2cc-c361b5e97f52",
        "colab": {
          "base_uri": "https://localhost:8080/"
        }
      },
      "source": [
        "print('cuda available:', torch.cuda.is_available())\n",
        "print('cuda device name:', torch.cuda.get_device_name())\n",
        "print('cuda device id', torch.cuda.current_device())"
      ],
      "execution_count": 6,
      "outputs": [
        {
          "output_type": "stream",
          "name": "stdout",
          "text": [
            "cuda available: True\n",
            "cuda device name: Tesla K80\n",
            "cuda device id 0\n"
          ]
        }
      ]
    },
    {
      "cell_type": "markdown",
      "metadata": {
        "id": "PzbZjD3zoBeN"
      },
      "source": [
        "Move model and data to GPU."
      ]
    },
    {
      "cell_type": "code",
      "metadata": {
        "id": "RGTE2f0roBeN",
        "outputId": "1f5e99df-bd50-4480-ad8c-cfb539e9ae6c",
        "colab": {
          "base_uri": "https://localhost:8080/"
        }
      },
      "source": [
        "device = torch.device(\"cuda:0\" if torch.cuda.is_available() else \"cpu\")\n",
        "model.to(device)\n",
        "X_train.to(device)\n",
        "print('worked?', X_train.to(device).is_cuda)"
      ],
      "execution_count": 7,
      "outputs": [
        {
          "output_type": "stream",
          "name": "stdout",
          "text": [
            "worked? True\n"
          ]
        }
      ]
    },
    {
      "cell_type": "markdown",
      "metadata": {
        "id": "RMIklYTpoBeN"
      },
      "source": [
        "## Training"
      ]
    },
    {
      "cell_type": "code",
      "metadata": {
        "id": "nwUuhfZeoBeN"
      },
      "source": [
        "from typing import List\n",
        "from torch import Tensor\n",
        "\n",
        "class SGD(optim.Optimizer):\n",
        "\n",
        "    def __init__(self, params, lr, momentum=0, dampening=0,\n",
        "                 weight_decay=0, nesterov=False):\n",
        "        if momentum < 0.0:\n",
        "            raise ValueError(\"Invalid momentum value: {}\".format(momentum))\n",
        "        if weight_decay < 0.0:\n",
        "            raise ValueError(\"Invalid weight_decay value: {}\".format(weight_decay))\n",
        "\n",
        "        defaults = dict(lr=lr, momentum=momentum, dampening=dampening,\n",
        "                        weight_decay=weight_decay, nesterov=nesterov)\n",
        "        if nesterov and (momentum <= 0 or dampening != 0):\n",
        "            raise ValueError(\"Nesterov momentum requires a momentum and zero dampening\")\n",
        "        super(SGD, self).__init__(params, defaults)\n",
        "\n",
        "    def __setstate__(self, state):\n",
        "        super(SGD, self).__setstate__(state)\n",
        "        for group in self.param_groups:\n",
        "            group.setdefault('nesterov', False)\n",
        "\n",
        "    @torch.no_grad()\n",
        "    def step(self, my_lr, closure=None):\n",
        "        \"\"\"Performs a single optimization step.\n",
        "        Args:\n",
        "            closure (callable, optional): A closure that reevaluates the model\n",
        "                and returns the loss.\n",
        "        \"\"\"\n",
        "\n",
        "        for group in self.param_groups:\n",
        "            params_with_grad = []\n",
        "            d_p_list = []\n",
        "            momentum_buffer_list = []\n",
        "            weight_decay = group['weight_decay']\n",
        "            momentum = group['momentum']\n",
        "            dampening = group['dampening']\n",
        "            nesterov = group['nesterov']\n",
        "            lr = group['lr']\n",
        "\n",
        "            for p in group['params']:\n",
        "                if p.grad is not None:\n",
        "                    params_with_grad.append(p)\n",
        "                    d_p_list.append(p.grad)\n",
        "\n",
        "                    state = self.state[p]\n",
        "                    if 'momentum_buffer' not in state:\n",
        "                        momentum_buffer_list.append(None)\n",
        "                    else:\n",
        "                        momentum_buffer_list.append(state['momentum_buffer'])\n",
        "\n",
        "            sgd(params_with_grad,\n",
        "                  d_p_list,\n",
        "                  momentum_buffer_list,\n",
        "                  weight_decay=weight_decay,\n",
        "                  momentum=momentum,\n",
        "                  lr=my_lr,\n",
        "                  dampening=dampening,\n",
        "                  nesterov=nesterov)\n",
        "\n",
        "            # update momentum_buffers in state\n",
        "            for p, momentum_buffer in zip(params_with_grad, momentum_buffer_list):\n",
        "                state = self.state[p]\n",
        "                state['momentum_buffer'] = momentum_buffer\n",
        "\n",
        "\n",
        "def sgd(params: List[Tensor],\n",
        "        d_p_list: List[Tensor],\n",
        "        momentum_buffer_list=None,\n",
        "        *,\n",
        "        weight_decay: float,\n",
        "        momentum: float,\n",
        "        lr: float,\n",
        "        dampening: float,\n",
        "        nesterov: bool):\n",
        "    r\"\"\"Functional API that performs SGD algorithm computation.\n",
        "    See :class:`~torch.optim.SGD` for details.\n",
        "    \"\"\"\n",
        "\n",
        "    for i, param in enumerate(params):\n",
        "\n",
        "        d_p = d_p_list[i]\n",
        "        if weight_decay != 0:\n",
        "            d_p = d_p.add(param, alpha=weight_decay)\n",
        "\n",
        "        if momentum != 0:\n",
        "            buf = momentum_buffer_list[i]\n",
        "\n",
        "            if buf is None:\n",
        "                buf = torch.clone(d_p).detach()\n",
        "                momentum_buffer_list[i] = buf\n",
        "            else:\n",
        "                buf.mul_(momentum).add_(d_p, alpha=1 - dampening)\n",
        "\n",
        "            if nesterov:\n",
        "                d_p = d_p.add(buf, alpha=momentum)\n",
        "            else:\n",
        "                d_p = buf\n",
        "\n",
        "        param.add_(d_p, alpha=-lr)"
      ],
      "execution_count": 8,
      "outputs": []
    },
    {
      "cell_type": "code",
      "metadata": {
        "id": "hVnGWB50oBeO"
      },
      "source": [
        "def evaluate_model(model, dataset, batch_size=100):\n",
        "    \n",
        "    data_loader = data.DataLoader(dataset=dataset, batch_size=batch_size, shuffle=False, drop_last=False)\n",
        "    loss = 0.0\n",
        "    correct = 0\n",
        "    \n",
        "    for batch in data_loader:\n",
        "        yhat = model.forward(batch['X'].float().to(device))\n",
        "        y = batch['y'].long().to(device)\n",
        "        batch_loss = f_loss(yhat, y)\n",
        "        loss += batch_loss.item() * len(batch['X'])\n",
        "        correct += (torch.argmax(yhat, dim=1) == y).float().sum().item()\n",
        "    accuracy = correct / len(dataset)\n",
        "    print('accuracy:', f'{accuracy * 100}%')\n",
        "    \n",
        "    return loss, accuracy\n",
        "\n",
        "def get_scheduler(optimizer, base_lr, max_lr, epochs_per_cycle, len_dataset, batch_size):\n",
        "    if epochs_per_cycle is None:\n",
        "        epochs_per_cycle = epochs\n",
        "    iterations_per_cycle = epochs_per_cycle * (len_dataset // batch_size)\n",
        "    return torch.optim.lr_scheduler.CyclicLR(optimizer, base_lr, max_lr, step_size_up=iterations_per_cycle / 2)"
      ],
      "execution_count": 9,
      "outputs": []
    },
    {
      "cell_type": "code",
      "metadata": {
        "id": "FvwIsHpMoBeO"
      },
      "source": [
        "import random\n",
        "\n",
        "def train_model(model, dataset, validation_set, base_lr=0.01, max_lr=0.01, batch_size=64, epochs=1, \n",
        "                f_opt=optim.SGD, f_loss=F.cross_entropy, epochs_per_cycle=None):\n",
        "    \n",
        "    optimizer = f_opt(model.parameters(), lr=base_lr)\n",
        "    scheduler = get_scheduler(optimizer, base_lr, max_lr, epochs_per_cycle, len(dataset), batch_size)\n",
        "    lr_history = []\n",
        "    validation_accuracy = []\n",
        "    epoch_losses = []\n",
        "    validation_losses = []\n",
        "    \n",
        "    # evaluate initial state of model\n",
        "    initial_training_loss, _ = evaluate_model(model, dataset)\n",
        "    epoch_losses.append(initial_training_loss)\n",
        "    validation_loss, accuracy = evaluate_model(model, validation_set)\n",
        "    validation_losses.append(validation_loss)\n",
        "    validation_accuracy.append(accuracy)\n",
        "\n",
        "    for epoch in range(epochs):\n",
        "        # training and epoch loss logging\n",
        "        # drop last to avoid stochastic outliers in gradient update\n",
        "        data_loader = data.DataLoader(dataset=dataset, batch_size=batch_size, shuffle=True, drop_last=True)\n",
        "        epoch_loss = 0.0 \n",
        "        for batch in data_loader:\n",
        "            model.zero_grad()\n",
        "            yhat = model.forward(batch['X'].float().to(device))\n",
        "            batch_loss = f_loss(yhat, batch['y'].long().to(device))\n",
        "            epoch_loss += batch_loss.item() * len(batch['X'])\n",
        "            batch_loss.backward()\n",
        "            new_lr = random.uniform(base_lr, max_lr)\n",
        "            optimizer.step(new_lr)\n",
        "            lr_history.append(new_lr)\n",
        "            #scheduler.step()\n",
        "            #lr_history.append(scheduler.get_last_lr()[0])\n",
        "        print(f'Epoch {epoch+1}/{epochs} - Loss: {epoch_loss / len(dataset)} - LR: {new_lr}') #LR: {scheduler.get_last_lr()[0]}')\n",
        "        epoch_losses.append(epoch_loss)\n",
        "        \n",
        "        # calculate validation loss and accuracy\n",
        "        validation_loss, accuracy = evaluate_model(model, validation_set)\n",
        "        validation_losses.append(validation_loss)\n",
        "        validation_accuracy.append(accuracy)\n",
        "        \n",
        "    return (np.array(epoch_losses) / len(dataset), \n",
        "            np.array(validation_losses) / len(validation_set), \n",
        "            validation_accuracy, \n",
        "            lr_history)"
      ],
      "execution_count": 10,
      "outputs": []
    },
    {
      "cell_type": "code",
      "metadata": {
        "id": "0xX9b8zdoBeP"
      },
      "source": [
        "base_lr = 0.001\n",
        "max_lr = 1.0\n",
        "batch_size = 128\n",
        "epochs = 100\n",
        "f_opt = SGD\n",
        "f_loss = F.cross_entropy\n",
        "cycle = epochs\n",
        "\n",
        "training_loss, validation_loss, validation_accuracy, lr_history = train_model(model.to(device),\n",
        "                                                                              dataset_train,\n",
        "                                                                              dataset_test,\n",
        "                                                                              base_lr,\n",
        "                                                                              max_lr,\n",
        "                                                                              batch_size,\n",
        "                                                                              epochs,\n",
        "                                                                              f_opt,\n",
        "                                                                              f_loss,\n",
        "                                                                              cycle)"
      ],
      "execution_count": null,
      "outputs": []
    },
    {
      "cell_type": "code",
      "metadata": {
        "id": "hBghF68BoBeP"
      },
      "source": [
        "plt.plot(training_loss, label='training loss')\n",
        "plt.plot(validation_loss, label='validation loss')\n",
        "plt.xlabel('Epochs')\n",
        "plt.ylabel('Mean Cross Entropy Loss')\n",
        "#plt.ylim(0.0, 10)\n",
        "plt.legend()"
      ],
      "execution_count": null,
      "outputs": []
    },
    {
      "cell_type": "code",
      "metadata": {
        "id": "O6mmuyZBoBeP"
      },
      "source": [
        "plt.plot(lr_history)"
      ],
      "execution_count": null,
      "outputs": []
    },
    {
      "cell_type": "code",
      "metadata": {
        "id": "6lwIWoyJoBeQ"
      },
      "source": [
        "plt.plot(validation_accuracy)\n",
        "print(max(validation_accuracy))"
      ],
      "execution_count": null,
      "outputs": []
    },
    {
      "cell_type": "code",
      "metadata": {
        "id": "B_JGjEJ1oBeQ"
      },
      "source": [
        "import csv\n",
        "from google.colab import files\n",
        "\n",
        "with open('train_loss', 'w') as f:\n",
        "    write = csv.writer(f)\n",
        "    write.writerow(training_loss)\n",
        "\n",
        "with open('val_loss', 'w') as f: \n",
        "    write = csv.writer(f)  \n",
        "    write.writerow(validation_loss)\n",
        "\n",
        "with open('val_accuracy', 'w') as f: \n",
        "    write = csv.writer(f)  \n",
        "    write.writerow(validation_accuracy)\n",
        "    \n",
        "with open('lr_history', 'w') as f: \n",
        "    write = csv.writer(f)  \n",
        "    write.writerow(lr_history)\n",
        "\n",
        "files.download('train_loss')\n",
        "files.download('val_loss')\n",
        "files.download('val_accuracy')\n",
        "files.download('lr_history')"
      ],
      "execution_count": null,
      "outputs": []
    }
  ]
}